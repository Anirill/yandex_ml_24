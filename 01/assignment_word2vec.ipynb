{
 "cells": [
  {
   "cell_type": "markdown",
   "metadata": {
    "id": "nTSf4ro-qU0d"
   },
   "source": [
    "## Бонусное задание: word2vec на PyTorch\n",
    "\n",
    "Как вы уже могли заметить, идея, лежащая в основе [word2vec](https://arxiv.org/pdf/1310.4546), достаточно общая. В данном задании вы реализуете его самостоятельно.\n",
    "\n",
    "Дисклеймер: не стоит удивляться тому, что реализация от `gensim` (или аналоги) обучается быстрее и работает точнее. Она использует множество доработок и ускорений, а также достаточно эффективный код. Ваша задача добиться промежуточных результатов за разумное время.\n",
    "\n",
    "P.s. Как ни странно, GPU в этом задании нам не потребуется."
   ]
  },
  {
   "cell_type": "markdown",
   "metadata": {
    "id": "sLwgtlLdN-yq"
   },
   "source": [
    "__Requirements:__ if you're running locally, in the selected environment run the following command:\n",
    "\n",
    "```pip install --upgrade nltk bokeh umap-learn```\n"
   ]
  },
  {
   "cell_type": "code",
   "execution_count": 1,
   "metadata": {
    "colab": {
     "base_uri": "https://localhost:8080/"
    },
    "id": "Oipe2DU8qfm7",
    "outputId": "6fc0d814-ee95-4559-fb9b-cc6df976dc07"
   },
   "outputs": [
    {
     "name": "stdout",
     "output_type": "stream",
     "text": [
      "Collecting nltk\n",
      "  Obtaining dependency information for nltk from https://files.pythonhosted.org/packages/4d/66/7d9e26593edda06e8cb531874633f7c2372279c3b0f46235539fe546df8b/nltk-3.9.1-py3-none-any.whl.metadata\n",
      "  Downloading nltk-3.9.1-py3-none-any.whl.metadata (2.9 kB)\n",
      "Collecting bokeh\n",
      "  Obtaining dependency information for bokeh from https://files.pythonhosted.org/packages/6c/db/5fa8025ff1819f46d50a1284cf3b79774f68d69f6472b53a73716753d083/bokeh-3.6.0-py3-none-any.whl.metadata\n",
      "  Downloading bokeh-3.6.0-py3-none-any.whl.metadata (12 kB)\n",
      "Collecting umap-learn\n",
      "  Obtaining dependency information for umap-learn from https://files.pythonhosted.org/packages/3c/8f/671c0e1f2572ba625cbcc1faeba9435e00330c3d6962858711445cf1e817/umap_learn-0.5.7-py3-none-any.whl.metadata\n",
      "  Downloading umap_learn-0.5.7-py3-none-any.whl.metadata (21 kB)\n",
      "Requirement already satisfied: click in /home/ak/miniconda3/envs/jup/lib/python3.10/site-packages (from nltk) (8.1.7)\n",
      "Requirement already satisfied: joblib in /home/ak/miniconda3/envs/jup/lib/python3.10/site-packages (from nltk) (1.3.2)\n",
      "Collecting regex>=2021.8.3 (from nltk)\n",
      "  Obtaining dependency information for regex>=2021.8.3 from https://files.pythonhosted.org/packages/cb/19/556638aa11c2ec9968a1da998f07f27ec0abb9bf3c647d7c7985ca0b8eea/regex-2024.9.11-cp310-cp310-manylinux_2_17_x86_64.manylinux2014_x86_64.whl.metadata\n",
      "  Downloading regex-2024.9.11-cp310-cp310-manylinux_2_17_x86_64.manylinux2014_x86_64.whl.metadata (40 kB)\n",
      "\u001b[2K     \u001b[90m━━━━━━━━━━━━━━━━━━━━━━━━━━━━━━━━━━━━━━━━\u001b[0m \u001b[32m40.5/40.5 kB\u001b[0m \u001b[31m1.8 MB/s\u001b[0m eta \u001b[36m0:00:00\u001b[0m\n",
      "\u001b[?25hRequirement already satisfied: tqdm in /home/ak/miniconda3/envs/jup/lib/python3.10/site-packages (from nltk) (4.64.1)\n",
      "Requirement already satisfied: Jinja2>=2.9 in /home/ak/.local/lib/python3.10/site-packages (from bokeh) (3.1.2)\n",
      "Collecting contourpy>=1.2 (from bokeh)\n",
      "  Obtaining dependency information for contourpy>=1.2 from https://files.pythonhosted.org/packages/99/e6/d11966962b1aa515f5586d3907ad019f4b812c04e4546cc19ebf62b5178e/contourpy-1.3.0-cp310-cp310-manylinux_2_17_x86_64.manylinux2014_x86_64.whl.metadata\n",
      "  Downloading contourpy-1.3.0-cp310-cp310-manylinux_2_17_x86_64.manylinux2014_x86_64.whl.metadata (5.4 kB)\n",
      "Requirement already satisfied: numpy>=1.16 in /home/ak/miniconda3/envs/jup/lib/python3.10/site-packages (from bokeh) (1.26.0)\n",
      "Requirement already satisfied: packaging>=16.8 in /home/ak/.local/lib/python3.10/site-packages (from bokeh) (23.0)\n",
      "Requirement already satisfied: pandas>=1.2 in /home/ak/miniconda3/envs/jup/lib/python3.10/site-packages (from bokeh) (2.1.1)\n",
      "Requirement already satisfied: pillow>=7.1.0 in /home/ak/miniconda3/envs/jup/lib/python3.10/site-packages (from bokeh) (9.4.0)\n",
      "Requirement already satisfied: PyYAML>=3.10 in /home/ak/miniconda3/envs/jup/lib/python3.10/site-packages (from bokeh) (6.0)\n",
      "Requirement already satisfied: tornado>=6.2 in /home/ak/.local/lib/python3.10/site-packages (from bokeh) (6.2)\n",
      "Requirement already satisfied: xyzservices>=2021.09.1 in /home/ak/miniconda3/envs/jup/lib/python3.10/site-packages (from bokeh) (2024.4.0)\n",
      "Requirement already satisfied: scipy>=1.3.1 in /home/ak/miniconda3/envs/jup/lib/python3.10/site-packages (from umap-learn) (1.11.3)\n",
      "Requirement already satisfied: scikit-learn>=0.22 in /home/ak/miniconda3/envs/jup/lib/python3.10/site-packages (from umap-learn) (1.3.0)\n",
      "Collecting numba>=0.51.2 (from umap-learn)\n",
      "  Obtaining dependency information for numba>=0.51.2 from https://files.pythonhosted.org/packages/79/58/cb4ac5b8f7ec64200460aef1fed88258fb872ceef504ab1f989d2ff0f684/numba-0.60.0-cp310-cp310-manylinux2014_x86_64.manylinux_2_17_x86_64.whl.metadata\n",
      "  Downloading numba-0.60.0-cp310-cp310-manylinux2014_x86_64.manylinux_2_17_x86_64.whl.metadata (2.7 kB)\n",
      "Collecting pynndescent>=0.5 (from umap-learn)\n",
      "  Obtaining dependency information for pynndescent>=0.5 from https://files.pythonhosted.org/packages/d2/53/d23a97e0a2c690d40b165d1062e2c4ccc796be458a1ce59f6ba030434663/pynndescent-0.5.13-py3-none-any.whl.metadata\n",
      "  Downloading pynndescent-0.5.13-py3-none-any.whl.metadata (6.8 kB)\n",
      "Requirement already satisfied: MarkupSafe>=2.0 in /home/ak/.local/lib/python3.10/site-packages (from Jinja2>=2.9->bokeh) (2.1.2)\n",
      "Collecting llvmlite<0.44,>=0.43.0dev0 (from numba>=0.51.2->umap-learn)\n",
      "  Obtaining dependency information for llvmlite<0.44,>=0.43.0dev0 from https://files.pythonhosted.org/packages/c6/21/2ffbab5714e72f2483207b4a1de79b2eecd9debbf666ff4e7067bcc5c134/llvmlite-0.43.0-cp310-cp310-manylinux_2_17_x86_64.manylinux2014_x86_64.whl.metadata\n",
      "  Downloading llvmlite-0.43.0-cp310-cp310-manylinux_2_17_x86_64.manylinux2014_x86_64.whl.metadata (4.8 kB)\n",
      "Requirement already satisfied: python-dateutil>=2.8.2 in /home/ak/.local/lib/python3.10/site-packages (from pandas>=1.2->bokeh) (2.8.2)\n",
      "Requirement already satisfied: pytz>=2020.1 in /home/ak/miniconda3/envs/jup/lib/python3.10/site-packages (from pandas>=1.2->bokeh) (2023.3.post1)\n",
      "Requirement already satisfied: tzdata>=2022.1 in /home/ak/miniconda3/envs/jup/lib/python3.10/site-packages (from pandas>=1.2->bokeh) (2023.3)\n",
      "Requirement already satisfied: threadpoolctl>=2.0.0 in /home/ak/miniconda3/envs/jup/lib/python3.10/site-packages (from scikit-learn>=0.22->umap-learn) (3.2.0)\n",
      "Requirement already satisfied: six>=1.5 in /home/ak/miniconda3/envs/jup/lib/python3.10/site-packages (from python-dateutil>=2.8.2->pandas>=1.2->bokeh) (1.16.0)\n",
      "Downloading nltk-3.9.1-py3-none-any.whl (1.5 MB)\n",
      "\u001b[2K   \u001b[90m━━━━━━━━━━━━━━━━━━━━━━━━━━━━━━━━━━━━━━━━\u001b[0m \u001b[32m1.5/1.5 MB\u001b[0m \u001b[31m6.6 MB/s\u001b[0m eta \u001b[36m0:00:00\u001b[0ma \u001b[36m0:00:01\u001b[0m\n",
      "\u001b[?25hDownloading bokeh-3.6.0-py3-none-any.whl (6.9 MB)\n",
      "\u001b[2K   \u001b[90m━━━━━━━━━━━━━━━━━━━━━━━━━━━━━━━━━━━━━━━━\u001b[0m \u001b[32m6.9/6.9 MB\u001b[0m \u001b[31m23.7 MB/s\u001b[0m eta \u001b[36m0:00:00\u001b[0m00:01\u001b[0m00:01\u001b[0m\n",
      "\u001b[?25hDownloading umap_learn-0.5.7-py3-none-any.whl (88 kB)\n",
      "\u001b[2K   \u001b[90m━━━━━━━━━━━━━━━━━━━━━━━━━━━━━━━━━━━━━━━━\u001b[0m \u001b[32m88.8/88.8 kB\u001b[0m \u001b[31m22.6 MB/s\u001b[0m eta \u001b[36m0:00:00\u001b[0m\n",
      "\u001b[?25hDownloading contourpy-1.3.0-cp310-cp310-manylinux_2_17_x86_64.manylinux2014_x86_64.whl (322 kB)\n",
      "\u001b[2K   \u001b[90m━━━━━━━━━━━━━━━━━━━━━━━━━━━━━━━━━━━━━━━━\u001b[0m \u001b[32m322.0/322.0 kB\u001b[0m \u001b[31m31.9 MB/s\u001b[0m eta \u001b[36m0:00:00\u001b[0m\n",
      "\u001b[?25hDownloading numba-0.60.0-cp310-cp310-manylinux2014_x86_64.manylinux_2_17_x86_64.whl (3.7 MB)\n",
      "\u001b[2K   \u001b[90m━━━━━━━━━━━━━━━━━━━━━━━━━━━━━━━━━━━━━━━━\u001b[0m \u001b[32m3.7/3.7 MB\u001b[0m \u001b[31m24.7 MB/s\u001b[0m eta \u001b[36m0:00:00\u001b[0ma \u001b[36m0:00:01\u001b[0m\n",
      "\u001b[?25hDownloading pynndescent-0.5.13-py3-none-any.whl (56 kB)\n",
      "\u001b[2K   \u001b[90m━━━━━━━━━━━━━━━━━━━━━━━━━━━━━━━━━━━━━━━━\u001b[0m \u001b[32m56.9/56.9 kB\u001b[0m \u001b[31m18.9 MB/s\u001b[0m eta \u001b[36m0:00:00\u001b[0m\n",
      "\u001b[?25hDownloading regex-2024.9.11-cp310-cp310-manylinux_2_17_x86_64.manylinux2014_x86_64.whl (782 kB)\n",
      "\u001b[2K   \u001b[90m━━━━━━━━━━━━━━━━━━━━━━━━━━━━━━━━━━━━━━━━\u001b[0m \u001b[32m782.7/782.7 kB\u001b[0m \u001b[31m33.2 MB/s\u001b[0m eta \u001b[36m0:00:00\u001b[0m\n",
      "\u001b[?25hDownloading llvmlite-0.43.0-cp310-cp310-manylinux_2_17_x86_64.manylinux2014_x86_64.whl (43.9 MB)\n",
      "\u001b[2K   \u001b[90m━━━━━━━━━━━━━━━━━━━━━━━━━━━━━━━━━━━━━━━━\u001b[0m \u001b[32m43.9/43.9 MB\u001b[0m \u001b[31m18.2 MB/s\u001b[0m eta \u001b[36m0:00:00\u001b[0m00:01\u001b[0m00:01\u001b[0m\n",
      "\u001b[?25hInstalling collected packages: regex, llvmlite, contourpy, numba, nltk, pynndescent, bokeh, umap-learn\n",
      "  Attempting uninstall: contourpy\n",
      "    Found existing installation: contourpy 1.0.7\n",
      "    Uninstalling contourpy-1.0.7:\n",
      "      Successfully uninstalled contourpy-1.0.7\n",
      "Successfully installed bokeh-3.6.0 contourpy-1.2.0 llvmlite-0.43.0 nltk-3.9.1 numba-0.60.0 pynndescent-0.5.13 regex-2024.9.11 umap-learn-0.5.7\n"
     ]
    }
   ],
   "source": [
    "!pip install --upgrade nltk bokeh umap-learn"
   ]
  },
  {
   "cell_type": "code",
   "execution_count": 2,
   "metadata": {
    "id": "pqPU4Lu2qU0h"
   },
   "outputs": [],
   "source": [
    "import itertools\n",
    "import random\n",
    "import string\n",
    "from collections import Counter\n",
    "from itertools import chain\n",
    "\n",
    "import matplotlib.pyplot as plt\n",
    "import numpy as np\n",
    "import torch\n",
    "import torch.autograd as autograd\n",
    "import torch.nn as nn\n",
    "import torch.nn.functional as F\n",
    "import torch.optim as optim\n",
    "import umap\n",
    "from IPython.display import clear_output\n",
    "from matplotlib import pyplot as plt\n",
    "from nltk.tokenize import WordPunctTokenizer\n",
    "from torch.optim.lr_scheduler import ReduceLROnPlateau, StepLR\n",
    "from tqdm.auto import tqdm as tqdma"
   ]
  },
  {
   "cell_type": "code",
   "execution_count": null,
   "metadata": {
    "colab": {
     "base_uri": "https://localhost:8080/"
    },
    "id": "8Fbx57z3qU0i",
    "outputId": "63986cad-132d-4b02-c2af-63c34016f45f"
   },
   "outputs": [
    {
     "name": "stdout",
     "output_type": "stream",
     "text": [
      "--2024-10-30 15:35:43--  https://yadi.sk/i/BPQrUu1NaTduEw\n",
      "Resolving yadi.sk (yadi.sk)... 87.250.250.50, 2a02:6b8::2:50\n",
      "Connecting to yadi.sk (yadi.sk)|87.250.250.50|:443... connected.\n",
      "HTTP request sent, awaiting response... 302 Found\n",
      "Location: https://disk.yandex.com/i/BPQrUu1NaTduEw [following]\n",
      "--2024-10-30 15:35:44--  https://disk.yandex.com/i/BPQrUu1NaTduEw\n",
      "Resolving disk.yandex.com (disk.yandex.com)... 87.250.250.50, 2a02:6b8::2:50\n",
      "Connecting to disk.yandex.com (disk.yandex.com)|87.250.250.50|:443... connected.\n",
      "HTTP request sent, awaiting response... 200 OK\n",
      "Length: 63428 (62K) [text/html]\n",
      "Saving to: ‘./quora.txt’\n",
      "\n",
      "./quora.txt         100%[===================>]  61.94K   196KB/s    in 0.3s    \n",
      "\n",
      "2024-10-30 15:35:45 (196 KB/s) - ‘./quora.txt’ saved [63428/63428]\n",
      "\n"
     ]
    }
   ],
   "source": [
    "# download the data:\n",
    "# !wget https://www.dropbox.com/s/obaitrix9jyu84r/quora.txt?dl=1 -O ./quora.txt -nc\n",
    "!wget https://yadi.sk/i/BPQrUu1NaTduEw -O ./quora.txt -nc\n",
    "# alternative download link: https://yadi.sk/i/BPQrUu1NaTduEw"
   ]
  },
  {
   "cell_type": "code",
   "execution_count": 3,
   "metadata": {
    "colab": {
     "base_uri": "https://localhost:8080/",
     "height": 36
    },
    "id": "8EYy5dQpqU0i",
    "outputId": "4d2af82b-3847-48fa-bbd6-2f9a4827d768",
    "scrolled": false
   },
   "outputs": [
    {
     "data": {
      "text/plain": [
       "\"What TV shows or books help you read people's body language?\\n\""
      ]
     },
     "execution_count": 3,
     "metadata": {},
     "output_type": "execute_result"
    }
   ],
   "source": [
    "data = list(open(\"./quora.txt\", encoding=\"utf-8\"))\n",
    "data[50]"
   ]
  },
  {
   "cell_type": "markdown",
   "metadata": {
    "id": "feBEGI2eqU0j"
   },
   "source": [
    "Токенизация – первый шаг.\n",
    "Тексты, с которыми мы работаем, включают в себя пунктуацию, смайлики и прочие нестандартные токены, так что простой `str.split` не подойдет.\n",
    "\n",
    "Обратимся к `nltk` - библиотеку, нашла широкое применеие в области NLP."
   ]
  },
  {
   "cell_type": "code",
   "execution_count": 4,
   "metadata": {
    "colab": {
     "base_uri": "https://localhost:8080/"
    },
    "id": "7mWTvm50qU0j",
    "outputId": "944ceec4-0132-4705-ef40-31136f360095"
   },
   "outputs": [
    {
     "name": "stdout",
     "output_type": "stream",
     "text": [
      "['What', 'TV', 'shows', 'or', 'books', 'help', 'you', 'read', 'people', \"'\", 's', 'body', 'language', '?']\n"
     ]
    }
   ],
   "source": [
    "tokenizer = WordPunctTokenizer()\n",
    "\n",
    "print(tokenizer.tokenize(data[50]))"
   ]
  },
  {
   "cell_type": "code",
   "execution_count": 5,
   "metadata": {
    "id": "HzC05EHWqU0j"
   },
   "outputs": [],
   "source": [
    "data_tok = [\n",
    "    tokenizer.tokenize(\n",
    "        line.translate(str.maketrans(\"\", \"\", string.punctuation)).lower()\n",
    "    )\n",
    "    for line in data\n",
    "]\n",
    "data_tok = [x for x in data_tok if len(x) >= 3]"
   ]
  },
  {
   "cell_type": "markdown",
   "metadata": {
    "id": "6azRAgHIqU0k"
   },
   "source": [
    "Несколько проверок:"
   ]
  },
  {
   "cell_type": "code",
   "execution_count": 6,
   "metadata": {
    "id": "Cp8UpxdWqU0k"
   },
   "outputs": [],
   "source": [
    "assert all(\n",
    "    isinstance(row, (list, tuple)) for row in data_tok\n",
    "), \"please convert each line into a list of tokens (strings)\"\n",
    "assert all(\n",
    "    all(isinstance(tok, str) for tok in row) for row in data_tok\n",
    "), \"please convert each line into a list of tokens (strings)\"\n",
    "is_latin = lambda tok: all(\"a\" <= x.lower() <= \"z\" for x in tok)\n",
    "assert all(\n",
    "    map(lambda l: not is_latin(l) or l.islower(), map(\" \".join, data_tok))\n",
    "), \"please make sure to lowercase the data\""
   ]
  },
  {
   "cell_type": "markdown",
   "metadata": {
    "id": "37e7-MIhqU0x"
   },
   "source": [
    "Ниже заданы константы ширины окна контекста и проведена предобработка для построения skip-gram модели."
   ]
  },
  {
   "cell_type": "code",
   "execution_count": 7,
   "metadata": {
    "id": "fugc1IomqU0x"
   },
   "outputs": [],
   "source": [
    "min_count = 5\n",
    "window_radius = 5"
   ]
  },
  {
   "cell_type": "code",
   "execution_count": 8,
   "metadata": {
    "id": "5sTTsIMDN-yt"
   },
   "outputs": [],
   "source": [
    "vocabulary_with_counter = Counter(chain.from_iterable(data_tok))\n",
    "\n",
    "word_count_dict = dict()\n",
    "for word, counter in vocabulary_with_counter.items():\n",
    "    if counter >= min_count:\n",
    "        word_count_dict[word] = counter\n",
    "\n",
    "vocabulary = set(word_count_dict.keys())\n",
    "del vocabulary_with_counter"
   ]
  },
  {
   "cell_type": "code",
   "execution_count": 9,
   "metadata": {
    "id": "8M2pZXg4N-yu"
   },
   "outputs": [],
   "source": [
    "word_to_index = {word: index for index, word in enumerate(vocabulary)}\n",
    "index_to_word = {index: word for word, index in word_to_index.items()}"
   ]
  },
  {
   "cell_type": "markdown",
   "metadata": {
    "id": "4Y8rlBfqqU0x"
   },
   "source": [
    "Пары `(слово, контекст)` на основе доступного датасета сгенерированы ниже."
   ]
  },
  {
   "cell_type": "code",
   "execution_count": 10,
   "metadata": {
    "colab": {
     "base_uri": "https://localhost:8080/"
    },
    "id": "h2-aqyyaqU0x",
    "outputId": "285f0343-42b2-48d1-889d-14165a791642"
   },
   "outputs": [
    {
     "name": "stdout",
     "output_type": "stream",
     "text": [
      "Generated 40220313 pairs of target and context words.\n"
     ]
    }
   ],
   "source": [
    "context_pairs = []\n",
    "\n",
    "for text in data_tok:\n",
    "    for i, central_word in enumerate(text):\n",
    "        context_indices = range(\n",
    "            max(0, i - window_radius), min(i + window_radius, len(text))\n",
    "        )\n",
    "        for j in context_indices:\n",
    "            if j == i:\n",
    "                continue\n",
    "            context_word = text[j]\n",
    "            if central_word in vocabulary and context_word in vocabulary:\n",
    "                context_pairs.append(\n",
    "                    (word_to_index[central_word], word_to_index[context_word])\n",
    "                )\n",
    "\n",
    "print(f\"Generated {len(context_pairs)} pairs of target and context words.\")"
   ]
  },
  {
   "cell_type": "markdown",
   "metadata": {
    "id": "kzNfRa8LN-yu"
   },
   "source": [
    "#### Подзадача №1: subsampling\n",
    "Для того, чтобы сгладить разницу в частоте встречаемсости слов, необходимо реализовать механизм subsampling'а.\n",
    "Для этого вам необходимо реализовать функцию ниже.\n",
    "\n",
    "Вероятность **исключить** слово из обучения (на фиксированном шаге) вычисляется как\n",
    "$$\n",
    "P_\\text{drop}(w_i)=1 - \\sqrt{\\frac{t}{f(w_i)}},\n",
    "$$\n",
    "где $f(w_i)$ – нормированная частота встречаемости слова, а $t$ – заданный порог (threshold)."
   ]
  },
  {
   "cell_type": "code",
   "execution_count": 11,
   "metadata": {
    "id": "yW26R2JfN-yu"
   },
   "outputs": [],
   "source": [
    "def subsample_frequent_words(word_count_dict, threshold=1e-5):\n",
    "    \"\"\"\n",
    "    Calculates the subsampling probabilities for words based on their frequencies.\n",
    "\n",
    "    This function is used to determine the probability of keeping a word in the dataset\n",
    "    when subsampling frequent words. The method used is inspired by the subsampling approach\n",
    "    in Word2Vec, where each word's frequency affects its probability of being kept.\n",
    "\n",
    "    Parameters:\n",
    "    - word_count_dict (dict): A dictionary where keys are words and values are the counts of those words.\n",
    "    - threshold (float, optional): A threshold parameter used to adjust the frequency of word subsampling.\n",
    "                                   Defaults to 1e-5.\n",
    "\n",
    "    Returns:\n",
    "    - dict: A dictionary where keys are words and values are the probabilities of keeping each word.\n",
    "\n",
    "    Example:\n",
    "    >>> word_counts = {'the': 5000, 'is': 1000, 'apple': 50}\n",
    "    >>> subsample_frequent_words(word_counts)\n",
    "    {'the': 0.028, 'is': 0.223, 'apple': 1.0}\n",
    "    \"\"\"\n",
    "\n",
    "    ### YOUR CODE HERE\n",
    "    # max_words = max([w for w in word_count_dict.values()])\n",
    "    total_words = sum([w for w in word_count_dict.values()])\n",
    "    keep_prob_dict = {\n",
    "        # word: 0 for word in word_count_dict.keys()\n",
    "        # word: max(0, 1. - min(1, (np.sqrt(threshold / (word_count_dict[word] / (7 * max_words * np.log(total_words))))))) for word in word_count_dict.keys()\n",
    "        word: (threshold / (word_count_dict[word] / total_words)) ** 0.5 for word in word_count_dict.keys()\n",
    "    }  # THIS IS A PLACEHOLDER!\n",
    "    return keep_prob_dict"
   ]
  },
  {
   "cell_type": "code",
   "execution_count": 12,
   "metadata": {
    "colab": {
     "base_uri": "https://localhost:8080/"
    },
    "id": "jB1zE0vhnfYx",
    "outputId": "ac4c0035-c697-4101-e59f-9718a1b270c7"
   },
   "outputs": [
    {
     "data": {
      "text/plain": [
       "{'the': 0.0034785054261852176,\n",
       " 'is': 0.007778174593052023,\n",
       " 'apple': 0.034785054261852175}"
      ]
     },
     "execution_count": 12,
     "metadata": {},
     "output_type": "execute_result"
    }
   ],
   "source": [
    "# word_counts = {'the': 50009, 'is': 1000, 'apple': 50, \"1\": 1, \"2\": 100000}\n",
    "word_counts = {'the': 5000, 'is': 1000, 'apple': 50}\n",
    "subsample_frequent_words(word_counts)"
   ]
  },
  {
   "cell_type": "markdown",
   "metadata": {
    "id": "x7jv6gfzN-yu"
   },
   "source": [
    "#### Подзадача №2: negative sampling\n",
    "Для более эффективного обучения необходимо не только предсказывать высокие вероятности для слов из контекста, но и предсказывать низкие для слов, не встреченных в контексте. Для этого вам необходимо вычислить вероятност использовать слово в качестве negative sample, реализовав функцию ниже.\n",
    "\n",
    "В оригинальной статье предлагается оценивать вероятность слов выступать в качестве negative sample согласно распределению $P_n(w)$\n",
    "$$\n",
    "P_n(w) = \\frac{U(w)^{3/4}}{Z},\n",
    "$$\n",
    "\n",
    "где $U(w)$ распределение слов по частоте (или, как его еще называют, по униграммам), а $Z$ – нормировочная константа, чтобы общая мера была равна $1$."
   ]
  },
  {
   "cell_type": "code",
   "execution_count": 13,
   "metadata": {
    "id": "m4XyzLhwN-yu"
   },
   "outputs": [],
   "source": [
    "def get_negative_sampling_prob(word_count_dict):\n",
    "    \"\"\"\n",
    "    Calculates the negative sampling probabilities for words based on their frequencies.\n",
    "\n",
    "    This function adjusts the frequency of each word raised to the power of 0.75, which is\n",
    "    commonly used in algorithms like Word2Vec to moderate the influence of very frequent words.\n",
    "    It then normalizes these adjusted frequencies to ensure they sum to 1, forming a probability\n",
    "    distribution used for negative sampling.\n",
    "\n",
    "    Parameters:\n",
    "    - word_count_dict (dict): A dictionary where keys are words and values are the counts of those words.\n",
    "\n",
    "    Returns:\n",
    "    - dict: A dictionary where keys are words and values are the probabilities of selecting each word\n",
    "            for negative sampling.\n",
    "\n",
    "    Example:\n",
    "    >>> word_counts = {'the': 5000, 'is': 1000, 'apple': 50}\n",
    "    >>> get_negative_sampling_prob(word_counts)\n",
    "    {'the': 0.298, 'is': 0.160, 'apple': 0.042}\n",
    "    \"\"\"\n",
    "\n",
    "    ### YOUR CODE HERE\n",
    "    total_count = sum(word_count_dict.values())\n",
    "    sum34 =  sum([(x/ total_count) ** .75 for x in word_count_dict.values() ])\n",
    "    negative_sampling_prob_dict = {\n",
    "        word: ((word_count_dict[word]/ total_count) ** .75) / sum34 for word in word_count_dict.keys()\n",
    "    }  # THIS IS A PLACEHOLDER!\n",
    "    return negative_sampling_prob_dict"
   ]
  },
  {
   "cell_type": "markdown",
   "metadata": {
    "id": "MYMuO0vRN-yu"
   },
   "source": [
    "Для удобства, преобразуем полученные словари в массивы (т.к. все слова все равно уже пронумерованы)."
   ]
  },
  {
   "cell_type": "code",
   "execution_count": 14,
   "metadata": {
    "id": "ha-iQhSsN-yu"
   },
   "outputs": [],
   "source": [
    "keep_prob_dict = subsample_frequent_words(word_count_dict)\n",
    "assert keep_prob_dict.keys() == word_count_dict.keys()"
   ]
  },
  {
   "cell_type": "code",
   "execution_count": 15,
   "metadata": {
    "id": "C873x8WqN-yu"
   },
   "outputs": [],
   "source": [
    "negative_sampling_prob_dict = get_negative_sampling_prob(word_count_dict)\n",
    "assert negative_sampling_prob_dict.keys() == negative_sampling_prob_dict.keys()\n",
    "assert np.allclose(sum(negative_sampling_prob_dict.values()), 1)"
   ]
  },
  {
   "cell_type": "code",
   "execution_count": 16,
   "metadata": {
    "id": "bRJy4kaCN-yv"
   },
   "outputs": [],
   "source": [
    "keep_prob_array = np.array(\n",
    "    [keep_prob_dict[index_to_word[idx]] for idx in range(len(word_to_index))]\n",
    ")\n",
    "negative_sampling_prob_array = np.array(\n",
    "    [\n",
    "        negative_sampling_prob_dict[index_to_word[idx]]\n",
    "        for idx in range(len(word_to_index))\n",
    "    ]\n",
    ")"
   ]
  },
  {
   "cell_type": "markdown",
   "metadata": {
    "id": "jMsbLJASN-yv"
   },
   "source": [
    "Если все прошло успешно, функция ниже поможет вам с генерацией подвыборок (батчей)."
   ]
  },
  {
   "cell_type": "code",
   "execution_count": 17,
   "metadata": {
    "id": "uqCcFUMJN-yv"
   },
   "outputs": [],
   "source": [
    "def generate_batch_with_neg_samples(\n",
    "    context_pairs,\n",
    "    batch_size,\n",
    "    keep_prob_array,\n",
    "    word_to_index,\n",
    "    num_negatives,\n",
    "    negative_sampling_prob_array,\n",
    "):\n",
    "    batch = []\n",
    "    neg_samples = []\n",
    "\n",
    "    while len(batch) < batch_size:\n",
    "        center, context = random.choice(context_pairs)\n",
    "        if random.random() < keep_prob_array[center]:\n",
    "            batch.append((center, context))\n",
    "            neg_sample = np.random.choice(\n",
    "                range(len(negative_sampling_prob_array)),\n",
    "                size=num_negatives,\n",
    "                p=negative_sampling_prob_array,\n",
    "            )\n",
    "            neg_samples.append(neg_sample)\n",
    "    batch = np.array(batch)\n",
    "    neg_samples = np.vstack(neg_samples)\n",
    "    return batch, neg_samples"
   ]
  },
  {
   "cell_type": "code",
   "execution_count": 43,
   "metadata": {},
   "outputs": [],
   "source": [
    "def generate_batch_with_neg_samples_optimized(\n",
    "    context_pairs,\n",
    "    batch_size,\n",
    "    keep_prob_array,\n",
    "    word_to_index,\n",
    "    num_negatives,\n",
    "    negative_sampling_prob_array,\n",
    "):  \n",
    "    centers_negs = context_pairs[np.random.randint(len(context_pairs), size=batch_size), :]\n",
    "    keep_mask = np.random.random() < keep_prob_array[centers_negs[:, 0]]\n",
    "    valid = centers_negs[keep_mask]\n",
    "\n",
    "    while len(valid) < batch_size:\n",
    "        add_centers_negs = context_pairs[np.random.randint(len(context_pairs), size=batch_size), :]\n",
    "        keep_mask = np.random.random() < keep_prob_array[add_centers_negs[:, 0]]\n",
    "        valid = np.concatenate((valid, add_centers_negs[keep_mask]))\n",
    "\n",
    "    batch = valid[:batch_size]    \n",
    "\n",
    "    neg_samples = np.random.choice(\n",
    "        range(len(negative_sampling_prob_array)),\n",
    "        size=(batch_size, num_negatives),\n",
    "        p=negative_sampling_prob_array\n",
    "    )\n",
    "    return batch, neg_samples"
   ]
  },
  {
   "cell_type": "code",
   "execution_count": 18,
   "metadata": {
    "id": "ch_PKpUmN-yv"
   },
   "outputs": [],
   "source": [
    "batch_size = 4\n",
    "num_negatives = 15\n",
    "batch, neg_samples = generate_batch_with_neg_samples(\n",
    "    context_pairs,\n",
    "    batch_size,\n",
    "    keep_prob_array,\n",
    "    word_to_index,\n",
    "    num_negatives,\n",
    "    negative_sampling_prob_array,\n",
    ")"
   ]
  },
  {
   "cell_type": "markdown",
   "metadata": {
    "id": "wYLLHnhHN-yv"
   },
   "source": [
    "Наконец, время реализовать модель. Обращаем ваше внимание, использование линейных слоев (`nn.Linear`) далеко не всегда оправданно!\n",
    "\n",
    "Напомним, что в случае negative sampling решается задача максимизации следующего функционала:\n",
    "\n",
    "$$\n",
    "\\mathcal{L} = \\log \\sigma({\\mathbf{v}'_{w_O}}^\\top \\mathbf{v}_{w_I}) + \\sum_{i=1}^{k} \\mathbb{E}_{w_i \\sim P_n(w)} \\left[ \\log \\sigma({-\\mathbf{v}'_{w_i}}^\\top \\mathbf{v}_{w_I}) \\right],\n",
    "$$\n",
    "\n",
    "где:\n",
    "- $\\mathbf{v}_{w_I}$ – вектор центрального слова $w_I$,\n",
    "- $\\mathbf{v}'_{w_O}$ – вектор слова из контекста $w_O$,\n",
    "- $k$ – число negative samplesЮ,\n",
    "- $P_n(w)$ – распределение negative samples, заданное выше,\n",
    "- $\\sigma$ – сигмоида."
   ]
  },
  {
   "cell_type": "code",
   "execution_count": 79,
   "metadata": {
    "id": "pO-yuaGFN-yv"
   },
   "outputs": [],
   "source": [
    "class SkipGramModelWithNegSampling(nn.Module):\n",
    "    def __init__(self, vocab_size, embedding_dim):\n",
    "        super().__init__()\n",
    "        self.center_embeddings = nn.Embedding(vocab_size, embedding_dim)  # YOUR CODE HERE\n",
    "        self.context_embeddings = nn.Embedding(vocab_size, embedding_dim)  # YOUR CODE HERE\n",
    "        # self.linear = nn.Linear(embedding_dim, vocab_size)\n",
    "\n",
    "    def forward(self, center_words, pos_context_words, neg_context_words):\n",
    "        # YOUR CODE HERE\n",
    "        ce_embed = self.center_embeddings(center_words).unsqueeze(2)\n",
    "        con_embed = self.context_embeddings(pos_context_words).unsqueeze(1)\n",
    "        neg_embed = self.context_embeddings(neg_context_words)\n",
    "        # print(ce_embed.shape)\n",
    "        # print(con_embed.shape)\n",
    "        # print(neg_embed.shape)\n",
    "        # print(con_embed.T.shape)\n",
    "        # pos_scores = torch.sigmoid(torch.bmm(con_embed, ce_embed)).squeeze(-1).squeeze(-1)\n",
    "        pos_scores = torch.bmm(con_embed, ce_embed).squeeze(-1).squeeze(-1)\n",
    "        # print(f\"pos {pos_scores.shape}\")\n",
    "\n",
    "        # pos_scores = 0  # THIS IS A PLACEHOLDER\n",
    "        # neg_scores = 0  # THIS IS A PLACEHOLDER\n",
    "\n",
    "        # neg_scores = torch.sigmoid(torch.bmm(-neg_embed, ce_embed)).squeeze(-1).squeeze(-1)\n",
    "        neg_scores = torch.bmm(neg_embed, ce_embed).squeeze(-1)\n",
    "        # print(f\"neg {neg_scores.shape}\")\n",
    "\n",
    "        return pos_scores, neg_scores"
   ]
  },
  {
   "cell_type": "code",
   "execution_count": 80,
   "metadata": {
    "id": "Y-u6B2QrN-yv"
   },
   "outputs": [],
   "source": [
    "# device = torch.device(\"cpu\")\n",
    "device = torch.device(\"cuda\")"
   ]
  },
  {
   "cell_type": "code",
   "execution_count": 81,
   "metadata": {
    "id": "DZR7QnMDN-yv"
   },
   "outputs": [],
   "source": [
    "vocab_size = len(word_to_index)\n",
    "embedding_dim = 32\n",
    "num_negatives = 15\n",
    "\n",
    "model = SkipGramModelWithNegSampling(vocab_size, embedding_dim).to(device)\n"
   ]
  },
  {
   "cell_type": "code",
   "execution_count": 82,
   "metadata": {
    "id": "zPwkJeEVF4uf"
   },
   "outputs": [],
   "source": [
    "optimizer = optim.AdamW(model.parameters(), lr=0.1)\n",
    "# optimizer = optim.SGD(model.parameters(), lr=0.1)\n",
    "lr_scheduler = ReduceLROnPlateau(optimizer, factor=0.5, patience=500, min_lr=1e-6, cooldown=100)\n",
    "criterion = nn.BCEWithLogitsLoss()"
   ]
  },
  {
   "cell_type": "code",
   "execution_count": 83,
   "metadata": {
    "id": "gUGyZzY-N-yv"
   },
   "outputs": [],
   "source": [
    "params_counter = 0\n",
    "for weights in model.parameters():\n",
    "    params_counter += weights.shape.numel()\n",
    "assert params_counter == len(word_to_index) * embedding_dim * 2"
   ]
  },
  {
   "cell_type": "code",
   "execution_count": 84,
   "metadata": {
    "id": "6zFenYhCN-yv"
   },
   "outputs": [],
   "source": [
    "def train_skipgram_with_neg_sampling(\n",
    "    model,\n",
    "    context_pairs,\n",
    "    keep_prob_array,\n",
    "    word_to_index,\n",
    "    batch_size,\n",
    "    num_negatives,\n",
    "    negative_sampling_prob_array,\n",
    "    steps,\n",
    "    optimizer=optimizer,\n",
    "    lr_scheduler=lr_scheduler,\n",
    "    device=device,\n",
    "):\n",
    "    pos_labels = torch.ones(batch_size).to(device)\n",
    "    neg_labels = torch.zeros(batch_size, num_negatives).to(device)\n",
    "    loss_history = []\n",
    "    context_pairs = np.array(context_pairs)\n",
    "    for step in tqdma(range(steps)):\n",
    "#         batch, neg_samples = generate_batch_with_neg_samples(\n",
    "        batch, neg_samples = generate_batch_with_neg_samples_optimized(\n",
    "            context_pairs,\n",
    "            batch_size,\n",
    "            keep_prob_array,\n",
    "            word_to_index,\n",
    "            num_negatives,\n",
    "            negative_sampling_prob_array,\n",
    "        )\n",
    "        center_words = torch.tensor([pair[0] for pair in batch], dtype=torch.long).to(\n",
    "            device\n",
    "        )\n",
    "        pos_context_words = torch.tensor(\n",
    "            [pair[1] for pair in batch], dtype=torch.long\n",
    "        ).to(device)\n",
    "        neg_context_words = torch.tensor(neg_samples, dtype=torch.long).to(device)\n",
    "        # print(pos_labels.shape)\n",
    "        # print(neg_labels.shape)\n",
    "\n",
    "        optimizer.zero_grad()\n",
    "        pos_scores, neg_scores = model(\n",
    "            center_words, pos_context_words, neg_context_words\n",
    "        )\n",
    "        # print(pos_scores.shape)\n",
    "        # print(neg_scores.shape)\n",
    "        loss_pos = criterion(pos_scores, pos_labels)\n",
    "        loss_neg = criterion(neg_scores, neg_labels)\n",
    "\n",
    "        loss = loss_pos + loss_neg\n",
    "        loss.backward()\n",
    "        optimizer.step()\n",
    "\n",
    "        loss_history.append(loss.item())\n",
    "        lr_scheduler.step(loss_history[-1])\n",
    "\n",
    "        STEP = 100\n",
    "        if step % STEP == 0:\n",
    "            print(\n",
    "                f\"Step {step}, Loss: {np.mean(loss_history[-STEP:])}, learning rate: {lr_scheduler._last_lr}\"\n",
    "            )"
   ]
  },
  {
   "cell_type": "code",
   "execution_count": 86,
   "metadata": {
    "colab": {
     "base_uri": "https://localhost:8080/",
     "height": 1000,
     "referenced_widgets": [
      "320b0c932ef54cdaa88d76ed75a31f6a",
      "a57b8b0d2fe945798efc1b3d217e59bc",
      "745bf5b52a9e489d945a4a5d5700caf4",
      "a9a869a0c9a54973acf33278f208238e",
      "75edf77faf664e58b6deb30d6e7db7a2",
      "07213a5a73e043fbbfea7470618a5f18",
      "dad7eca2a5864c99b0916441e5caa8bf",
      "ac967ec58249412cb2b6a50258cf1b6c",
      "62af44f199774218bc098a611e542a47",
      "b1099875cf29473ab2fc60148417a52d",
      "a26da21503ab4df691db832b1568c473"
     ]
    },
    "id": "-VSERVvWN-yw",
    "outputId": "23232d7f-5f27-451d-de02-334afe14f6f8"
   },
   "outputs": [
    {
     "data": {
      "application/vnd.jupyter.widget-view+json": {
       "model_id": "ee9fc86544fc48fa8aac4d564cc7a880",
       "version_major": 2,
       "version_minor": 0
      },
      "text/plain": [
       "  0%|          | 0/25000 [00:00<?, ?it/s]"
      ]
     },
     "metadata": {},
     "output_type": "display_data"
    },
    {
     "name": "stdout",
     "output_type": "stream",
     "text": [
      "Step 0, Loss: 4.661750793457031, learning rate: [0.1]\n",
      "Step 100, Loss: 2.284694797992706, learning rate: [0.1]\n",
      "Step 200, Loss: 1.6524808251857757, learning rate: [0.1]\n",
      "Step 300, Loss: 1.6819732975959778, learning rate: [0.1]\n",
      "Step 400, Loss: 1.692104585170746, learning rate: [0.1]\n",
      "Step 500, Loss: 1.7009210288524628, learning rate: [0.1]\n",
      "Step 600, Loss: 1.7296904742717742, learning rate: [0.1]\n",
      "Step 700, Loss: 1.7182071709632873, learning rate: [0.05]\n",
      "Step 800, Loss: 1.5463429629802703, learning rate: [0.05]\n",
      "Step 900, Loss: 1.3795154738426207, learning rate: [0.05]\n",
      "Step 1000, Loss: 1.316305754184723, learning rate: [0.05]\n",
      "Step 1100, Loss: 1.2742140090465546, learning rate: [0.05]\n",
      "Step 1200, Loss: 1.2579910445213318, learning rate: [0.05]\n",
      "Step 1300, Loss: 1.2360440731048583, learning rate: [0.05]\n",
      "Step 1400, Loss: 1.2301567769050599, learning rate: [0.05]\n",
      "Step 1500, Loss: 1.2197754490375519, learning rate: [0.05]\n",
      "Step 1600, Loss: 1.213644610643387, learning rate: [0.05]\n",
      "Step 1700, Loss: 1.2102266228199006, learning rate: [0.05]\n",
      "Step 1800, Loss: 1.2100283455848695, learning rate: [0.05]\n",
      "Step 1900, Loss: 1.210001721382141, learning rate: [0.05]\n",
      "Step 2000, Loss: 1.210819923877716, learning rate: [0.05]\n",
      "Step 2100, Loss: 1.2119442629814148, learning rate: [0.05]\n",
      "Step 2200, Loss: 1.214059510231018, learning rate: [0.05]\n",
      "Step 2300, Loss: 1.2141625452041627, learning rate: [0.05]\n",
      "Step 2400, Loss: 1.2191077017784118, learning rate: [0.05]\n",
      "Step 2500, Loss: 1.215682909488678, learning rate: [0.025]\n",
      "Step 2600, Loss: 1.1639594113826752, learning rate: [0.025]\n",
      "Step 2700, Loss: 1.1310976803302766, learning rate: [0.025]\n",
      "Step 2800, Loss: 1.1091954934597015, learning rate: [0.025]\n",
      "Step 2900, Loss: 1.1012648475170135, learning rate: [0.025]\n",
      "Step 3000, Loss: 1.0909352970123292, learning rate: [0.025]\n",
      "Step 3100, Loss: 1.0853793704509735, learning rate: [0.025]\n",
      "Step 3200, Loss: 1.0804609906673432, learning rate: [0.025]\n",
      "Step 3300, Loss: 1.0790436136722565, learning rate: [0.025]\n",
      "Step 3400, Loss: 1.0766973221302032, learning rate: [0.025]\n",
      "Step 3500, Loss: 1.0764983153343202, learning rate: [0.025]\n",
      "Step 3600, Loss: 1.0732008254528045, learning rate: [0.025]\n",
      "Step 3700, Loss: 1.0693479132652284, learning rate: [0.025]\n",
      "Step 3800, Loss: 1.077813504934311, learning rate: [0.025]\n",
      "Step 3900, Loss: 1.0700903689861299, learning rate: [0.025]\n",
      "Step 4000, Loss: 1.076707524061203, learning rate: [0.025]\n",
      "Step 4100, Loss: 1.0716832101345062, learning rate: [0.025]\n",
      "Step 4200, Loss: 1.0750348675251007, learning rate: [0.0125]\n",
      "Step 4300, Loss: 1.058797322511673, learning rate: [0.0125]\n",
      "Step 4400, Loss: 1.03517917573452, learning rate: [0.0125]\n",
      "Step 4500, Loss: 1.032197076678276, learning rate: [0.0125]\n",
      "Step 4600, Loss: 1.0266437882184982, learning rate: [0.0125]\n",
      "Step 4700, Loss: 1.02155542075634, learning rate: [0.0125]\n",
      "Step 4800, Loss: 1.0172376775741576, learning rate: [0.0125]\n",
      "Step 4900, Loss: 1.0167460602521896, learning rate: [0.0125]\n",
      "Step 5000, Loss: 1.0118282544612884, learning rate: [0.0125]\n",
      "Step 5100, Loss: 1.0082877260446548, learning rate: [0.0125]\n",
      "Step 5200, Loss: 1.0187183600664138, learning rate: [0.0125]\n",
      "Step 5300, Loss: 1.0099578392505646, learning rate: [0.0125]\n",
      "Step 5400, Loss: 1.010913068652153, learning rate: [0.0125]\n",
      "Step 5500, Loss: 1.0119932371377944, learning rate: [0.0125]\n",
      "Step 5600, Loss: 1.0135626417398453, learning rate: [0.0125]\n",
      "Step 5700, Loss: 1.0108524471521378, learning rate: [0.0125]\n",
      "Step 5800, Loss: 1.010893681049347, learning rate: [0.00625]\n",
      "Step 5900, Loss: 1.001667624115944, learning rate: [0.00625]\n",
      "Step 6000, Loss: 1.0025029957294465, learning rate: [0.00625]\n",
      "Step 6100, Loss: 0.995768450498581, learning rate: [0.00625]\n",
      "Step 6200, Loss: 0.9901787406206131, learning rate: [0.00625]\n",
      "Step 6300, Loss: 0.9849755150079728, learning rate: [0.00625]\n",
      "Step 6400, Loss: 0.9933348858356476, learning rate: [0.00625]\n",
      "Step 6500, Loss: 0.9832704693078995, learning rate: [0.00625]\n",
      "Step 6600, Loss: 0.9784132015705108, learning rate: [0.00625]\n",
      "Step 6700, Loss: 0.9878468453884125, learning rate: [0.00625]\n",
      "Step 6800, Loss: 0.9939475828409194, learning rate: [0.003125]\n",
      "Step 6900, Loss: 0.9854333370923996, learning rate: [0.003125]\n",
      "Step 7000, Loss: 0.9899522763490677, learning rate: [0.003125]\n",
      "Step 7100, Loss: 0.9720523518323898, learning rate: [0.003125]\n",
      "Step 7200, Loss: 0.9707744365930557, learning rate: [0.003125]\n",
      "Step 7300, Loss: 0.9803328996896744, learning rate: [0.003125]\n",
      "Step 7400, Loss: 0.9773208498954773, learning rate: [0.003125]\n",
      "Step 7500, Loss: 0.9703801655769348, learning rate: [0.003125]\n",
      "Step 7600, Loss: 0.9720430594682693, learning rate: [0.003125]\n",
      "Step 7700, Loss: 0.9707431626319886, learning rate: [0.003125]\n",
      "Step 7800, Loss: 0.9719843089580535, learning rate: [0.003125]\n",
      "Step 7900, Loss: 0.9710722285509109, learning rate: [0.003125]\n",
      "Step 8000, Loss: 0.9728152173757553, learning rate: [0.003125]\n",
      "Step 8100, Loss: 0.9711233335733414, learning rate: [0.0015625]\n",
      "Step 8200, Loss: 0.9729718047380448, learning rate: [0.0015625]\n",
      "Step 8300, Loss: 0.9641098237037659, learning rate: [0.0015625]\n",
      "Step 8400, Loss: 0.9648545509576798, learning rate: [0.0015625]\n",
      "Step 8500, Loss: 0.9565271264314652, learning rate: [0.0015625]\n",
      "Step 8600, Loss: 0.9662630712985992, learning rate: [0.0015625]\n",
      "Step 8700, Loss: 0.9706379818916321, learning rate: [0.0015625]\n",
      "Step 8800, Loss: 0.9577348434925079, learning rate: [0.0015625]\n",
      "Step 8900, Loss: 0.9664011591672897, learning rate: [0.0015625]\n",
      "Step 9000, Loss: 0.9662526375055314, learning rate: [0.0015625]\n",
      "Step 9100, Loss: 0.9645543682575226, learning rate: [0.00078125]\n",
      "Step 9200, Loss: 0.9605063796043396, learning rate: [0.00078125]\n",
      "Step 9300, Loss: 0.9602960348129272, learning rate: [0.00078125]\n",
      "Step 9400, Loss: 0.9624138802289963, learning rate: [0.00078125]\n",
      "Step 9500, Loss: 0.9595172739028931, learning rate: [0.00078125]\n",
      "Step 9600, Loss: 0.9581240946054459, learning rate: [0.00078125]\n",
      "Step 9700, Loss: 0.957024770975113, learning rate: [0.00078125]\n",
      "Step 9800, Loss: 0.9657561755180359, learning rate: [0.00078125]\n",
      "Step 9900, Loss: 0.9627512836456299, learning rate: [0.00078125]\n",
      "Step 10000, Loss: 0.9635696816444397, learning rate: [0.00078125]\n",
      "Step 10100, Loss: 0.9558220040798188, learning rate: [0.00078125]\n",
      "Step 10200, Loss: 0.9599789720773697, learning rate: [0.00078125]\n",
      "Step 10300, Loss: 0.9669940435886383, learning rate: [0.000390625]\n",
      "Step 10400, Loss: 0.9597759622335434, learning rate: [0.000390625]\n",
      "Step 10500, Loss: 0.9536198896169662, learning rate: [0.000390625]\n",
      "Step 10600, Loss: 0.9614721143245697, learning rate: [0.000390625]\n",
      "Step 10700, Loss: 0.9574396151304245, learning rate: [0.000390625]\n",
      "Step 10800, Loss: 0.9600567632913589, learning rate: [0.000390625]\n",
      "Step 10900, Loss: 0.9642489963769912, learning rate: [0.000390625]\n",
      "Step 11000, Loss: 0.9578186565637589, learning rate: [0.000390625]\n",
      "Step 11100, Loss: 0.9599844616651535, learning rate: [0.000390625]\n",
      "Step 11200, Loss: 0.9618272495269775, learning rate: [0.0001953125]\n",
      "Step 11300, Loss: 0.9551958423852921, learning rate: [0.0001953125]\n",
      "Step 11400, Loss: 0.9540986192226409, learning rate: [0.0001953125]\n",
      "Step 11500, Loss: 0.9592356741428375, learning rate: [0.0001953125]\n",
      "Step 11600, Loss: 0.9518513172864914, learning rate: [0.0001953125]\n",
      "Step 11700, Loss: 0.9614728170633317, learning rate: [0.0001953125]\n",
      "Step 11800, Loss: 0.9556662911176681, learning rate: [9.765625e-05]\n",
      "Step 11900, Loss: 0.9634951895475388, learning rate: [9.765625e-05]\n",
      "Step 12000, Loss: 0.9586765438318252, learning rate: [9.765625e-05]\n",
      "Step 12100, Loss: 0.9544270408153533, learning rate: [9.765625e-05]\n",
      "Step 12200, Loss: 0.9606147801876068, learning rate: [9.765625e-05]\n",
      "Step 12300, Loss: 0.9525900149345398, learning rate: [9.765625e-05]\n",
      "Step 12400, Loss: 0.95501544713974, learning rate: [4.8828125e-05]\n",
      "Step 12500, Loss: 0.962089900970459, learning rate: [4.8828125e-05]\n",
      "Step 12600, Loss: 0.9614006841182708, learning rate: [4.8828125e-05]\n",
      "Step 12700, Loss: 0.9547475868463516, learning rate: [4.8828125e-05]\n",
      "Step 12800, Loss: 0.9675777089595795, learning rate: [4.8828125e-05]\n",
      "Step 12900, Loss: 0.9582294929027557, learning rate: [4.8828125e-05]\n",
      "Step 13000, Loss: 0.9594672411680222, learning rate: [2.44140625e-05]\n",
      "Step 13100, Loss: 0.9570775252580642, learning rate: [2.44140625e-05]\n"
     ]
    },
    {
     "name": "stdout",
     "output_type": "stream",
     "text": [
      "Step 13200, Loss: 0.9642695420980454, learning rate: [2.44140625e-05]\n",
      "Step 13300, Loss: 0.9537956637144088, learning rate: [2.44140625e-05]\n",
      "Step 13400, Loss: 0.9552045083045959, learning rate: [2.44140625e-05]\n",
      "Step 13500, Loss: 0.9606565546989441, learning rate: [2.44140625e-05]\n",
      "Step 13600, Loss: 0.9580246162414551, learning rate: [1.220703125e-05]\n",
      "Step 13700, Loss: 0.9553623962402343, learning rate: [1.220703125e-05]\n",
      "Step 13800, Loss: 0.9574462503194809, learning rate: [1.220703125e-05]\n",
      "Step 13900, Loss: 0.9550025308132172, learning rate: [1.220703125e-05]\n",
      "Step 14000, Loss: 0.963466324210167, learning rate: [1.220703125e-05]\n",
      "Step 14100, Loss: 0.9574118274450302, learning rate: [1.220703125e-05]\n",
      "Step 14200, Loss: 0.9586725229024887, learning rate: [6.103515625e-06]\n",
      "Step 14300, Loss: 0.9625670742988587, learning rate: [6.103515625e-06]\n",
      "Step 14400, Loss: 0.9573571920394898, learning rate: [6.103515625e-06]\n",
      "Step 14500, Loss: 0.9613716250658035, learning rate: [6.103515625e-06]\n",
      "Step 14600, Loss: 0.9509149312973022, learning rate: [6.103515625e-06]\n",
      "Step 14700, Loss: 0.9624034720659256, learning rate: [6.103515625e-06]\n",
      "Step 14800, Loss: 0.9607970505952835, learning rate: [3.0517578125e-06]\n",
      "Step 14900, Loss: 0.9576316756010056, learning rate: [3.0517578125e-06]\n",
      "Step 15000, Loss: 0.9600885456800461, learning rate: [3.0517578125e-06]\n",
      "Step 15100, Loss: 0.9580060195922852, learning rate: [3.0517578125e-06]\n",
      "Step 15200, Loss: 0.9597846937179565, learning rate: [3.0517578125e-06]\n",
      "Step 15300, Loss: 0.9601685106754303, learning rate: [3.0517578125e-06]\n",
      "Step 15400, Loss: 0.9583027523756027, learning rate: [1.52587890625e-06]\n",
      "Step 15500, Loss: 0.955171560049057, learning rate: [1.52587890625e-06]\n",
      "Step 15600, Loss: 0.959601281285286, learning rate: [1.52587890625e-06]\n",
      "Step 15700, Loss: 0.9603023856878281, learning rate: [1.52587890625e-06]\n",
      "Step 15800, Loss: 0.9602481067180634, learning rate: [1.52587890625e-06]\n",
      "Step 15900, Loss: 0.9556469786167144, learning rate: [1.52587890625e-06]\n",
      "Step 16000, Loss: 0.9574022918939591, learning rate: [1e-06]\n",
      "Step 16100, Loss: 0.9505171877145767, learning rate: [1e-06]\n",
      "Step 16200, Loss: 0.9645707446336746, learning rate: [1e-06]\n",
      "Step 16300, Loss: 0.9508834797143936, learning rate: [1e-06]\n",
      "Step 16400, Loss: 0.9551334953308106, learning rate: [1e-06]\n",
      "Step 16500, Loss: 0.9536116576194763, learning rate: [1e-06]\n",
      "Step 16600, Loss: 0.964714075922966, learning rate: [1e-06]\n",
      "Step 16700, Loss: 0.9609912371635437, learning rate: [1e-06]\n",
      "Step 16800, Loss: 0.9519978022575378, learning rate: [1e-06]\n",
      "Step 16900, Loss: 0.9529195380210876, learning rate: [1e-06]\n",
      "Step 17000, Loss: 0.953515967130661, learning rate: [1e-06]\n",
      "Step 17100, Loss: 0.9598551607131958, learning rate: [1e-06]\n",
      "Step 17200, Loss: 0.9509609472751618, learning rate: [1e-06]\n",
      "Step 17300, Loss: 0.95567751288414, learning rate: [1e-06]\n",
      "Step 17400, Loss: 0.9616573476791381, learning rate: [1e-06]\n",
      "Step 17500, Loss: 0.9553797215223312, learning rate: [1e-06]\n",
      "Step 17600, Loss: 0.9492618131637574, learning rate: [1e-06]\n",
      "Step 17700, Loss: 0.9575553804636001, learning rate: [1e-06]\n",
      "Step 17800, Loss: 0.9587142890691758, learning rate: [1e-06]\n",
      "Step 17900, Loss: 0.9681737571954727, learning rate: [1e-06]\n",
      "Step 18000, Loss: 0.9596765041351318, learning rate: [1e-06]\n",
      "Step 18100, Loss: 0.9590524798631668, learning rate: [1e-06]\n",
      "Step 18200, Loss: 0.9573253440856934, learning rate: [1e-06]\n",
      "Step 18300, Loss: 0.9550237452983856, learning rate: [1e-06]\n",
      "Step 18400, Loss: 0.9608794564008712, learning rate: [1e-06]\n",
      "Step 18500, Loss: 0.9584736752510071, learning rate: [1e-06]\n",
      "Step 18600, Loss: 0.9573592132329941, learning rate: [1e-06]\n",
      "Step 18700, Loss: 0.9623279678821564, learning rate: [1e-06]\n",
      "Step 18800, Loss: 0.9658854341506958, learning rate: [1e-06]\n",
      "Step 18900, Loss: 0.962345604300499, learning rate: [1e-06]\n",
      "Step 19000, Loss: 0.9584289962053298, learning rate: [1e-06]\n",
      "Step 19100, Loss: 0.9640513581037521, learning rate: [1e-06]\n",
      "Step 19200, Loss: 0.9633798199892044, learning rate: [1e-06]\n",
      "Step 19300, Loss: 0.957586904168129, learning rate: [1e-06]\n",
      "Step 19400, Loss: 0.9631629705429077, learning rate: [1e-06]\n",
      "Step 19500, Loss: 0.9645238101482392, learning rate: [1e-06]\n",
      "Step 19600, Loss: 0.9511321663856507, learning rate: [1e-06]\n",
      "Step 19700, Loss: 0.9526255321502686, learning rate: [1e-06]\n",
      "Step 19800, Loss: 0.9606990492343903, learning rate: [1e-06]\n",
      "Step 19900, Loss: 0.9579532814025878, learning rate: [1e-06]\n",
      "Step 20000, Loss: 0.9564758712053298, learning rate: [1e-06]\n",
      "Step 20100, Loss: 0.9602920091152192, learning rate: [1e-06]\n",
      "Step 20200, Loss: 0.968168272972107, learning rate: [1e-06]\n",
      "Step 20300, Loss: 0.9591295897960663, learning rate: [1e-06]\n",
      "Step 20400, Loss: 0.9527586841583252, learning rate: [1e-06]\n",
      "Step 20500, Loss: 0.9586808961629868, learning rate: [1e-06]\n",
      "Step 20600, Loss: 0.9536417740583419, learning rate: [1e-06]\n",
      "Step 20700, Loss: 0.9641878581047059, learning rate: [1e-06]\n",
      "Step 20800, Loss: 0.9580200636386871, learning rate: [1e-06]\n",
      "Step 20900, Loss: 0.9515595138072968, learning rate: [1e-06]\n",
      "Step 21000, Loss: 0.9562683963775634, learning rate: [1e-06]\n",
      "Step 21100, Loss: 0.9641207486391068, learning rate: [1e-06]\n",
      "Step 21200, Loss: 0.9640520870685577, learning rate: [1e-06]\n",
      "Step 21300, Loss: 0.9630420482158661, learning rate: [1e-06]\n",
      "Step 21400, Loss: 0.9571537762880326, learning rate: [1e-06]\n",
      "Step 21500, Loss: 0.9501064836978912, learning rate: [1e-06]\n",
      "Step 21600, Loss: 0.9593353682756424, learning rate: [1e-06]\n",
      "Step 21700, Loss: 0.9583240753412247, learning rate: [1e-06]\n",
      "Step 21800, Loss: 0.9643257319927215, learning rate: [1e-06]\n",
      "Step 21900, Loss: 0.957749245762825, learning rate: [1e-06]\n",
      "Step 22000, Loss: 0.9682289028167724, learning rate: [1e-06]\n",
      "Step 22100, Loss: 0.9587363409996033, learning rate: [1e-06]\n",
      "Step 22200, Loss: 0.9621250063180924, learning rate: [1e-06]\n",
      "Step 22300, Loss: 0.9558396744728088, learning rate: [1e-06]\n",
      "Step 22400, Loss: 0.9591682803630829, learning rate: [1e-06]\n",
      "Step 22500, Loss: 0.9495131868124008, learning rate: [1e-06]\n",
      "Step 22600, Loss: 0.9565498471260071, learning rate: [1e-06]\n",
      "Step 22700, Loss: 0.9519970840215684, learning rate: [1e-06]\n",
      "Step 22800, Loss: 0.956968805193901, learning rate: [1e-06]\n",
      "Step 22900, Loss: 0.9565689921379089, learning rate: [1e-06]\n",
      "Step 23000, Loss: 0.9617427253723144, learning rate: [1e-06]\n",
      "Step 23100, Loss: 0.956834819316864, learning rate: [1e-06]\n",
      "Step 23200, Loss: 0.956060317158699, learning rate: [1e-06]\n",
      "Step 23300, Loss: 0.9558321630954743, learning rate: [1e-06]\n",
      "Step 23400, Loss: 0.9664608895778656, learning rate: [1e-06]\n",
      "Step 23500, Loss: 0.9661914926767349, learning rate: [1e-06]\n",
      "Step 23600, Loss: 0.952421418428421, learning rate: [1e-06]\n",
      "Step 23700, Loss: 0.9599803107976913, learning rate: [1e-06]\n",
      "Step 23800, Loss: 0.956527162194252, learning rate: [1e-06]\n",
      "Step 23900, Loss: 0.9587853598594666, learning rate: [1e-06]\n",
      "Step 24000, Loss: 0.9530031502246856, learning rate: [1e-06]\n",
      "Step 24100, Loss: 0.9585997533798217, learning rate: [1e-06]\n",
      "Step 24200, Loss: 0.9600539767742157, learning rate: [1e-06]\n",
      "Step 24300, Loss: 0.9633398348093033, learning rate: [1e-06]\n",
      "Step 24400, Loss: 0.9613825380802155, learning rate: [1e-06]\n",
      "Step 24500, Loss: 0.9528593176603317, learning rate: [1e-06]\n",
      "Step 24600, Loss: 0.9539583176374435, learning rate: [1e-06]\n",
      "Step 24700, Loss: 0.9579779106378555, learning rate: [1e-06]\n",
      "Step 24800, Loss: 0.9588918036222458, learning rate: [1e-06]\n",
      "Step 24900, Loss: 0.9551765865087509, learning rate: [1e-06]\n"
     ]
    }
   ],
   "source": [
    "steps = 25000\n",
    "batch_size = 4096\n",
    "model = model.to(device)\n",
    "train_skipgram_with_neg_sampling(\n",
    "    model,\n",
    "    context_pairs,\n",
    "    keep_prob_array,\n",
    "    word_to_index,\n",
    "    batch_size,\n",
    "    num_negatives,\n",
    "    negative_sampling_prob_array,\n",
    "    steps,\n",
    ")"
   ]
  },
  {
   "cell_type": "markdown",
   "metadata": {
    "id": "0ybhme_yN-yw"
   },
   "source": [
    "Наконец, используйте полученную матрицу весов в качестве матрицы в векторными представлениями слов. Рекомендуем использовать для сдачи матрицу, которая отвечала за слова из контекста (т.е. декодера)."
   ]
  },
  {
   "cell_type": "code",
   "execution_count": 87,
   "metadata": {
    "id": "cljWtjhgN-yw"
   },
   "outputs": [],
   "source": [
    "model = model.to(\"cpu\")\n",
    "_model_parameters = model.parameters()\n",
    "embedding_matrix_center = next(\n",
    "    _model_parameters\n",
    ").detach()  # Assuming that first matrix was for central word\n",
    "embedding_matrix_context = next(\n",
    "    _model_parameters\n",
    ").detach()  # Assuming that second matrix was for context word"
   ]
  },
  {
   "cell_type": "code",
   "execution_count": 88,
   "metadata": {
    "id": "_RZA_LEqN-yw"
   },
   "outputs": [],
   "source": [
    "def get_word_vector(word, embedding_matrix, word_to_index=word_to_index):\n",
    "    return embedding_matrix[word_to_index[word]]"
   ]
  },
  {
   "cell_type": "markdown",
   "metadata": {
    "id": "_8lRIzQ0N-yw"
   },
   "source": [
    "Простые проверки:"
   ]
  },
  {
   "cell_type": "code",
   "execution_count": 89,
   "metadata": {
    "colab": {
     "base_uri": "https://localhost:8080/",
     "height": 185
    },
    "id": "mXjegmOMN-yy",
    "outputId": "1ee579fc-3a09-4b4d-b103-3af37a73041a"
   },
   "outputs": [
    {
     "ename": "AssertionError",
     "evalue": "",
     "output_type": "error",
     "traceback": [
      "\u001b[0;31m---------------------------------------------------------------------------\u001b[0m",
      "\u001b[0;31mAssertionError\u001b[0m                            Traceback (most recent call last)",
      "Cell \u001b[0;32mIn[89], line 9\u001b[0m\n\u001b[1;32m      1\u001b[0m similarity_1 \u001b[38;5;241m=\u001b[39m F\u001b[38;5;241m.\u001b[39mcosine_similarity(\n\u001b[1;32m      2\u001b[0m     get_word_vector(\u001b[38;5;124m\"\u001b[39m\u001b[38;5;124miphone\u001b[39m\u001b[38;5;124m\"\u001b[39m, embedding_matrix_context)[\u001b[38;5;28;01mNone\u001b[39;00m, :],\n\u001b[1;32m      3\u001b[0m     get_word_vector(\u001b[38;5;124m\"\u001b[39m\u001b[38;5;124mapple\u001b[39m\u001b[38;5;124m\"\u001b[39m, embedding_matrix_context)[\u001b[38;5;28;01mNone\u001b[39;00m, :],\n\u001b[1;32m      4\u001b[0m )\n\u001b[1;32m      5\u001b[0m similarity_2 \u001b[38;5;241m=\u001b[39m F\u001b[38;5;241m.\u001b[39mcosine_similarity(\n\u001b[1;32m      6\u001b[0m     get_word_vector(\u001b[38;5;124m\"\u001b[39m\u001b[38;5;124miphone\u001b[39m\u001b[38;5;124m\"\u001b[39m, embedding_matrix_context)[\u001b[38;5;28;01mNone\u001b[39;00m, :],\n\u001b[1;32m      7\u001b[0m     get_word_vector(\u001b[38;5;124m\"\u001b[39m\u001b[38;5;124mdell\u001b[39m\u001b[38;5;124m\"\u001b[39m, embedding_matrix_context)[\u001b[38;5;28;01mNone\u001b[39;00m, :],\n\u001b[1;32m      8\u001b[0m )\n\u001b[0;32m----> 9\u001b[0m \u001b[38;5;28;01massert\u001b[39;00m similarity_1 \u001b[38;5;241m>\u001b[39m similarity_2\n",
      "\u001b[0;31mAssertionError\u001b[0m: "
     ]
    }
   ],
   "source": [
    "similarity_1 = F.cosine_similarity(\n",
    "    get_word_vector(\"iphone\", embedding_matrix_context)[None, :],\n",
    "    get_word_vector(\"apple\", embedding_matrix_context)[None, :],\n",
    ")\n",
    "similarity_2 = F.cosine_similarity(\n",
    "    get_word_vector(\"iphone\", embedding_matrix_context)[None, :],\n",
    "    get_word_vector(\"dell\", embedding_matrix_context)[None, :],\n",
    ")\n",
    "assert similarity_1 > similarity_2"
   ]
  },
  {
   "cell_type": "code",
   "execution_count": 90,
   "metadata": {
    "colab": {
     "base_uri": "https://localhost:8080/"
    },
    "id": "c40-p-KBIIiQ",
    "outputId": "f48930e3-1c3d-4ae4-8f0c-39ef00ec7751"
   },
   "outputs": [
    {
     "data": {
      "text/plain": [
       "tensor([0.7553])"
      ]
     },
     "execution_count": 90,
     "metadata": {},
     "output_type": "execute_result"
    }
   ],
   "source": [
    "\n",
    "\n",
    "similarity_1"
   ]
  },
  {
   "cell_type": "code",
   "execution_count": 91,
   "metadata": {
    "colab": {
     "base_uri": "https://localhost:8080/"
    },
    "id": "IGKtRugRIMaa",
    "outputId": "772ffc55-3fe4-4e50-da40-7ab67288bc5a"
   },
   "outputs": [
    {
     "data": {
      "text/plain": [
       "tensor([0.7619])"
      ]
     },
     "execution_count": 91,
     "metadata": {},
     "output_type": "execute_result"
    }
   ],
   "source": [
    "similarity_2"
   ]
  },
  {
   "cell_type": "code",
   "execution_count": 92,
   "metadata": {
    "id": "3vZkYlFgN-yy"
   },
   "outputs": [],
   "source": [
    "similarity_1 = F.cosine_similarity(\n",
    "    get_word_vector(\"windows\", embedding_matrix_context)[None, :],\n",
    "    get_word_vector(\"laptop\", embedding_matrix_context)[None, :],\n",
    ")\n",
    "similarity_2 = F.cosine_similarity(\n",
    "    get_word_vector(\"windows\", embedding_matrix_context)[None, :],\n",
    "    get_word_vector(\"macbook\", embedding_matrix_context)[None, :],\n",
    ")\n",
    "assert similarity_1 > similarity_2"
   ]
  },
  {
   "cell_type": "markdown",
   "metadata": {
    "id": "MLhzU5cxN-yy"
   },
   "source": [
    "Наконец, взглянем на ближайшие по косинусной мере слова. Функция реализована ниже."
   ]
  },
  {
   "cell_type": "code",
   "execution_count": 93,
   "metadata": {
    "id": "dA0V6rOYtsLk"
   },
   "outputs": [],
   "source": [
    "def find_nearest(word, embedding_matrix, word_to_index=word_to_index, k=10):\n",
    "    word_vector = get_word_vector(word, embedding_matrix)[None, :]\n",
    "    dists = F.cosine_similarity(embedding_matrix, word_vector)\n",
    "    index_sorted = torch.argsort(dists)\n",
    "    top_k = index_sorted[-k:]\n",
    "    return [(index_to_word[x], dists[x].item()) for x in top_k.numpy()]"
   ]
  },
  {
   "cell_type": "code",
   "execution_count": 94,
   "metadata": {
    "colab": {
     "base_uri": "https://localhost:8080/"
    },
    "id": "NVq824mrN-yz",
    "outputId": "9e743b25-a929-4104-d874-c07337d7d482"
   },
   "outputs": [
    {
     "data": {
      "text/plain": [
       "[('applet', 0.8474921584129333),\n",
       " ('scripting', 0.8537403345108032),\n",
       " ('scala', 0.8566858768463135),\n",
       " ('perl', 0.8617085814476013),\n",
       " ('php', 0.874343752861023),\n",
       " ('c', 0.8871350288391113),\n",
       " ('programming', 0.8879057765007019),\n",
       " ('javascript', 0.9150815606117249),\n",
       " ('java', 0.9170292615890503),\n",
       " ('python', 1.0)]"
      ]
     },
     "execution_count": 94,
     "metadata": {},
     "output_type": "execute_result"
    }
   ],
   "source": [
    "find_nearest(\"python\", embedding_matrix_context, k=10)"
   ]
  },
  {
   "cell_type": "markdown",
   "metadata": {
    "id": "xLUSLY21N-yz"
   },
   "source": [
    "Также вы можете визуально проверить, как представлены в латентном пространстве часто встречающиеся слова."
   ]
  },
  {
   "cell_type": "code",
   "execution_count": 95,
   "metadata": {
    "id": "sSvjaVPEN-yz"
   },
   "outputs": [],
   "source": [
    "top_k = 5000\n",
    "_top_words = sorted([x for x in word_count_dict.items()], key=lambda x: x[1])[\n",
    "    -top_k - 100 : -100\n",
    "]  # ignoring 100 most frequent words\n",
    "top_words = [x[0] for x in _top_words]\n",
    "del _top_words"
   ]
  },
  {
   "cell_type": "code",
   "execution_count": 96,
   "metadata": {
    "id": "1pAJmYAGN-yz"
   },
   "outputs": [],
   "source": [
    "word_embeddings = torch.cat(\n",
    "    [embedding_matrix_context[word_to_index[x]][None, :] for x in top_words], dim=0\n",
    ").numpy()"
   ]
  },
  {
   "cell_type": "code",
   "execution_count": 97,
   "metadata": {
    "id": "UwwshTp_N-yz"
   },
   "outputs": [
    {
     "data": {
      "text/html": [
       "    <style>\n",
       "        .bk-notebook-logo {\n",
       "            display: block;\n",
       "            width: 20px;\n",
       "            height: 20px;\n",
       "            background-image: url(data:image/png;base64,iVBORw0KGgoAAAANSUhEUgAAABQAAAAUCAYAAACNiR0NAAAABHNCSVQICAgIfAhkiAAAAAlwSFlzAAALEgAACxIB0t1+/AAAABx0RVh0U29mdHdhcmUAQWRvYmUgRmlyZXdvcmtzIENTNui8sowAAAOkSURBVDiNjZRtaJVlGMd/1/08zzln5zjP1LWcU9N0NkN8m2CYjpgQYQXqSs0I84OLIC0hkEKoPtiH3gmKoiJDU7QpLgoLjLIQCpEsNJ1vqUOdO7ppbuec5+V+rj4ctwzd8IIbbi6u+8f1539dt3A78eXC7QizUF7gyV1fD1Yqg4JWz84yffhm0qkFqBogB9rM8tZdtwVsPUhWhGcFJngGeWrPzHm5oaMmkfEg1usvLFyc8jLRqDOMru7AyC8saQr7GG7f5fvDeH7Ej8CM66nIF+8yngt6HWaKh7k49Soy9nXurCi1o3qUbS3zWfrYeQDTB/Qj6kX6Ybhw4B+bOYoLKCC9H3Nu/leUTZ1JdRWkkn2ldcCamzrcf47KKXdAJllSlxAOkRgyHsGC/zRday5Qld9DyoM4/q/rUoy/CXh3jzOu3bHUVZeU+DEn8FInkPBFlu3+nW3Nw0mk6vCDiWg8CeJaxEwuHS3+z5RgY+YBR6V1Z1nxSOfoaPa4LASWxxdNp+VWTk7+4vzaou8v8PN+xo+KY2xsw6une2frhw05CTYOmQvsEhjhWjn0bmXPjpE1+kplmmkP3suftwTubK9Vq22qKmrBhpY4jvd5afdRA3wGjFAgcnTK2s4hY0/GPNIb0nErGMCRxWOOX64Z8RAC4oCXdklmEvcL8o0BfkNK4lUg9HTl+oPlQxdNo3Mg4Nv175e/1LDGzZen30MEjRUtmXSfiTVu1kK8W4txyV6BMKlbgk3lMwYCiusNy9fVfvvwMxv8Ynl6vxoByANLTWplvuj/nF9m2+PDtt1eiHPBr1oIfhCChQMBw6Aw0UulqTKZdfVvfG7VcfIqLG9bcldL/+pdWTLxLUy8Qq38heUIjh4XlzZxzQm19lLFlr8vdQ97rjZVOLf8nclzckbcD4wxXMidpX30sFd37Fv/GtwwhzhxGVAprjbg0gCAEeIgwCZyTV2Z1REEW8O4py0wsjeloKoMr6iCY6dP92H6Vw/oTyICIthibxjm/DfN9lVz8IqtqKYLUXfoKVMVQVVJOElGjrnnUt9T9wbgp8AyYKaGlqingHZU/uG2NTZSVqwHQTWkx9hxjkpWDaCg6Ckj5qebgBVbT3V3NNXMSiWSDdGV3hrtzla7J+duwPOToIg42ChPQOQjspnSlp1V+Gjdged7+8UN5CRAV7a5EdFNwCjEaBR27b3W890TE7g24NAP/mMDXRWrGoFPQI9ls/MWO2dWFAar/xcOIImbbpA3zgAAAABJRU5ErkJggg==);\n",
       "        }\n",
       "    </style>\n",
       "    <div>\n",
       "        <a href=\"https://bokeh.org\" target=\"_blank\" class=\"bk-notebook-logo\"></a>\n",
       "        <span id=\"a81ade2c-348b-4e74-88e4-59c5c4c57b9d\">Loading BokehJS ...</span>\n",
       "    </div>\n"
      ]
     },
     "metadata": {},
     "output_type": "display_data"
    },
    {
     "data": {
      "application/javascript": [
       "'use strict';\n",
       "(function(root) {\n",
       "  function now() {\n",
       "    return new Date();\n",
       "  }\n",
       "\n",
       "  const force = true;\n",
       "\n",
       "  if (typeof root._bokeh_onload_callbacks === \"undefined\" || force === true) {\n",
       "    root._bokeh_onload_callbacks = [];\n",
       "    root._bokeh_is_loading = undefined;\n",
       "  }\n",
       "\n",
       "const JS_MIME_TYPE = 'application/javascript';\n",
       "  const HTML_MIME_TYPE = 'text/html';\n",
       "  const EXEC_MIME_TYPE = 'application/vnd.bokehjs_exec.v0+json';\n",
       "  const CLASS_NAME = 'output_bokeh rendered_html';\n",
       "\n",
       "  /**\n",
       "   * Render data to the DOM node\n",
       "   */\n",
       "  function render(props, node) {\n",
       "    const script = document.createElement(\"script\");\n",
       "    node.appendChild(script);\n",
       "  }\n",
       "\n",
       "  /**\n",
       "   * Handle when an output is cleared or removed\n",
       "   */\n",
       "  function handleClearOutput(event, handle) {\n",
       "    function drop(id) {\n",
       "      const view = Bokeh.index.get_by_id(id)\n",
       "      if (view != null) {\n",
       "        view.model.document.clear()\n",
       "        Bokeh.index.delete(view)\n",
       "      }\n",
       "    }\n",
       "\n",
       "    const cell = handle.cell;\n",
       "\n",
       "    const id = cell.output_area._bokeh_element_id;\n",
       "    const server_id = cell.output_area._bokeh_server_id;\n",
       "\n",
       "    // Clean up Bokeh references\n",
       "    if (id != null) {\n",
       "      drop(id)\n",
       "    }\n",
       "\n",
       "    if (server_id !== undefined) {\n",
       "      // Clean up Bokeh references\n",
       "      const cmd_clean = \"from bokeh.io.state import curstate; print(curstate().uuid_to_server['\" + server_id + \"'].get_sessions()[0].document.roots[0]._id)\";\n",
       "      cell.notebook.kernel.execute(cmd_clean, {\n",
       "        iopub: {\n",
       "          output: function(msg) {\n",
       "            const id = msg.content.text.trim()\n",
       "            drop(id)\n",
       "          }\n",
       "        }\n",
       "      });\n",
       "      // Destroy server and session\n",
       "      const cmd_destroy = \"import bokeh.io.notebook as ion; ion.destroy_server('\" + server_id + \"')\";\n",
       "      cell.notebook.kernel.execute(cmd_destroy);\n",
       "    }\n",
       "  }\n",
       "\n",
       "  /**\n",
       "   * Handle when a new output is added\n",
       "   */\n",
       "  function handleAddOutput(event, handle) {\n",
       "    const output_area = handle.output_area;\n",
       "    const output = handle.output;\n",
       "\n",
       "    // limit handleAddOutput to display_data with EXEC_MIME_TYPE content only\n",
       "    if ((output.output_type != \"display_data\") || (!Object.prototype.hasOwnProperty.call(output.data, EXEC_MIME_TYPE))) {\n",
       "      return\n",
       "    }\n",
       "\n",
       "    const toinsert = output_area.element.find(\".\" + CLASS_NAME.split(' ')[0]);\n",
       "\n",
       "    if (output.metadata[EXEC_MIME_TYPE][\"id\"] !== undefined) {\n",
       "      toinsert[toinsert.length - 1].firstChild.textContent = output.data[JS_MIME_TYPE];\n",
       "      // store reference to embed id on output_area\n",
       "      output_area._bokeh_element_id = output.metadata[EXEC_MIME_TYPE][\"id\"];\n",
       "    }\n",
       "    if (output.metadata[EXEC_MIME_TYPE][\"server_id\"] !== undefined) {\n",
       "      const bk_div = document.createElement(\"div\");\n",
       "      bk_div.innerHTML = output.data[HTML_MIME_TYPE];\n",
       "      const script_attrs = bk_div.children[0].attributes;\n",
       "      for (let i = 0; i < script_attrs.length; i++) {\n",
       "        toinsert[toinsert.length - 1].firstChild.setAttribute(script_attrs[i].name, script_attrs[i].value);\n",
       "        toinsert[toinsert.length - 1].firstChild.textContent = bk_div.children[0].textContent\n",
       "      }\n",
       "      // store reference to server id on output_area\n",
       "      output_area._bokeh_server_id = output.metadata[EXEC_MIME_TYPE][\"server_id\"];\n",
       "    }\n",
       "  }\n",
       "\n",
       "  function register_renderer(events, OutputArea) {\n",
       "\n",
       "    function append_mime(data, metadata, element) {\n",
       "      // create a DOM node to render to\n",
       "      const toinsert = this.create_output_subarea(\n",
       "        metadata,\n",
       "        CLASS_NAME,\n",
       "        EXEC_MIME_TYPE\n",
       "      );\n",
       "      this.keyboard_manager.register_events(toinsert);\n",
       "      // Render to node\n",
       "      const props = {data: data, metadata: metadata[EXEC_MIME_TYPE]};\n",
       "      render(props, toinsert[toinsert.length - 1]);\n",
       "      element.append(toinsert);\n",
       "      return toinsert\n",
       "    }\n",
       "\n",
       "    /* Handle when an output is cleared or removed */\n",
       "    events.on('clear_output.CodeCell', handleClearOutput);\n",
       "    events.on('delete.Cell', handleClearOutput);\n",
       "\n",
       "    /* Handle when a new output is added */\n",
       "    events.on('output_added.OutputArea', handleAddOutput);\n",
       "\n",
       "    /**\n",
       "     * Register the mime type and append_mime function with output_area\n",
       "     */\n",
       "    OutputArea.prototype.register_mime_type(EXEC_MIME_TYPE, append_mime, {\n",
       "      /* Is output safe? */\n",
       "      safe: true,\n",
       "      /* Index of renderer in `output_area.display_order` */\n",
       "      index: 0\n",
       "    });\n",
       "  }\n",
       "\n",
       "  // register the mime type if in Jupyter Notebook environment and previously unregistered\n",
       "  if (root.Jupyter !== undefined) {\n",
       "    const events = require('base/js/events');\n",
       "    const OutputArea = require('notebook/js/outputarea').OutputArea;\n",
       "\n",
       "    if (OutputArea.prototype.mime_types().indexOf(EXEC_MIME_TYPE) == -1) {\n",
       "      register_renderer(events, OutputArea);\n",
       "    }\n",
       "  }\n",
       "  if (typeof (root._bokeh_timeout) === \"undefined\" || force === true) {\n",
       "    root._bokeh_timeout = Date.now() + 5000;\n",
       "    root._bokeh_failed_load = false;\n",
       "  }\n",
       "\n",
       "  const NB_LOAD_WARNING = {'data': {'text/html':\n",
       "     \"<div style='background-color: #fdd'>\\n\"+\n",
       "     \"<p>\\n\"+\n",
       "     \"BokehJS does not appear to have successfully loaded. If loading BokehJS from CDN, this \\n\"+\n",
       "     \"may be due to a slow or bad network connection. Possible fixes:\\n\"+\n",
       "     \"</p>\\n\"+\n",
       "     \"<ul>\\n\"+\n",
       "     \"<li>re-rerun `output_notebook()` to attempt to load from CDN again, or</li>\\n\"+\n",
       "     \"<li>use INLINE resources instead, as so:</li>\\n\"+\n",
       "     \"</ul>\\n\"+\n",
       "     \"<code>\\n\"+\n",
       "     \"from bokeh.resources import INLINE\\n\"+\n",
       "     \"output_notebook(resources=INLINE)\\n\"+\n",
       "     \"</code>\\n\"+\n",
       "     \"</div>\"}};\n",
       "\n",
       "  function display_loaded(error = null) {\n",
       "    const el = document.getElementById(\"a81ade2c-348b-4e74-88e4-59c5c4c57b9d\");\n",
       "    if (el != null) {\n",
       "      const html = (() => {\n",
       "        if (typeof root.Bokeh === \"undefined\") {\n",
       "          if (error == null) {\n",
       "            return \"BokehJS is loading ...\";\n",
       "          } else {\n",
       "            return \"BokehJS failed to load.\";\n",
       "          }\n",
       "        } else {\n",
       "          const prefix = `BokehJS ${root.Bokeh.version}`;\n",
       "          if (error == null) {\n",
       "            return `${prefix} successfully loaded.`;\n",
       "          } else {\n",
       "            return `${prefix} <b>encountered errors</b> while loading and may not function as expected.`;\n",
       "          }\n",
       "        }\n",
       "      })();\n",
       "      el.innerHTML = html;\n",
       "\n",
       "      if (error != null) {\n",
       "        const wrapper = document.createElement(\"div\");\n",
       "        wrapper.style.overflow = \"auto\";\n",
       "        wrapper.style.height = \"5em\";\n",
       "        wrapper.style.resize = \"vertical\";\n",
       "        const content = document.createElement(\"div\");\n",
       "        content.style.fontFamily = \"monospace\";\n",
       "        content.style.whiteSpace = \"pre-wrap\";\n",
       "        content.style.backgroundColor = \"rgb(255, 221, 221)\";\n",
       "        content.textContent = error.stack ?? error.toString();\n",
       "        wrapper.append(content);\n",
       "        el.append(wrapper);\n",
       "      }\n",
       "    } else if (Date.now() < root._bokeh_timeout) {\n",
       "      setTimeout(() => display_loaded(error), 100);\n",
       "    }\n",
       "  }\n",
       "\n",
       "  function run_callbacks() {\n",
       "    try {\n",
       "      root._bokeh_onload_callbacks.forEach(function(callback) {\n",
       "        if (callback != null)\n",
       "          callback();\n",
       "      });\n",
       "    } finally {\n",
       "      delete root._bokeh_onload_callbacks\n",
       "    }\n",
       "    console.debug(\"Bokeh: all callbacks have finished\");\n",
       "  }\n",
       "\n",
       "  function load_libs(css_urls, js_urls, callback) {\n",
       "    if (css_urls == null) css_urls = [];\n",
       "    if (js_urls == null) js_urls = [];\n",
       "\n",
       "    root._bokeh_onload_callbacks.push(callback);\n",
       "    if (root._bokeh_is_loading > 0) {\n",
       "      console.debug(\"Bokeh: BokehJS is being loaded, scheduling callback at\", now());\n",
       "      return null;\n",
       "    }\n",
       "    if (js_urls == null || js_urls.length === 0) {\n",
       "      run_callbacks();\n",
       "      return null;\n",
       "    }\n",
       "    console.debug(\"Bokeh: BokehJS not loaded, scheduling load and callback at\", now());\n",
       "    root._bokeh_is_loading = css_urls.length + js_urls.length;\n",
       "\n",
       "    function on_load() {\n",
       "      root._bokeh_is_loading--;\n",
       "      if (root._bokeh_is_loading === 0) {\n",
       "        console.debug(\"Bokeh: all BokehJS libraries/stylesheets loaded\");\n",
       "        run_callbacks()\n",
       "      }\n",
       "    }\n",
       "\n",
       "    function on_error(url) {\n",
       "      console.error(\"failed to load \" + url);\n",
       "    }\n",
       "\n",
       "    for (let i = 0; i < css_urls.length; i++) {\n",
       "      const url = css_urls[i];\n",
       "      const element = document.createElement(\"link\");\n",
       "      element.onload = on_load;\n",
       "      element.onerror = on_error.bind(null, url);\n",
       "      element.rel = \"stylesheet\";\n",
       "      element.type = \"text/css\";\n",
       "      element.href = url;\n",
       "      console.debug(\"Bokeh: injecting link tag for BokehJS stylesheet: \", url);\n",
       "      document.body.appendChild(element);\n",
       "    }\n",
       "\n",
       "    for (let i = 0; i < js_urls.length; i++) {\n",
       "      const url = js_urls[i];\n",
       "      const element = document.createElement('script');\n",
       "      element.onload = on_load;\n",
       "      element.onerror = on_error.bind(null, url);\n",
       "      element.async = false;\n",
       "      element.src = url;\n",
       "      console.debug(\"Bokeh: injecting script tag for BokehJS library: \", url);\n",
       "      document.head.appendChild(element);\n",
       "    }\n",
       "  };\n",
       "\n",
       "  function inject_raw_css(css) {\n",
       "    const element = document.createElement(\"style\");\n",
       "    element.appendChild(document.createTextNode(css));\n",
       "    document.body.appendChild(element);\n",
       "  }\n",
       "\n",
       "  const js_urls = [\"https://cdn.bokeh.org/bokeh/release/bokeh-3.6.0.min.js\", \"https://cdn.bokeh.org/bokeh/release/bokeh-gl-3.6.0.min.js\", \"https://cdn.bokeh.org/bokeh/release/bokeh-widgets-3.6.0.min.js\", \"https://cdn.bokeh.org/bokeh/release/bokeh-tables-3.6.0.min.js\", \"https://cdn.bokeh.org/bokeh/release/bokeh-mathjax-3.6.0.min.js\"];\n",
       "  const css_urls = [];\n",
       "\n",
       "  const inline_js = [    function(Bokeh) {\n",
       "      Bokeh.set_log_level(\"info\");\n",
       "    },\n",
       "function(Bokeh) {\n",
       "    }\n",
       "  ];\n",
       "\n",
       "  function run_inline_js() {\n",
       "    if (root.Bokeh !== undefined || force === true) {\n",
       "      try {\n",
       "            for (let i = 0; i < inline_js.length; i++) {\n",
       "      inline_js[i].call(root, root.Bokeh);\n",
       "    }\n",
       "\n",
       "      } catch (error) {display_loaded(error);throw error;\n",
       "      }if (force === true) {\n",
       "        display_loaded();\n",
       "      }} else if (Date.now() < root._bokeh_timeout) {\n",
       "      setTimeout(run_inline_js, 100);\n",
       "    } else if (!root._bokeh_failed_load) {\n",
       "      console.log(\"Bokeh: BokehJS failed to load within specified timeout.\");\n",
       "      root._bokeh_failed_load = true;\n",
       "    } else if (force !== true) {\n",
       "      const cell = $(document.getElementById(\"a81ade2c-348b-4e74-88e4-59c5c4c57b9d\")).parents('.cell').data().cell;\n",
       "      cell.output_area.append_execute_result(NB_LOAD_WARNING)\n",
       "    }\n",
       "  }\n",
       "\n",
       "  if (root._bokeh_is_loading === 0) {\n",
       "    console.debug(\"Bokeh: BokehJS loaded, going straight to plotting\");\n",
       "    run_inline_js();\n",
       "  } else {\n",
       "    load_libs(css_urls, js_urls, function() {\n",
       "      console.debug(\"Bokeh: BokehJS plotting callback run at\", now());\n",
       "      run_inline_js();\n",
       "    });\n",
       "  }\n",
       "}(window));"
      ],
      "application/vnd.bokehjs_load.v0+json": "'use strict';\n(function(root) {\n  function now() {\n    return new Date();\n  }\n\n  const force = true;\n\n  if (typeof root._bokeh_onload_callbacks === \"undefined\" || force === true) {\n    root._bokeh_onload_callbacks = [];\n    root._bokeh_is_loading = undefined;\n  }\n\n\n  if (typeof (root._bokeh_timeout) === \"undefined\" || force === true) {\n    root._bokeh_timeout = Date.now() + 5000;\n    root._bokeh_failed_load = false;\n  }\n\n  const NB_LOAD_WARNING = {'data': {'text/html':\n     \"<div style='background-color: #fdd'>\\n\"+\n     \"<p>\\n\"+\n     \"BokehJS does not appear to have successfully loaded. If loading BokehJS from CDN, this \\n\"+\n     \"may be due to a slow or bad network connection. Possible fixes:\\n\"+\n     \"</p>\\n\"+\n     \"<ul>\\n\"+\n     \"<li>re-rerun `output_notebook()` to attempt to load from CDN again, or</li>\\n\"+\n     \"<li>use INLINE resources instead, as so:</li>\\n\"+\n     \"</ul>\\n\"+\n     \"<code>\\n\"+\n     \"from bokeh.resources import INLINE\\n\"+\n     \"output_notebook(resources=INLINE)\\n\"+\n     \"</code>\\n\"+\n     \"</div>\"}};\n\n  function display_loaded(error = null) {\n    const el = document.getElementById(\"a81ade2c-348b-4e74-88e4-59c5c4c57b9d\");\n    if (el != null) {\n      const html = (() => {\n        if (typeof root.Bokeh === \"undefined\") {\n          if (error == null) {\n            return \"BokehJS is loading ...\";\n          } else {\n            return \"BokehJS failed to load.\";\n          }\n        } else {\n          const prefix = `BokehJS ${root.Bokeh.version}`;\n          if (error == null) {\n            return `${prefix} successfully loaded.`;\n          } else {\n            return `${prefix} <b>encountered errors</b> while loading and may not function as expected.`;\n          }\n        }\n      })();\n      el.innerHTML = html;\n\n      if (error != null) {\n        const wrapper = document.createElement(\"div\");\n        wrapper.style.overflow = \"auto\";\n        wrapper.style.height = \"5em\";\n        wrapper.style.resize = \"vertical\";\n        const content = document.createElement(\"div\");\n        content.style.fontFamily = \"monospace\";\n        content.style.whiteSpace = \"pre-wrap\";\n        content.style.backgroundColor = \"rgb(255, 221, 221)\";\n        content.textContent = error.stack ?? error.toString();\n        wrapper.append(content);\n        el.append(wrapper);\n      }\n    } else if (Date.now() < root._bokeh_timeout) {\n      setTimeout(() => display_loaded(error), 100);\n    }\n  }\n\n  function run_callbacks() {\n    try {\n      root._bokeh_onload_callbacks.forEach(function(callback) {\n        if (callback != null)\n          callback();\n      });\n    } finally {\n      delete root._bokeh_onload_callbacks\n    }\n    console.debug(\"Bokeh: all callbacks have finished\");\n  }\n\n  function load_libs(css_urls, js_urls, callback) {\n    if (css_urls == null) css_urls = [];\n    if (js_urls == null) js_urls = [];\n\n    root._bokeh_onload_callbacks.push(callback);\n    if (root._bokeh_is_loading > 0) {\n      console.debug(\"Bokeh: BokehJS is being loaded, scheduling callback at\", now());\n      return null;\n    }\n    if (js_urls == null || js_urls.length === 0) {\n      run_callbacks();\n      return null;\n    }\n    console.debug(\"Bokeh: BokehJS not loaded, scheduling load and callback at\", now());\n    root._bokeh_is_loading = css_urls.length + js_urls.length;\n\n    function on_load() {\n      root._bokeh_is_loading--;\n      if (root._bokeh_is_loading === 0) {\n        console.debug(\"Bokeh: all BokehJS libraries/stylesheets loaded\");\n        run_callbacks()\n      }\n    }\n\n    function on_error(url) {\n      console.error(\"failed to load \" + url);\n    }\n\n    for (let i = 0; i < css_urls.length; i++) {\n      const url = css_urls[i];\n      const element = document.createElement(\"link\");\n      element.onload = on_load;\n      element.onerror = on_error.bind(null, url);\n      element.rel = \"stylesheet\";\n      element.type = \"text/css\";\n      element.href = url;\n      console.debug(\"Bokeh: injecting link tag for BokehJS stylesheet: \", url);\n      document.body.appendChild(element);\n    }\n\n    for (let i = 0; i < js_urls.length; i++) {\n      const url = js_urls[i];\n      const element = document.createElement('script');\n      element.onload = on_load;\n      element.onerror = on_error.bind(null, url);\n      element.async = false;\n      element.src = url;\n      console.debug(\"Bokeh: injecting script tag for BokehJS library: \", url);\n      document.head.appendChild(element);\n    }\n  };\n\n  function inject_raw_css(css) {\n    const element = document.createElement(\"style\");\n    element.appendChild(document.createTextNode(css));\n    document.body.appendChild(element);\n  }\n\n  const js_urls = [\"https://cdn.bokeh.org/bokeh/release/bokeh-3.6.0.min.js\", \"https://cdn.bokeh.org/bokeh/release/bokeh-gl-3.6.0.min.js\", \"https://cdn.bokeh.org/bokeh/release/bokeh-widgets-3.6.0.min.js\", \"https://cdn.bokeh.org/bokeh/release/bokeh-tables-3.6.0.min.js\", \"https://cdn.bokeh.org/bokeh/release/bokeh-mathjax-3.6.0.min.js\"];\n  const css_urls = [];\n\n  const inline_js = [    function(Bokeh) {\n      Bokeh.set_log_level(\"info\");\n    },\nfunction(Bokeh) {\n    }\n  ];\n\n  function run_inline_js() {\n    if (root.Bokeh !== undefined || force === true) {\n      try {\n            for (let i = 0; i < inline_js.length; i++) {\n      inline_js[i].call(root, root.Bokeh);\n    }\n\n      } catch (error) {display_loaded(error);throw error;\n      }if (force === true) {\n        display_loaded();\n      }} else if (Date.now() < root._bokeh_timeout) {\n      setTimeout(run_inline_js, 100);\n    } else if (!root._bokeh_failed_load) {\n      console.log(\"Bokeh: BokehJS failed to load within specified timeout.\");\n      root._bokeh_failed_load = true;\n    } else if (force !== true) {\n      const cell = $(document.getElementById(\"a81ade2c-348b-4e74-88e4-59c5c4c57b9d\")).parents('.cell').data().cell;\n      cell.output_area.append_execute_result(NB_LOAD_WARNING)\n    }\n  }\n\n  if (root._bokeh_is_loading === 0) {\n    console.debug(\"Bokeh: BokehJS loaded, going straight to plotting\");\n    run_inline_js();\n  } else {\n    load_libs(css_urls, js_urls, function() {\n      console.debug(\"Bokeh: BokehJS plotting callback run at\", now());\n      run_inline_js();\n    });\n  }\n}(window));"
     },
     "metadata": {},
     "output_type": "display_data"
    }
   ],
   "source": [
    "import bokeh.models as bm\n",
    "import bokeh.plotting as pl\n",
    "from bokeh.io import output_notebook\n",
    "\n",
    "output_notebook()\n",
    "\n",
    "\n",
    "def draw_vectors(\n",
    "    x,\n",
    "    y,\n",
    "    radius=10,\n",
    "    alpha=0.25,\n",
    "    color=\"blue\",\n",
    "    width=600,\n",
    "    height=400,\n",
    "    show=True,\n",
    "    **kwargs,\n",
    "):\n",
    "    \"\"\"draws an interactive plot for data points with auxilirary info on hover\"\"\"\n",
    "    if isinstance(color, str):\n",
    "        color = [color] * len(x)\n",
    "    data_source = bm.ColumnDataSource({\"x\": x, \"y\": y, \"color\": color, **kwargs})\n",
    "\n",
    "    fig = pl.figure(active_scroll=\"wheel_zoom\", width=width, height=height)\n",
    "    fig.scatter(\"x\", \"y\", size=radius, color=\"color\", alpha=alpha, source=data_source)\n",
    "\n",
    "    fig.add_tools(bm.HoverTool(tooltips=[(key, \"@\" + key) for key in kwargs.keys()]))\n",
    "    if show:\n",
    "        pl.show(fig)\n",
    "    return fig"
   ]
  },
  {
   "cell_type": "code",
   "execution_count": 98,
   "metadata": {
    "id": "tUw3han1N-yz"
   },
   "outputs": [],
   "source": [
    "embedding = umap.UMAP(n_neighbors=5).fit_transform(word_embeddings)"
   ]
  },
  {
   "cell_type": "code",
   "execution_count": 99,
   "metadata": {
    "colab": {
     "base_uri": "https://localhost:8080/",
     "height": 434
    },
    "id": "0VqtJiQkN-yz",
    "outputId": "ae1a5a81-85c1-4af6-da5d-e1eaeee58e9a"
   },
   "outputs": [
    {
     "data": {
      "text/html": [
       "\n",
       "  <div id=\"cfa89745-5661-4f3d-85ca-7a0896e6c41f\" data-root-id=\"p1106\" style=\"display: contents;\"></div>\n"
      ]
     },
     "metadata": {},
     "output_type": "display_data"
    },
    {
     "data": {
      "application/javascript": [
       "(function(root) {\n",
       "  function embed_document(root) {\n",
       "  const docs_json = {\"59197a89-aaf5-48e6-b665-71fbf76d5b87\":{\"version\":\"3.6.0\",\"title\":\"Bokeh Application\",\"roots\":[{\"type\":\"object\",\"name\":\"Figure\",\"id\":\"p1106\",\"attributes\":{\"height\":400,\"x_range\":{\"type\":\"object\",\"name\":\"DataRange1d\",\"id\":\"p1107\"},\"y_range\":{\"type\":\"object\",\"name\":\"DataRange1d\",\"id\":\"p1108\"},\"x_scale\":{\"type\":\"object\",\"name\":\"LinearScale\",\"id\":\"p1115\"},\"y_scale\":{\"type\":\"object\",\"name\":\"LinearScale\",\"id\":\"p1116\"},\"title\":{\"type\":\"object\",\"name\":\"Title\",\"id\":\"p1113\"},\"renderers\":[{\"type\":\"object\",\"name\":\"GlyphRenderer\",\"id\":\"p1146\",\"attributes\":{\"data_source\":{\"type\":\"object\",\"name\":\"ColumnDataSource\",\"id\":\"p1103\",\"attributes\":{\"selected\":{\"type\":\"object\",\"name\":\"Selection\",\"id\":\"p1104\",\"attributes\":{\"indices\":[],\"line_indices\":[]}},\"selection_policy\":{\"type\":\"object\",\"name\":\"UnionRenderers\",\"id\":\"p1105\"},\"data\":{\"type\":\"map\",\"entries\":[[\"x\",{\"type\":\"ndarray\",\"array\":{\"type\":\"bytes\",\"data\":\"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\"},\"shape\":[5000],\"dtype\":\"float32\",\"order\":\"little\"}],[\"y\",{\"type\":\"ndarray\",\"array\":{\"type\":\"bytes\",\"data\":\"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\"},\"shape\":[5000],\"dtype\":\"float32\",\"order\":\"little\"}],[\"color\",[\"blue\",\"blue\",\"blue\",\"blue\",\"blue\",\"blue\",\"blue\",\"blue\",\"blue\",\"blue\",\"blue\",\"blue\",\"blue\",\"blue\",\"blue\",\"blue\",\"blue\",\"blue\",\"blue\",\"blue\",\"blue\",\"blue\",\"blue\",\"blue\",\"blue\",\"blue\",\"blue\",\"blue\",\"blue\",\"blue\",\"blue\",\"blue\",\"blue\",\"blue\",\"blue\",\"blue\",\"blue\",\"blue\",\"blue\",\"blue\",\"blue\",\"blue\",\"blue\",\"blue\",\"blue\",\"blue\",\"blue\",\"blue\",\"blue\",\"blue\",\"blue\",\"blue\",\"blue\",\"blue\",\"blue\",\"blue\",\"blue\",\"blue\",\"blue\",\"blue\",\"blue\",\"blue\",\"blue\",\"blue\",\"blue\",\"blue\",\"blue\",\"blue\",\"blue\",\"blue\",\"blue\",\"blue\",\"blue\",\"blue\",\"blue\",\"blue\",\"blue\",\"blue\",\"blue\",\"blue\",\"blue\",\"blue\",\"blue\",\"blue\",\"blue\",\"blue\",\"blue\",\"blue\",\"blue\",\"blue\",\"blue\",\"blue\",\"blue\",\"blue\",\"blue\",\"blue\",\"blue\",\"blue\",\"blue\",\"blue\",\"blue\",\"blue\",\"blue\",\"blue\",\"blue\",\"blue\",\"blue\",\"blue\",\"blue\",\"blue\",\"blue\",\"blue\",\"blue\",\"blue\",\"blue\",\"blue\",\"blue\",\"blue\",\"blue\",\"blue\",\"blue\",\"blue\",\"blue\",\"blue\",\"blue\",\"blue\",\"blue\",\"blue\",\"blue\",\"blue\",\"blue\",\"blue\",\"blue\",\"blue\",\"blue\",\"blue\",\"blue\",\"blue\",\"blue\",\"blue\",\"blue\",\"blue\",\"blue\",\"blue\",\"blue\",\"blue\",\"blue\",\"blue\",\"blue\",\"blue\",\"blue\",\"blue\",\"blue\",\"blue\",\"blue\",\"blue\",\"blue\",\"blue\",\"blue\",\"blue\",\"blue\",\"blue\",\"blue\",\"blue\",\"blue\",\"blue\",\"blue\",\"blue\",\"blue\",\"blue\",\"blue\",\"blue\",\"blue\",\"blue\",\"blue\",\"blue\",\"blue\",\"blue\",\"blue\",\"blue\",\"blue\",\"blue\",\"blue\",\"blue\",\"blue\",\"blue\",\"blue\",\"blue\",\"blue\",\"blue\",\"blue\",\"blue\",\"blue\",\"blue\",\"blue\",\"blue\",\"blue\",\"blue\",\"blue\",\"blue\",\"blue\",\"blue\",\"blue\",\"blue\",\"blue\",\"blue\",\"blue\",\"blue\",\"blue\",\"blue\",\"blue\",\"blue\",\"blue\",\"blue\",\"blue\",\"blue\",\"blue\",\"blue\",\"blue\",\"blue\",\"blue\",\"blue\",\"blue\",\"blue\",\"blue\",\"blue\",\"blue\",\"blue\",\"blue\",\"blue\",\"blue\",\"blue\",\"blue\",\"blue\",\"blue\",\"blue\",\"blue\",\"blue\",\"blue\",\"blue\",\"blue\",\"blue\",\"blue\",\"blue\",\"blue\",\"blue\",\"blue\",\"blue\",\"blue\",\"blue\",\"blue\",\"blue\",\"blue\",\"blue\",\"blue\",\"blue\",\"blue\",\"blue\",\"blue\",\"blue\",\"blue\",\"blue\",\"blue\",\"blue\",\"blue\",\"blue\",\"blue\",\"blue\",\"blue\",\"blue\",\"blue\",\"blue\",\"blue\",\"blue\",\"blue\",\"blue\",\"blue\",\"blue\",\"blue\",\"blue\",\"blue\",\"blue\",\"blue\",\"blue\",\"blue\",\"blue\",\"blue\",\"blue\",\"blue\",\"blue\",\"blue\",\"blue\",\"blue\",\"blue\",\"blue\",\"blue\",\"blue\",\"blue\",\"blue\",\"blue\",\"blue\",\"blue\",\"blue\",\"blue\",\"blue\",\"blue\",\"blue\",\"blue\",\"blue\",\"blue\",\"blue\",\"blue\",\"blue\",\"blue\",\"blue\",\"blue\",\"blue\",\"blue\",\"blue\",\"blue\",\"blue\",\"blue\",\"blue\",\"blue\",\"blue\",\"blue\",\"blue\",\"blue\",\"blue\",\"blue\",\"blue\",\"blue\",\"blue\",\"blue\",\"blue\",\"blue\",\"blue\",\"blue\",\"blue\",\"blue\",\"blue\",\"blue\",\"blue\",\"blue\",\"blue\",\"blue\",\"blue\",\"blue\",\"blue\",\"blue\",\"blue\",\"blue\",\"blue\",\"blue\",\"blue\",\"blue\",\"blue\",\"blue\",\"blue\",\"blue\",\"blue\",\"blue\",\"blue\",\"blue\",\"blue\",\"blue\",\"blue\",\"blue\",\"blue\",\"blue\",\"blue\",\"blue\",\"blue\",\"blue\",\"blue\",\"blue\",\"blue\",\"blue\",\"blue\",\"blue\",\"blue\",\"blue\",\"blue\",\"blue\",\"blue\",\"blue\",\"blue\",\"blue\",\"blue\",\"blue\",\"blue\",\"blue\",\"blue\",\"blue\",\"blue\",\"blue\",\"blue\",\"blue\",\"blue\",\"blue\",\"blue\",\"blue\",\"blue\",\"blue\",\"blue\",\"blue\",\"blue\",\"blue\",\"blue\",\"blue\",\"blue\",\"blue\",\"blue\",\"blue\",\"blue\",\"blue\",\"blue\",\"blue\",\"blue\",\"blue\",\"blue\",\"blue\",\"blue\",\"blue\",\"blue\",\"blue\",\"blue\",\"blue\",\"blue\",\"blue\",\"blue\",\"blue\",\"blue\",\"blue\",\"blue\",\"blue\",\"blue\",\"blue\",\"blue\",\"blue\",\"blue\",\"blue\",\"blue\",\"blue\",\"blue\",\"blue\",\"blue\",\"blue\",\"blue\",\"blue\",\"blue\",\"blue\",\"blue\",\"blue\",\"blue\",\"blue\",\"blue\",\"blue\",\"blue\",\"blue\",\"blue\",\"blue\",\"blue\",\"blue\",\"blue\",\"blue\",\"blue\",\"blue\",\"blue\",\"blue\",\"blue\",\"blue\",\"blue\",\"blue\",\"blue\",\"blue\",\"blue\",\"blue\",\"blue\",\"blue\",\"blue\",\"blue\",\"blue\",\"blue\",\"blue\",\"blue\",\"blue\",\"blue\",\"blue\",\"blue\",\"blue\",\"blue\",\"blue\",\"blue\",\"blue\",\"blue\",\"blue\",\"blue\",\"blue\",\"blue\",\"blue\",\"blue\",\"blue\",\"blue\",\"blue\",\"blue\",\"blue\",\"blue\",\"blue\",\"blue\",\"blue\",\"blue\",\"blue\",\"blue\",\"blue\",\"blue\",\"blue\",\"blue\",\"blue\",\"blue\",\"blue\",\"blue\",\"blue\",\"blue\",\"blue\",\"blue\",\"blue\",\"blue\",\"blue\",\"blue\",\"blue\",\"blue\",\"blue\",\"blue\",\"blue\",\"blue\",\"blue\",\"blue\",\"blue\",\"blue\",\"blue\",\"blue\",\"blue\",\"blue\",\"blue\",\"blue\",\"blue\",\"blue\",\"blue\",\"blue\",\"blue\",\"blue\",\"blue\",\"blue\",\"blue\",\"blue\",\"blue\",\"blue\",\"blue\",\"blue\",\"blue\",\"blue\",\"blue\",\"blue\",\"blue\",\"blue\",\"blue\",\"blue\",\"blue\",\"blue\",\"blue\",\"blue\",\"blue\",\"blue\",\"blue\",\"blue\",\"blue\",\"blue\",\"blue\",\"blue\",\"blue\",\"blue\",\"blue\",\"blue\",\"blue\",\"blue\",\"blue\",\"blue\",\"blue\",\"blue\",\"blue\",\"blue\",\"blue\",\"blue\",\"blue\",\"blue\",\"blue\",\"blue\",\"blue\",\"blue\",\"blue\",\"blue\",\"blue\",\"blue\",\"blue\",\"blue\",\"blue\",\"blue\",\"blue\",\"blue\",\"blue\",\"blue\",\"blue\",\"blue\",\"blue\",\"blue\",\"blue\",\"blue\",\"blue\",\"blue\",\"blue\",\"blue\",\"blue\",\"blue\",\"blue\",\"blue\",\"blue\",\"blue\",\"blue\",\"blue\",\"blue\",\"blue\",\"blue\",\"blue\",\"blue\",\"blue\",\"blue\",\"blue\",\"blue\",\"blue\",\"blue\",\"blue\",\"blue\",\"blue\",\"blue\",\"blue\",\"blue\",\"blue\",\"blue\",\"blue\",\"blue\",\"blue\",\"blue\",\"blue\",\"blue\",\"blue\",\"blue\",\"blue\",\"blue\",\"blue\",\"blue\",\"blue\",\"blue\",\"blue\",\"blue\",\"blue\",\"blue\",\"blue\",\"blue\",\"blue\",\"blue\",\"blue\",\"blue\",\"blue\",\"blue\",\"blue\",\"blue\",\"blue\",\"blue\",\"blue\",\"blue\",\"blue\",\"blue\",\"blue\",\"blue\",\"blue\",\"blue\",\"blue\",\"blue\",\"blue\",\"blue\",\"blue\",\"blue\",\"blue\",\"blue\",\"blue\",\"blue\",\"blue\",\"blue\",\"blue\",\"blue\",\"blue\",\"blue\",\"blue\",\"blue\",\"blue\",\"blue\",\"blue\",\"blue\",\"blue\",\"blue\",\"blue\",\"blue\",\"blue\",\"blue\",\"blue\",\"blue\",\"blue\",\"blue\",\"blue\",\"blue\",\"blue\",\"blue\",\"blue\",\"blue\",\"blue\",\"blue\",\"blue\",\"blue\",\"blue\",\"blue\",\"blue\",\"blue\",\"blue\",\"blue\",\"blue\",\"blue\",\"blue\",\"blue\",\"blue\",\"blue\",\"blue\",\"blue\",\"blue\",\"blue\",\"blue\",\"blue\",\"blue\",\"blue\",\"blue\",\"blue\",\"blue\",\"blue\",\"blue\",\"blue\",\"blue\",\"blue\",\"blue\",\"blue\",\"blue\",\"blue\",\"blue\",\"blue\",\"blue\",\"blue\",\"blue\",\"blue\",\"blue\",\"blue\",\"blue\",\"blue\",\"blue\",\"blue\",\"blue\",\"blue\",\"blue\",\"blue\",\"blue\",\"blue\",\"blue\",\"blue\",\"blue\",\"blue\",\"blue\",\"blue\",\"blue\",\"blue\",\"blue\",\"blue\",\"blue\",\"blue\",\"blue\",\"blue\",\"blue\",\"blue\",\"blue\",\"blue\",\"blue\",\"blue\",\"blue\",\"blue\",\"blue\",\"blue\",\"blue\",\"blue\",\"blue\",\"blue\",\"blue\",\"blue\",\"blue\",\"blue\",\"blue\",\"blue\",\"blue\",\"blue\",\"blue\",\"blue\",\"blue\",\"blue\",\"blue\",\"blue\",\"blue\",\"blue\",\"blue\",\"blue\",\"blue\",\"blue\",\"blue\",\"blue\",\"blue\",\"blue\",\"blue\",\"blue\",\"blue\",\"blue\",\"blue\",\"blue\",\"blue\",\"blue\",\"blue\",\"blue\",\"blue\",\"blue\",\"blue\",\"blue\",\"blue\",\"blue\",\"blue\",\"blue\",\"blue\",\"blue\",\"blue\",\"blue\",\"blue\",\"blue\",\"blue\",\"blue\",\"blue\",\"blue\",\"blue\",\"blue\",\"blue\",\"blue\",\"blue\",\"blue\",\"blue\",\"blue\",\"blue\",\"blue\",\"blue\",\"blue\",\"blue\",\"blue\",\"blue\",\"blue\",\"blue\",\"blue\",\"blue\",\"blue\",\"blue\",\"blue\",\"blue\",\"blue\",\"blue\",\"blue\",\"blue\",\"blue\",\"blue\",\"blue\",\"blue\",\"blue\",\"blue\",\"blue\",\"blue\",\"blue\",\"blue\",\"blue\",\"blue\",\"blue\",\"blue\",\"blue\",\"blue\",\"blue\",\"blue\",\"blue\",\"blue\",\"blue\",\"blue\",\"blue\",\"blue\",\"blue\",\"blue\",\"blue\",\"blue\",\"blue\",\"blue\",\"blue\",\"blue\",\"blue\",\"blue\",\"blue\",\"blue\",\"blue\",\"blue\",\"blue\",\"blue\",\"blue\",\"blue\",\"blue\",\"blue\",\"blue\",\"blue\",\"blue\",\"blue\",\"blue\",\"blue\",\"blue\",\"blue\",\"blue\",\"blue\",\"blue\",\"blue\",\"blue\",\"blue\",\"blue\",\"blue\",\"blue\",\"blue\",\"blue\",\"blue\",\"blue\",\"blue\",\"blue\",\"blue\",\"blue\",\"blue\",\"blue\",\"blue\",\"blue\",\"blue\",\"blue\",\"blue\",\"blue\",\"blue\",\"blue\",\"blue\",\"blue\",\"blue\",\"blue\",\"blue\",\"blue\",\"blue\",\"blue\",\"blue\",\"blue\",\"blue\",\"blue\",\"blue\",\"blue\",\"blue\",\"blue\",\"blue\",\"blue\",\"blue\",\"blue\",\"blue\",\"blue\",\"blue\",\"blue\",\"blue\",\"blue\",\"blue\",\"blue\",\"blue\",\"blue\",\"blue\",\"blue\",\"blue\",\"blue\",\"blue\",\"blue\",\"blue\",\"blue\",\"blue\",\"blue\",\"blue\",\"blue\",\"blue\",\"blue\",\"blue\",\"blue\",\"blue\",\"blue\",\"blue\",\"blue\",\"blue\",\"blue\",\"blue\",\"blue\",\"blue\",\"blue\",\"blue\",\"blue\",\"blue\",\"blue\",\"blue\",\"blue\",\"blue\",\"blue\",\"blue\",\"blue\",\"blue\",\"blue\",\"blue\",\"blue\",\"blue\",\"blue\",\"blue\",\"blue\",\"blue\",\"blue\",\"blue\",\"blue\",\"blue\",\"blue\",\"blue\",\"blue\",\"blue\",\"blue\",\"blue\",\"blue\",\"blue\",\"blue\",\"blue\",\"blue\",\"blue\",\"blue\",\"blue\",\"blue\",\"blue\",\"blue\",\"blue\",\"blue\",\"blue\",\"blue\",\"blue\",\"blue\",\"blue\",\"blue\",\"blue\",\"blue\",\"blue\",\"blue\",\"blue\",\"blue\",\"blue\",\"blue\",\"blue\",\"blue\",\"blue\",\"blue\",\"blue\",\"blue\",\"blue\",\"blue\",\"blue\",\"blue\",\"blue\",\"blue\",\"blue\",\"blue\",\"blue\",\"blue\",\"blue\",\"blue\",\"blue\",\"blue\",\"blue\",\"blue\",\"blue\",\"blue\",\"blue\",\"blue\",\"blue\",\"blue\",\"blue\",\"blue\",\"blue\",\"blue\",\"blue\",\"blue\",\"blue\",\"blue\",\"blue\",\"blue\",\"blue\",\"blue\",\"blue\",\"blue\",\"blue\",\"blue\",\"blue\",\"blue\",\"blue\",\"blue\",\"blue\",\"blue\",\"blue\",\"blue\",\"blue\",\"blue\",\"blue\",\"blue\",\"blue\",\"blue\",\"blue\",\"blue\",\"blue\",\"blue\",\"blue\",\"blue\",\"blue\",\"blue\",\"blue\",\"blue\",\"blue\",\"blue\",\"blue\",\"blue\",\"blue\",\"blue\",\"blue\",\"blue\",\"blue\",\"blue\",\"blue\",\"blue\",\"blue\",\"blue\",\"blue\",\"blue\",\"blue\",\"blue\",\"blue\",\"blue\",\"blue\",\"blue\",\"blue\",\"blue\",\"blue\",\"blue\",\"blue\",\"blue\",\"blue\",\"blue\",\"blue\",\"blue\",\"blue\",\"blue\",\"blue\",\"blue\",\"blue\",\"blue\",\"blue\",\"blue\",\"blue\",\"blue\",\"blue\",\"blue\",\"blue\",\"blue\",\"blue\",\"blue\",\"blue\",\"blue\",\"blue\",\"blue\",\"blue\",\"blue\",\"blue\",\"blue\",\"blue\",\"blue\",\"blue\",\"blue\",\"blue\",\"blue\",\"blue\",\"blue\",\"blue\",\"blue\",\"blue\",\"blue\",\"blue\",\"blue\",\"blue\",\"blue\",\"blue\",\"blue\",\"blue\",\"blue\",\"blue\",\"blue\",\"blue\",\"blue\",\"blue\",\"blue\",\"blue\",\"blue\",\"blue\",\"blue\",\"blue\",\"blue\",\"blue\",\"blue\",\"blue\",\"blue\",\"blue\",\"blue\",\"blue\",\"blue\",\"blue\",\"blue\",\"blue\",\"blue\",\"blue\",\"blue\",\"blue\",\"blue\",\"blue\",\"blue\",\"blue\",\"blue\",\"blue\",\"blue\",\"blue\",\"blue\",\"blue\",\"blue\",\"blue\",\"blue\",\"blue\",\"blue\",\"blue\",\"blue\",\"blue\",\"blue\",\"blue\",\"blue\",\"blue\",\"blue\",\"blue\",\"blue\",\"blue\",\"blue\",\"blue\",\"blue\",\"blue\",\"blue\",\"blue\",\"blue\",\"blue\",\"blue\",\"blue\",\"blue\",\"blue\",\"blue\",\"blue\",\"blue\",\"blue\",\"blue\",\"blue\",\"blue\",\"blue\",\"blue\",\"blue\",\"blue\",\"blue\",\"blue\",\"blue\",\"blue\",\"blue\",\"blue\",\"blue\",\"blue\",\"blue\",\"blue\",\"blue\",\"blue\",\"blue\",\"blue\",\"blue\",\"blue\",\"blue\",\"blue\",\"blue\",\"blue\",\"blue\",\"blue\",\"blue\",\"blue\",\"blue\",\"blue\",\"blue\",\"blue\",\"blue\",\"blue\",\"blue\",\"blue\",\"blue\",\"blue\",\"blue\",\"blue\",\"blue\",\"blue\",\"blue\",\"blue\",\"blue\",\"blue\",\"blue\",\"blue\",\"blue\",\"blue\",\"blue\",\"blue\",\"blue\",\"blue\",\"blue\",\"blue\",\"blue\",\"blue\",\"blue\",\"blue\",\"blue\",\"blue\",\"blue\",\"blue\",\"blue\",\"blue\",\"blue\",\"blue\",\"blue\",\"blue\",\"blue\",\"blue\",\"blue\",\"blue\",\"blue\",\"blue\",\"blue\",\"blue\",\"blue\",\"blue\",\"blue\",\"blue\",\"blue\",\"blue\",\"blue\",\"blue\",\"blue\",\"blue\",\"blue\",\"blue\",\"blue\",\"blue\",\"blue\",\"blue\",\"blue\",\"blue\",\"blue\",\"blue\",\"blue\",\"blue\",\"blue\",\"blue\",\"blue\",\"blue\",\"blue\",\"blue\",\"blue\",\"blue\",\"blue\",\"blue\",\"blue\",\"blue\",\"blue\",\"blue\",\"blue\",\"blue\",\"blue\",\"blue\",\"blue\",\"blue\",\"blue\",\"blue\",\"blue\",\"blue\",\"blue\",\"blue\",\"blue\",\"blue\",\"blue\",\"blue\",\"blue\",\"blue\",\"blue\",\"blue\",\"blue\",\"blue\",\"blue\",\"blue\",\"blue\",\"blue\",\"blue\",\"blue\",\"blue\",\"blue\",\"blue\",\"blue\",\"blue\",\"blue\",\"blue\",\"blue\",\"blue\",\"blue\",\"blue\",\"blue\",\"blue\",\"blue\",\"blue\",\"blue\",\"blue\",\"blue\",\"blue\",\"blue\",\"blue\",\"blue\",\"blue\",\"blue\",\"blue\",\"blue\",\"blue\",\"blue\",\"blue\",\"blue\",\"blue\",\"blue\",\"blue\",\"blue\",\"blue\",\"blue\",\"blue\",\"blue\",\"blue\",\"blue\",\"blue\",\"blue\",\"blue\",\"blue\",\"blue\",\"blue\",\"blue\",\"blue\",\"blue\",\"blue\",\"blue\",\"blue\",\"blue\",\"blue\",\"blue\",\"blue\",\"blue\",\"blue\",\"blue\",\"blue\",\"blue\",\"blue\",\"blue\",\"blue\",\"blue\",\"blue\",\"blue\",\"blue\",\"blue\",\"blue\",\"blue\",\"blue\",\"blue\",\"blue\",\"blue\",\"blue\",\"blue\",\"blue\",\"blue\",\"blue\",\"blue\",\"blue\",\"blue\",\"blue\",\"blue\",\"blue\",\"blue\",\"blue\",\"blue\",\"blue\",\"blue\",\"blue\",\"blue\",\"blue\",\"blue\",\"blue\",\"blue\",\"blue\",\"blue\",\"blue\",\"blue\",\"blue\",\"blue\",\"blue\",\"blue\",\"blue\",\"blue\",\"blue\",\"blue\",\"blue\",\"blue\",\"blue\",\"blue\",\"blue\",\"blue\",\"blue\",\"blue\",\"blue\",\"blue\",\"blue\",\"blue\",\"blue\",\"blue\",\"blue\",\"blue\",\"blue\",\"blue\",\"blue\",\"blue\",\"blue\",\"blue\",\"blue\",\"blue\",\"blue\",\"blue\",\"blue\",\"blue\",\"blue\",\"blue\",\"blue\",\"blue\",\"blue\",\"blue\",\"blue\",\"blue\",\"blue\",\"blue\",\"blue\",\"blue\",\"blue\",\"blue\",\"blue\",\"blue\",\"blue\",\"blue\",\"blue\",\"blue\",\"blue\",\"blue\",\"blue\",\"blue\",\"blue\",\"blue\",\"blue\",\"blue\",\"blue\",\"blue\",\"blue\",\"blue\",\"blue\",\"blue\",\"blue\",\"blue\",\"blue\",\"blue\",\"blue\",\"blue\",\"blue\",\"blue\",\"blue\",\"blue\",\"blue\",\"blue\",\"blue\",\"blue\",\"blue\",\"blue\",\"blue\",\"blue\",\"blue\",\"blue\",\"blue\",\"blue\",\"blue\",\"blue\",\"blue\",\"blue\",\"blue\",\"blue\",\"blue\",\"blue\",\"blue\",\"blue\",\"blue\",\"blue\",\"blue\",\"blue\",\"blue\",\"blue\",\"blue\",\"blue\",\"blue\",\"blue\",\"blue\",\"blue\",\"blue\",\"blue\",\"blue\",\"blue\",\"blue\",\"blue\",\"blue\",\"blue\",\"blue\",\"blue\",\"blue\",\"blue\",\"blue\",\"blue\",\"blue\",\"blue\",\"blue\",\"blue\",\"blue\",\"blue\",\"blue\",\"blue\",\"blue\",\"blue\",\"blue\",\"blue\",\"blue\",\"blue\",\"blue\",\"blue\",\"blue\",\"blue\",\"blue\",\"blue\",\"blue\",\"blue\",\"blue\",\"blue\",\"blue\",\"blue\",\"blue\",\"blue\",\"blue\",\"blue\",\"blue\",\"blue\",\"blue\",\"blue\",\"blue\",\"blue\",\"blue\",\"blue\",\"blue\",\"blue\",\"blue\",\"blue\",\"blue\",\"blue\",\"blue\",\"blue\",\"blue\",\"blue\",\"blue\",\"blue\",\"blue\",\"blue\",\"blue\",\"blue\",\"blue\",\"blue\",\"blue\",\"blue\",\"blue\",\"blue\",\"blue\",\"blue\",\"blue\",\"blue\",\"blue\",\"blue\",\"blue\",\"blue\",\"blue\",\"blue\",\"blue\",\"blue\",\"blue\",\"blue\",\"blue\",\"blue\",\"blue\",\"blue\",\"blue\",\"blue\",\"blue\",\"blue\",\"blue\",\"blue\",\"blue\",\"blue\",\"blue\",\"blue\",\"blue\",\"blue\",\"blue\",\"blue\",\"blue\",\"blue\",\"blue\",\"blue\",\"blue\",\"blue\",\"blue\",\"blue\",\"blue\",\"blue\",\"blue\",\"blue\",\"blue\",\"blue\",\"blue\",\"blue\",\"blue\",\"blue\",\"blue\",\"blue\",\"blue\",\"blue\",\"blue\",\"blue\",\"blue\",\"blue\",\"blue\",\"blue\",\"blue\",\"blue\",\"blue\",\"blue\",\"blue\",\"blue\",\"blue\",\"blue\",\"blue\",\"blue\",\"blue\",\"blue\",\"blue\",\"blue\",\"blue\",\"blue\",\"blue\",\"blue\",\"blue\",\"blue\",\"blue\",\"blue\",\"blue\",\"blue\",\"blue\",\"blue\",\"blue\",\"blue\",\"blue\",\"blue\",\"blue\",\"blue\",\"blue\",\"blue\",\"blue\",\"blue\",\"blue\",\"blue\",\"blue\",\"blue\",\"blue\",\"blue\",\"blue\",\"blue\",\"blue\",\"blue\",\"blue\",\"blue\",\"blue\",\"blue\",\"blue\",\"blue\",\"blue\",\"blue\",\"blue\",\"blue\",\"blue\",\"blue\",\"blue\",\"blue\",\"blue\",\"blue\",\"blue\",\"blue\",\"blue\",\"blue\",\"blue\",\"blue\",\"blue\",\"blue\",\"blue\",\"blue\",\"blue\",\"blue\",\"blue\",\"blue\",\"blue\",\"blue\",\"blue\",\"blue\",\"blue\",\"blue\",\"blue\",\"blue\",\"blue\",\"blue\",\"blue\",\"blue\",\"blue\",\"blue\",\"blue\",\"blue\",\"blue\",\"blue\",\"blue\",\"blue\",\"blue\",\"blue\",\"blue\",\"blue\",\"blue\",\"blue\",\"blue\",\"blue\",\"blue\",\"blue\",\"blue\",\"blue\",\"blue\",\"blue\",\"blue\",\"blue\",\"blue\",\"blue\",\"blue\",\"blue\",\"blue\",\"blue\",\"blue\",\"blue\",\"blue\",\"blue\",\"blue\",\"blue\",\"blue\",\"blue\",\"blue\",\"blue\",\"blue\",\"blue\",\"blue\",\"blue\",\"blue\",\"blue\",\"blue\",\"blue\",\"blue\",\"blue\",\"blue\",\"blue\",\"blue\",\"blue\",\"blue\",\"blue\",\"blue\",\"blue\",\"blue\",\"blue\",\"blue\",\"blue\",\"blue\",\"blue\",\"blue\",\"blue\",\"blue\",\"blue\",\"blue\",\"blue\",\"blue\",\"blue\",\"blue\",\"blue\",\"blue\",\"blue\",\"blue\",\"blue\",\"blue\",\"blue\",\"blue\",\"blue\",\"blue\",\"blue\",\"blue\",\"blue\",\"blue\",\"blue\",\"blue\",\"blue\",\"blue\",\"blue\",\"blue\",\"blue\",\"blue\",\"blue\",\"blue\",\"blue\",\"blue\",\"blue\",\"blue\",\"blue\",\"blue\",\"blue\",\"blue\",\"blue\",\"blue\",\"blue\",\"blue\",\"blue\",\"blue\",\"blue\",\"blue\",\"blue\",\"blue\",\"blue\",\"blue\",\"blue\",\"blue\",\"blue\",\"blue\",\"blue\",\"blue\",\"blue\",\"blue\",\"blue\",\"blue\",\"blue\",\"blue\",\"blue\",\"blue\",\"blue\",\"blue\",\"blue\",\"blue\",\"blue\",\"blue\",\"blue\",\"blue\",\"blue\",\"blue\",\"blue\",\"blue\",\"blue\",\"blue\",\"blue\",\"blue\",\"blue\",\"blue\",\"blue\",\"blue\",\"blue\",\"blue\",\"blue\",\"blue\",\"blue\",\"blue\",\"blue\",\"blue\",\"blue\",\"blue\",\"blue\",\"blue\",\"blue\",\"blue\",\"blue\",\"blue\",\"blue\",\"blue\",\"blue\",\"blue\",\"blue\",\"blue\",\"blue\",\"blue\",\"blue\",\"blue\",\"blue\",\"blue\",\"blue\",\"blue\",\"blue\",\"blue\",\"blue\",\"blue\",\"blue\",\"blue\",\"blue\",\"blue\",\"blue\",\"blue\",\"blue\",\"blue\",\"blue\",\"blue\",\"blue\",\"blue\",\"blue\",\"blue\",\"blue\",\"blue\",\"blue\",\"blue\",\"blue\",\"blue\",\"blue\",\"blue\",\"blue\",\"blue\",\"blue\",\"blue\",\"blue\",\"blue\",\"blue\",\"blue\",\"blue\",\"blue\",\"blue\",\"blue\",\"blue\",\"blue\",\"blue\",\"blue\",\"blue\",\"blue\",\"blue\",\"blue\",\"blue\",\"blue\",\"blue\",\"blue\",\"blue\",\"blue\",\"blue\",\"blue\",\"blue\",\"blue\",\"blue\",\"blue\",\"blue\",\"blue\",\"blue\",\"blue\",\"blue\",\"blue\",\"blue\",\"blue\",\"blue\",\"blue\",\"blue\",\"blue\",\"blue\",\"blue\",\"blue\",\"blue\",\"blue\",\"blue\",\"blue\",\"blue\",\"blue\",\"blue\",\"blue\",\"blue\",\"blue\",\"blue\",\"blue\",\"blue\",\"blue\",\"blue\",\"blue\",\"blue\",\"blue\",\"blue\",\"blue\",\"blue\",\"blue\",\"blue\",\"blue\",\"blue\",\"blue\",\"blue\",\"blue\",\"blue\",\"blue\",\"blue\",\"blue\",\"blue\",\"blue\",\"blue\",\"blue\",\"blue\",\"blue\",\"blue\",\"blue\",\"blue\",\"blue\",\"blue\",\"blue\",\"blue\",\"blue\",\"blue\",\"blue\",\"blue\",\"blue\",\"blue\",\"blue\",\"blue\",\"blue\",\"blue\",\"blue\",\"blue\",\"blue\",\"blue\",\"blue\",\"blue\",\"blue\",\"blue\",\"blue\",\"blue\",\"blue\",\"blue\",\"blue\",\"blue\",\"blue\",\"blue\",\"blue\",\"blue\",\"blue\",\"blue\",\"blue\",\"blue\",\"blue\",\"blue\",\"blue\",\"blue\",\"blue\",\"blue\",\"blue\",\"blue\",\"blue\",\"blue\",\"blue\",\"blue\",\"blue\",\"blue\",\"blue\",\"blue\",\"blue\",\"blue\",\"blue\",\"blue\",\"blue\",\"blue\",\"blue\",\"blue\",\"blue\",\"blue\",\"blue\",\"blue\",\"blue\",\"blue\",\"blue\",\"blue\",\"blue\",\"blue\",\"blue\",\"blue\",\"blue\",\"blue\",\"blue\",\"blue\",\"blue\",\"blue\",\"blue\",\"blue\",\"blue\",\"blue\",\"blue\",\"blue\",\"blue\",\"blue\",\"blue\",\"blue\",\"blue\",\"blue\",\"blue\",\"blue\",\"blue\",\"blue\",\"blue\",\"blue\",\"blue\",\"blue\",\"blue\",\"blue\",\"blue\",\"blue\",\"blue\",\"blue\",\"blue\",\"blue\",\"blue\",\"blue\",\"blue\",\"blue\",\"blue\",\"blue\",\"blue\",\"blue\",\"blue\",\"blue\",\"blue\",\"blue\",\"blue\",\"blue\",\"blue\",\"blue\",\"blue\",\"blue\",\"blue\",\"blue\",\"blue\",\"blue\",\"blue\",\"blue\",\"blue\",\"blue\",\"blue\",\"blue\",\"blue\",\"blue\",\"blue\",\"blue\",\"blue\",\"blue\",\"blue\",\"blue\",\"blue\",\"blue\",\"blue\",\"blue\",\"blue\",\"blue\",\"blue\",\"blue\",\"blue\",\"blue\",\"blue\",\"blue\",\"blue\",\"blue\",\"blue\",\"blue\",\"blue\",\"blue\",\"blue\",\"blue\",\"blue\",\"blue\",\"blue\",\"blue\",\"blue\",\"blue\",\"blue\",\"blue\",\"blue\",\"blue\",\"blue\",\"blue\",\"blue\",\"blue\",\"blue\",\"blue\",\"blue\",\"blue\",\"blue\",\"blue\",\"blue\",\"blue\",\"blue\",\"blue\",\"blue\",\"blue\",\"blue\",\"blue\",\"blue\",\"blue\",\"blue\",\"blue\",\"blue\",\"blue\",\"blue\",\"blue\",\"blue\",\"blue\",\"blue\",\"blue\",\"blue\",\"blue\",\"blue\",\"blue\",\"blue\",\"blue\",\"blue\",\"blue\",\"blue\",\"blue\",\"blue\",\"blue\",\"blue\",\"blue\",\"blue\",\"blue\",\"blue\",\"blue\",\"blue\",\"blue\",\"blue\",\"blue\",\"blue\",\"blue\",\"blue\",\"blue\",\"blue\",\"blue\",\"blue\",\"blue\",\"blue\",\"blue\",\"blue\",\"blue\",\"blue\",\"blue\",\"blue\",\"blue\",\"blue\",\"blue\",\"blue\",\"blue\",\"blue\",\"blue\",\"blue\",\"blue\",\"blue\",\"blue\",\"blue\",\"blue\",\"blue\",\"blue\",\"blue\",\"blue\",\"blue\",\"blue\",\"blue\",\"blue\",\"blue\",\"blue\",\"blue\",\"blue\",\"blue\",\"blue\",\"blue\",\"blue\",\"blue\",\"blue\",\"blue\",\"blue\",\"blue\",\"blue\",\"blue\",\"blue\",\"blue\",\"blue\",\"blue\",\"blue\",\"blue\",\"blue\",\"blue\",\"blue\",\"blue\",\"blue\",\"blue\",\"blue\",\"blue\",\"blue\",\"blue\",\"blue\",\"blue\",\"blue\",\"blue\",\"blue\",\"blue\",\"blue\",\"blue\",\"blue\",\"blue\",\"blue\",\"blue\",\"blue\",\"blue\",\"blue\",\"blue\",\"blue\",\"blue\",\"blue\",\"blue\",\"blue\",\"blue\",\"blue\",\"blue\",\"blue\",\"blue\",\"blue\",\"blue\",\"blue\",\"blue\",\"blue\",\"blue\",\"blue\",\"blue\",\"blue\",\"blue\",\"blue\",\"blue\",\"blue\",\"blue\",\"blue\",\"blue\",\"blue\",\"blue\",\"blue\",\"blue\",\"blue\",\"blue\",\"blue\",\"blue\",\"blue\",\"blue\",\"blue\",\"blue\",\"blue\",\"blue\",\"blue\",\"blue\",\"blue\",\"blue\",\"blue\",\"blue\",\"blue\",\"blue\",\"blue\",\"blue\",\"blue\",\"blue\",\"blue\",\"blue\",\"blue\",\"blue\",\"blue\",\"blue\",\"blue\",\"blue\",\"blue\",\"blue\",\"blue\",\"blue\",\"blue\",\"blue\",\"blue\",\"blue\",\"blue\",\"blue\",\"blue\",\"blue\",\"blue\",\"blue\",\"blue\",\"blue\",\"blue\",\"blue\",\"blue\",\"blue\",\"blue\",\"blue\",\"blue\",\"blue\",\"blue\",\"blue\",\"blue\",\"blue\",\"blue\",\"blue\",\"blue\",\"blue\",\"blue\",\"blue\",\"blue\",\"blue\",\"blue\",\"blue\",\"blue\",\"blue\",\"blue\",\"blue\",\"blue\",\"blue\",\"blue\",\"blue\",\"blue\",\"blue\",\"blue\",\"blue\",\"blue\",\"blue\",\"blue\",\"blue\",\"blue\",\"blue\",\"blue\",\"blue\",\"blue\",\"blue\",\"blue\",\"blue\",\"blue\",\"blue\",\"blue\",\"blue\",\"blue\",\"blue\",\"blue\",\"blue\",\"blue\",\"blue\",\"blue\",\"blue\",\"blue\",\"blue\",\"blue\",\"blue\",\"blue\",\"blue\",\"blue\",\"blue\",\"blue\",\"blue\",\"blue\",\"blue\",\"blue\",\"blue\",\"blue\",\"blue\",\"blue\",\"blue\",\"blue\",\"blue\",\"blue\",\"blue\",\"blue\",\"blue\",\"blue\",\"blue\",\"blue\",\"blue\",\"blue\",\"blue\",\"blue\",\"blue\",\"blue\",\"blue\",\"blue\",\"blue\",\"blue\",\"blue\",\"blue\",\"blue\",\"blue\",\"blue\",\"blue\",\"blue\",\"blue\",\"blue\",\"blue\",\"blue\",\"blue\",\"blue\",\"blue\",\"blue\",\"blue\",\"blue\",\"blue\",\"blue\",\"blue\",\"blue\",\"blue\",\"blue\",\"blue\",\"blue\",\"blue\",\"blue\",\"blue\",\"blue\",\"blue\",\"blue\",\"blue\",\"blue\",\"blue\",\"blue\",\"blue\",\"blue\",\"blue\",\"blue\",\"blue\",\"blue\",\"blue\",\"blue\",\"blue\",\"blue\",\"blue\",\"blue\",\"blue\",\"blue\",\"blue\",\"blue\",\"blue\",\"blue\",\"blue\",\"blue\",\"blue\",\"blue\",\"blue\",\"blue\",\"blue\",\"blue\",\"blue\",\"blue\",\"blue\",\"blue\",\"blue\",\"blue\",\"blue\",\"blue\",\"blue\",\"blue\",\"blue\",\"blue\",\"blue\",\"blue\",\"blue\",\"blue\",\"blue\",\"blue\",\"blue\",\"blue\",\"blue\",\"blue\",\"blue\",\"blue\",\"blue\",\"blue\",\"blue\",\"blue\",\"blue\",\"blue\",\"blue\",\"blue\",\"blue\",\"blue\",\"blue\",\"blue\",\"blue\",\"blue\",\"blue\",\"blue\",\"blue\",\"blue\",\"blue\",\"blue\",\"blue\",\"blue\",\"blue\",\"blue\",\"blue\",\"blue\",\"blue\",\"blue\",\"blue\",\"blue\",\"blue\",\"blue\",\"blue\",\"blue\",\"blue\",\"blue\",\"blue\",\"blue\",\"blue\",\"blue\",\"blue\",\"blue\",\"blue\",\"blue\",\"blue\",\"blue\",\"blue\",\"blue\",\"blue\",\"blue\",\"blue\",\"blue\",\"blue\",\"blue\",\"blue\",\"blue\",\"blue\",\"blue\",\"blue\",\"blue\",\"blue\",\"blue\",\"blue\",\"blue\",\"blue\",\"blue\",\"blue\",\"blue\",\"blue\",\"blue\",\"blue\",\"blue\",\"blue\",\"blue\",\"blue\",\"blue\",\"blue\",\"blue\",\"blue\",\"blue\",\"blue\",\"blue\",\"blue\",\"blue\",\"blue\",\"blue\",\"blue\",\"blue\",\"blue\",\"blue\",\"blue\",\"blue\",\"blue\",\"blue\",\"blue\",\"blue\",\"blue\",\"blue\",\"blue\",\"blue\",\"blue\",\"blue\",\"blue\",\"blue\",\"blue\",\"blue\",\"blue\",\"blue\",\"blue\",\"blue\",\"blue\",\"blue\",\"blue\",\"blue\",\"blue\",\"blue\",\"blue\",\"blue\",\"blue\",\"blue\",\"blue\",\"blue\",\"blue\",\"blue\",\"blue\",\"blue\",\"blue\",\"blue\",\"blue\",\"blue\",\"blue\",\"blue\",\"blue\",\"blue\",\"blue\",\"blue\",\"blue\",\"blue\",\"blue\",\"blue\",\"blue\",\"blue\",\"blue\",\"blue\",\"blue\",\"blue\",\"blue\",\"blue\",\"blue\",\"blue\",\"blue\",\"blue\",\"blue\",\"blue\",\"blue\",\"blue\",\"blue\",\"blue\",\"blue\",\"blue\",\"blue\",\"blue\",\"blue\",\"blue\",\"blue\",\"blue\",\"blue\",\"blue\",\"blue\",\"blue\",\"blue\",\"blue\",\"blue\",\"blue\",\"blue\",\"blue\",\"blue\",\"blue\",\"blue\",\"blue\",\"blue\",\"blue\",\"blue\",\"blue\",\"blue\",\"blue\",\"blue\",\"blue\",\"blue\",\"blue\",\"blue\",\"blue\",\"blue\",\"blue\",\"blue\",\"blue\",\"blue\",\"blue\",\"blue\",\"blue\",\"blue\",\"blue\",\"blue\",\"blue\",\"blue\",\"blue\",\"blue\",\"blue\",\"blue\",\"blue\",\"blue\",\"blue\",\"blue\",\"blue\",\"blue\",\"blue\",\"blue\",\"blue\",\"blue\",\"blue\",\"blue\",\"blue\",\"blue\",\"blue\",\"blue\",\"blue\",\"blue\",\"blue\",\"blue\",\"blue\",\"blue\",\"blue\",\"blue\",\"blue\",\"blue\",\"blue\",\"blue\",\"blue\",\"blue\",\"blue\",\"blue\",\"blue\",\"blue\",\"blue\",\"blue\",\"blue\",\"blue\",\"blue\",\"blue\",\"blue\",\"blue\",\"blue\",\"blue\",\"blue\",\"blue\",\"blue\",\"blue\",\"blue\",\"blue\",\"blue\",\"blue\",\"blue\",\"blue\",\"blue\",\"blue\",\"blue\",\"blue\",\"blue\",\"blue\",\"blue\",\"blue\",\"blue\",\"blue\",\"blue\",\"blue\",\"blue\",\"blue\",\"blue\",\"blue\",\"blue\",\"blue\",\"blue\",\"blue\",\"blue\",\"blue\",\"blue\",\"blue\",\"blue\",\"blue\",\"blue\",\"blue\",\"blue\",\"blue\",\"blue\",\"blue\",\"blue\",\"blue\",\"blue\",\"blue\",\"blue\",\"blue\",\"blue\",\"blue\",\"blue\",\"blue\",\"blue\",\"blue\",\"blue\",\"blue\",\"blue\",\"blue\",\"blue\",\"blue\",\"blue\",\"blue\",\"blue\",\"blue\",\"blue\",\"blue\",\"blue\",\"blue\",\"blue\",\"blue\",\"blue\",\"blue\",\"blue\",\"blue\",\"blue\",\"blue\",\"blue\",\"blue\",\"blue\",\"blue\",\"blue\",\"blue\",\"blue\",\"blue\",\"blue\",\"blue\",\"blue\",\"blue\",\"blue\",\"blue\",\"blue\",\"blue\",\"blue\",\"blue\",\"blue\",\"blue\",\"blue\",\"blue\",\"blue\",\"blue\",\"blue\",\"blue\",\"blue\",\"blue\",\"blue\",\"blue\",\"blue\",\"blue\",\"blue\",\"blue\",\"blue\",\"blue\",\"blue\",\"blue\",\"blue\",\"blue\",\"blue\",\"blue\",\"blue\",\"blue\",\"blue\",\"blue\",\"blue\",\"blue\",\"blue\",\"blue\",\"blue\",\"blue\",\"blue\",\"blue\",\"blue\",\"blue\",\"blue\",\"blue\",\"blue\",\"blue\",\"blue\",\"blue\",\"blue\",\"blue\",\"blue\",\"blue\",\"blue\",\"blue\",\"blue\",\"blue\",\"blue\",\"blue\",\"blue\",\"blue\",\"blue\",\"blue\",\"blue\",\"blue\",\"blue\",\"blue\",\"blue\",\"blue\",\"blue\",\"blue\",\"blue\",\"blue\",\"blue\",\"blue\",\"blue\",\"blue\",\"blue\",\"blue\",\"blue\",\"blue\",\"blue\",\"blue\",\"blue\",\"blue\",\"blue\",\"blue\",\"blue\",\"blue\",\"blue\",\"blue\",\"blue\",\"blue\",\"blue\",\"blue\",\"blue\",\"blue\",\"blue\",\"blue\",\"blue\",\"blue\",\"blue\",\"blue\",\"blue\",\"blue\",\"blue\",\"blue\",\"blue\",\"blue\",\"blue\",\"blue\",\"blue\",\"blue\",\"blue\",\"blue\",\"blue\",\"blue\",\"blue\",\"blue\",\"blue\",\"blue\",\"blue\",\"blue\",\"blue\",\"blue\",\"blue\",\"blue\",\"blue\",\"blue\",\"blue\",\"blue\",\"blue\",\"blue\",\"blue\",\"blue\",\"blue\",\"blue\",\"blue\",\"blue\",\"blue\",\"blue\",\"blue\",\"blue\",\"blue\",\"blue\",\"blue\",\"blue\",\"blue\",\"blue\",\"blue\",\"blue\",\"blue\",\"blue\",\"blue\",\"blue\",\"blue\",\"blue\",\"blue\",\"blue\",\"blue\",\"blue\",\"blue\",\"blue\",\"blue\",\"blue\",\"blue\",\"blue\",\"blue\",\"blue\",\"blue\",\"blue\",\"blue\",\"blue\",\"blue\",\"blue\",\"blue\",\"blue\",\"blue\",\"blue\",\"blue\",\"blue\",\"blue\",\"blue\",\"blue\",\"blue\",\"blue\",\"blue\",\"blue\",\"blue\",\"blue\",\"blue\",\"blue\",\"blue\",\"blue\",\"blue\",\"blue\",\"blue\",\"blue\",\"blue\",\"blue\",\"blue\",\"blue\",\"blue\",\"blue\",\"blue\",\"blue\",\"blue\",\"blue\",\"blue\",\"blue\",\"blue\",\"blue\",\"blue\",\"blue\",\"blue\",\"blue\",\"blue\",\"blue\",\"blue\",\"blue\",\"blue\",\"blue\",\"blue\",\"blue\",\"blue\",\"blue\",\"blue\",\"blue\",\"blue\",\"blue\",\"blue\",\"blue\",\"blue\",\"blue\",\"blue\",\"blue\",\"blue\",\"blue\",\"blue\",\"blue\",\"blue\",\"blue\",\"blue\",\"blue\",\"blue\",\"blue\",\"blue\",\"blue\",\"blue\",\"blue\",\"blue\",\"blue\",\"blue\",\"blue\",\"blue\",\"blue\",\"blue\",\"blue\",\"blue\",\"blue\",\"blue\",\"blue\",\"blue\",\"blue\",\"blue\",\"blue\",\"blue\",\"blue\",\"blue\",\"blue\",\"blue\",\"blue\",\"blue\",\"blue\",\"blue\",\"blue\",\"blue\",\"blue\",\"blue\",\"blue\",\"blue\",\"blue\",\"blue\",\"blue\",\"blue\",\"blue\",\"blue\",\"blue\",\"blue\",\"blue\",\"blue\",\"blue\",\"blue\",\"blue\",\"blue\",\"blue\",\"blue\",\"blue\",\"blue\",\"blue\",\"blue\",\"blue\",\"blue\",\"blue\",\"blue\",\"blue\",\"blue\",\"blue\",\"blue\",\"blue\",\"blue\",\"blue\",\"blue\",\"blue\",\"blue\",\"blue\",\"blue\",\"blue\",\"blue\",\"blue\",\"blue\",\"blue\",\"blue\",\"blue\",\"blue\",\"blue\",\"blue\",\"blue\",\"blue\",\"blue\",\"blue\",\"blue\",\"blue\",\"blue\",\"blue\",\"blue\",\"blue\",\"blue\",\"blue\",\"blue\",\"blue\",\"blue\",\"blue\",\"blue\",\"blue\",\"blue\",\"blue\",\"blue\",\"blue\",\"blue\",\"blue\",\"blue\",\"blue\",\"blue\",\"blue\",\"blue\",\"blue\",\"blue\",\"blue\",\"blue\",\"blue\",\"blue\",\"blue\",\"blue\",\"blue\",\"blue\",\"blue\",\"blue\",\"blue\",\"blue\",\"blue\",\"blue\",\"blue\",\"blue\",\"blue\",\"blue\",\"blue\",\"blue\",\"blue\",\"blue\",\"blue\",\"blue\",\"blue\",\"blue\",\"blue\",\"blue\",\"blue\",\"blue\",\"blue\",\"blue\",\"blue\",\"blue\",\"blue\",\"blue\",\"blue\",\"blue\",\"blue\",\"blue\",\"blue\",\"blue\",\"blue\",\"blue\",\"blue\",\"blue\",\"blue\",\"blue\",\"blue\",\"blue\",\"blue\",\"blue\",\"blue\",\"blue\",\"blue\",\"blue\",\"blue\",\"blue\",\"blue\",\"blue\",\"blue\",\"blue\",\"blue\",\"blue\",\"blue\",\"blue\",\"blue\",\"blue\",\"blue\",\"blue\",\"blue\",\"blue\",\"blue\",\"blue\",\"blue\",\"blue\",\"blue\",\"blue\",\"blue\",\"blue\",\"blue\",\"blue\",\"blue\",\"blue\",\"blue\",\"blue\",\"blue\",\"blue\",\"blue\",\"blue\",\"blue\",\"blue\",\"blue\",\"blue\",\"blue\",\"blue\",\"blue\",\"blue\",\"blue\",\"blue\",\"blue\",\"blue\",\"blue\",\"blue\",\"blue\",\"blue\",\"blue\",\"blue\",\"blue\",\"blue\",\"blue\",\"blue\",\"blue\",\"blue\",\"blue\",\"blue\",\"blue\",\"blue\",\"blue\",\"blue\",\"blue\",\"blue\",\"blue\",\"blue\",\"blue\",\"blue\",\"blue\",\"blue\",\"blue\",\"blue\",\"blue\",\"blue\",\"blue\",\"blue\",\"blue\",\"blue\",\"blue\",\"blue\",\"blue\",\"blue\",\"blue\",\"blue\",\"blue\",\"blue\",\"blue\",\"blue\",\"blue\",\"blue\",\"blue\",\"blue\",\"blue\",\"blue\",\"blue\",\"blue\",\"blue\",\"blue\",\"blue\",\"blue\",\"blue\",\"blue\",\"blue\",\"blue\",\"blue\",\"blue\",\"blue\",\"blue\",\"blue\",\"blue\",\"blue\",\"blue\",\"blue\",\"blue\",\"blue\",\"blue\",\"blue\",\"blue\",\"blue\",\"blue\",\"blue\",\"blue\",\"blue\",\"blue\",\"blue\",\"blue\",\"blue\",\"blue\",\"blue\",\"blue\",\"blue\",\"blue\",\"blue\",\"blue\",\"blue\",\"blue\",\"blue\",\"blue\",\"blue\",\"blue\",\"blue\",\"blue\",\"blue\",\"blue\",\"blue\",\"blue\",\"blue\",\"blue\",\"blue\",\"blue\",\"blue\",\"blue\",\"blue\",\"blue\",\"blue\",\"blue\",\"blue\",\"blue\",\"blue\",\"blue\",\"blue\",\"blue\",\"blue\",\"blue\",\"blue\",\"blue\",\"blue\",\"blue\",\"blue\",\"blue\",\"blue\",\"blue\",\"blue\",\"blue\",\"blue\",\"blue\",\"blue\",\"blue\",\"blue\",\"blue\",\"blue\",\"blue\",\"blue\",\"blue\",\"blue\",\"blue\",\"blue\",\"blue\",\"blue\",\"blue\",\"blue\",\"blue\",\"blue\",\"blue\",\"blue\",\"blue\",\"blue\",\"blue\",\"blue\",\"blue\",\"blue\",\"blue\",\"blue\",\"blue\",\"blue\",\"blue\",\"blue\",\"blue\",\"blue\",\"blue\",\"blue\",\"blue\",\"blue\",\"blue\",\"blue\",\"blue\",\"blue\",\"blue\",\"blue\",\"blue\",\"blue\",\"blue\",\"blue\",\"blue\",\"blue\",\"blue\",\"blue\",\"blue\",\"blue\",\"blue\",\"blue\",\"blue\",\"blue\",\"blue\",\"blue\",\"blue\",\"blue\",\"blue\",\"blue\",\"blue\",\"blue\",\"blue\",\"blue\",\"blue\",\"blue\",\"blue\",\"blue\",\"blue\",\"blue\",\"blue\",\"blue\",\"blue\",\"blue\",\"blue\",\"blue\",\"blue\",\"blue\",\"blue\",\"blue\",\"blue\",\"blue\",\"blue\",\"blue\",\"blue\",\"blue\",\"blue\",\"blue\",\"blue\",\"blue\",\"blue\",\"blue\",\"blue\",\"blue\",\"blue\",\"blue\",\"blue\",\"blue\",\"blue\",\"blue\",\"blue\",\"blue\",\"blue\",\"blue\",\"blue\",\"blue\",\"blue\",\"blue\",\"blue\",\"blue\",\"blue\",\"blue\",\"blue\",\"blue\",\"blue\",\"blue\",\"blue\",\"blue\",\"blue\",\"blue\",\"blue\",\"blue\",\"blue\",\"blue\",\"blue\",\"blue\",\"blue\",\"blue\",\"blue\",\"blue\",\"blue\",\"blue\",\"blue\",\"blue\",\"blue\",\"blue\",\"blue\",\"blue\",\"blue\",\"blue\",\"blue\",\"blue\",\"blue\",\"blue\",\"blue\",\"blue\",\"blue\",\"blue\",\"blue\",\"blue\",\"blue\",\"blue\",\"blue\",\"blue\",\"blue\",\"blue\",\"blue\",\"blue\",\"blue\",\"blue\",\"blue\",\"blue\",\"blue\",\"blue\",\"blue\",\"blue\",\"blue\",\"blue\",\"blue\",\"blue\",\"blue\",\"blue\",\"blue\",\"blue\",\"blue\",\"blue\",\"blue\",\"blue\",\"blue\",\"blue\",\"blue\",\"blue\",\"blue\",\"blue\",\"blue\",\"blue\",\"blue\",\"blue\",\"blue\",\"blue\",\"blue\",\"blue\",\"blue\",\"blue\",\"blue\",\"blue\",\"blue\",\"blue\",\"blue\",\"blue\",\"blue\",\"blue\",\"blue\",\"blue\",\"blue\",\"blue\",\"blue\",\"blue\",\"blue\",\"blue\",\"blue\",\"blue\",\"blue\",\"blue\",\"blue\",\"blue\",\"blue\",\"blue\",\"blue\",\"blue\",\"blue\",\"blue\",\"blue\",\"blue\",\"blue\",\"blue\",\"blue\",\"blue\",\"blue\",\"blue\",\"blue\",\"blue\",\"blue\",\"blue\",\"blue\",\"blue\",\"blue\",\"blue\",\"blue\",\"blue\",\"blue\",\"blue\",\"blue\",\"blue\",\"blue\",\"blue\",\"blue\",\"blue\",\"blue\",\"blue\",\"blue\",\"blue\",\"blue\",\"blue\",\"blue\",\"blue\",\"blue\",\"blue\",\"blue\",\"blue\",\"blue\",\"blue\",\"blue\",\"blue\",\"blue\",\"blue\",\"blue\",\"blue\",\"blue\",\"blue\",\"blue\",\"blue\",\"blue\",\"blue\",\"blue\",\"blue\",\"blue\",\"blue\",\"blue\",\"blue\",\"blue\",\"blue\",\"blue\",\"blue\",\"blue\",\"blue\",\"blue\",\"blue\",\"blue\",\"blue\",\"blue\",\"blue\",\"blue\",\"blue\",\"blue\",\"blue\",\"blue\",\"blue\",\"blue\",\"blue\",\"blue\",\"blue\",\"blue\",\"blue\",\"blue\",\"blue\",\"blue\",\"blue\",\"blue\",\"blue\",\"blue\",\"blue\",\"blue\",\"blue\",\"blue\",\"blue\",\"blue\",\"blue\",\"blue\",\"blue\",\"blue\",\"blue\",\"blue\",\"blue\",\"blue\",\"blue\",\"blue\",\"blue\",\"blue\",\"blue\",\"blue\",\"blue\",\"blue\",\"blue\",\"blue\",\"blue\",\"blue\",\"blue\",\"blue\",\"blue\",\"blue\",\"blue\",\"blue\",\"blue\",\"blue\",\"blue\",\"blue\",\"blue\",\"blue\",\"blue\",\"blue\",\"blue\",\"blue\",\"blue\",\"blue\",\"blue\",\"blue\",\"blue\",\"blue\",\"blue\",\"blue\",\"blue\",\"blue\",\"blue\",\"blue\",\"blue\",\"blue\",\"blue\",\"blue\",\"blue\",\"blue\",\"blue\",\"blue\",\"blue\",\"blue\",\"blue\",\"blue\",\"blue\",\"blue\",\"blue\",\"blue\",\"blue\",\"blue\",\"blue\",\"blue\",\"blue\",\"blue\",\"blue\",\"blue\",\"blue\",\"blue\",\"blue\",\"blue\",\"blue\",\"blue\",\"blue\",\"blue\",\"blue\",\"blue\",\"blue\",\"blue\",\"blue\",\"blue\",\"blue\",\"blue\",\"blue\",\"blue\",\"blue\",\"blue\",\"blue\",\"blue\",\"blue\",\"blue\",\"blue\",\"blue\",\"blue\",\"blue\",\"blue\",\"blue\",\"blue\",\"blue\",\"blue\",\"blue\",\"blue\",\"blue\",\"blue\",\"blue\",\"blue\",\"blue\",\"blue\",\"blue\",\"blue\",\"blue\",\"blue\",\"blue\",\"blue\",\"blue\",\"blue\",\"blue\",\"blue\",\"blue\",\"blue\",\"blue\",\"blue\",\"blue\",\"blue\",\"blue\",\"blue\",\"blue\",\"blue\",\"blue\",\"blue\",\"blue\",\"blue\",\"blue\",\"blue\",\"blue\",\"blue\",\"blue\",\"blue\",\"blue\",\"blue\",\"blue\",\"blue\",\"blue\",\"blue\",\"blue\",\"blue\",\"blue\",\"blue\",\"blue\",\"blue\",\"blue\",\"blue\",\"blue\",\"blue\",\"blue\",\"blue\",\"blue\",\"blue\",\"blue\",\"blue\",\"blue\",\"blue\",\"blue\",\"blue\",\"blue\",\"blue\",\"blue\",\"blue\",\"blue\",\"blue\",\"blue\",\"blue\",\"blue\",\"blue\",\"blue\",\"blue\",\"blue\",\"blue\",\"blue\",\"blue\",\"blue\",\"blue\",\"blue\",\"blue\",\"blue\",\"blue\",\"blue\",\"blue\",\"blue\",\"blue\",\"blue\",\"blue\",\"blue\",\"blue\",\"blue\",\"blue\",\"blue\",\"blue\",\"blue\",\"blue\",\"blue\",\"blue\",\"blue\",\"blue\",\"blue\",\"blue\",\"blue\",\"blue\",\"blue\",\"blue\",\"blue\",\"blue\",\"blue\",\"blue\",\"blue\",\"blue\",\"blue\",\"blue\",\"blue\",\"blue\",\"blue\",\"blue\",\"blue\",\"blue\",\"blue\",\"blue\",\"blue\",\"blue\",\"blue\",\"blue\",\"blue\",\"blue\",\"blue\",\"blue\",\"blue\",\"blue\",\"blue\",\"blue\",\"blue\",\"blue\",\"blue\",\"blue\",\"blue\",\"blue\",\"blue\",\"blue\",\"blue\",\"blue\",\"blue\",\"blue\",\"blue\",\"blue\",\"blue\",\"blue\",\"blue\",\"blue\",\"blue\",\"blue\",\"blue\",\"blue\",\"blue\",\"blue\",\"blue\",\"blue\",\"blue\",\"blue\",\"blue\",\"blue\",\"blue\",\"blue\",\"blue\",\"blue\",\"blue\",\"blue\",\"blue\",\"blue\",\"blue\",\"blue\",\"blue\",\"blue\",\"blue\",\"blue\",\"blue\",\"blue\",\"blue\",\"blue\",\"blue\",\"blue\",\"blue\",\"blue\",\"blue\",\"blue\",\"blue\",\"blue\",\"blue\",\"blue\",\"blue\",\"blue\",\"blue\",\"blue\",\"blue\",\"blue\",\"blue\",\"blue\",\"blue\",\"blue\",\"blue\",\"blue\",\"blue\",\"blue\",\"blue\",\"blue\",\"blue\",\"blue\",\"blue\",\"blue\",\"blue\",\"blue\",\"blue\",\"blue\",\"blue\",\"blue\",\"blue\",\"blue\",\"blue\",\"blue\",\"blue\",\"blue\",\"blue\",\"blue\",\"blue\",\"blue\",\"blue\",\"blue\",\"blue\",\"blue\",\"blue\",\"blue\",\"blue\",\"blue\",\"blue\",\"blue\",\"blue\",\"blue\",\"blue\",\"blue\",\"blue\",\"blue\",\"blue\",\"blue\",\"blue\",\"blue\",\"blue\",\"blue\",\"blue\",\"blue\",\"blue\",\"blue\",\"blue\",\"blue\",\"blue\",\"blue\",\"blue\",\"blue\",\"blue\",\"blue\",\"blue\",\"blue\",\"blue\",\"blue\",\"blue\",\"blue\",\"blue\",\"blue\",\"blue\",\"blue\",\"blue\",\"blue\",\"blue\",\"blue\",\"blue\",\"blue\",\"blue\",\"blue\",\"blue\",\"blue\",\"blue\",\"blue\",\"blue\",\"blue\",\"blue\",\"blue\",\"blue\",\"blue\",\"blue\",\"blue\",\"blue\",\"blue\",\"blue\",\"blue\",\"blue\",\"blue\",\"blue\",\"blue\",\"blue\",\"blue\",\"blue\",\"blue\",\"blue\",\"blue\",\"blue\",\"blue\",\"blue\",\"blue\",\"blue\",\"blue\",\"blue\",\"blue\",\"blue\",\"blue\",\"blue\",\"blue\",\"blue\",\"blue\",\"blue\",\"blue\",\"blue\",\"blue\",\"blue\",\"blue\",\"blue\",\"blue\",\"blue\",\"blue\",\"blue\",\"blue\",\"blue\",\"blue\",\"blue\",\"blue\",\"blue\",\"blue\",\"blue\",\"blue\",\"blue\",\"blue\",\"blue\",\"blue\",\"blue\",\"blue\",\"blue\",\"blue\",\"blue\",\"blue\",\"blue\",\"blue\",\"blue\",\"blue\",\"blue\",\"blue\",\"blue\",\"blue\",\"blue\",\"blue\",\"blue\",\"blue\",\"blue\",\"blue\",\"blue\",\"blue\",\"blue\",\"blue\",\"blue\",\"blue\",\"blue\",\"blue\",\"blue\",\"blue\",\"blue\",\"blue\",\"blue\",\"blue\",\"blue\",\"blue\",\"blue\",\"blue\",\"blue\",\"blue\",\"blue\",\"blue\",\"blue\",\"blue\",\"blue\",\"blue\",\"blue\",\"blue\",\"blue\",\"blue\",\"blue\",\"blue\",\"blue\",\"blue\",\"blue\",\"blue\",\"blue\",\"blue\",\"blue\",\"blue\",\"blue\",\"blue\",\"blue\",\"blue\",\"blue\",\"blue\",\"blue\",\"blue\",\"blue\",\"blue\",\"blue\",\"blue\",\"blue\",\"blue\",\"blue\",\"blue\",\"blue\",\"blue\",\"blue\",\"blue\",\"blue\",\"blue\",\"blue\",\"blue\",\"blue\",\"blue\",\"blue\",\"blue\",\"blue\",\"blue\",\"blue\",\"blue\",\"blue\",\"blue\",\"blue\",\"blue\",\"blue\",\"blue\",\"blue\",\"blue\",\"blue\",\"blue\",\"blue\",\"blue\",\"blue\",\"blue\",\"blue\",\"blue\",\"blue\",\"blue\",\"blue\",\"blue\",\"blue\",\"blue\",\"blue\",\"blue\",\"blue\",\"blue\",\"blue\",\"blue\",\"blue\",\"blue\",\"blue\",\"blue\",\"blue\",\"blue\",\"blue\",\"blue\",\"blue\",\"blue\",\"blue\",\"blue\",\"blue\",\"blue\",\"blue\",\"blue\",\"blue\",\"blue\",\"blue\",\"blue\",\"blue\",\"blue\",\"blue\",\"blue\",\"blue\",\"blue\",\"blue\",\"blue\",\"blue\",\"blue\",\"blue\",\"blue\",\"blue\",\"blue\",\"blue\",\"blue\",\"blue\",\"blue\",\"blue\",\"blue\",\"blue\",\"blue\",\"blue\",\"blue\",\"blue\",\"blue\",\"blue\",\"blue\",\"blue\",\"blue\",\"blue\",\"blue\",\"blue\",\"blue\",\"blue\",\"blue\",\"blue\",\"blue\",\"blue\",\"blue\",\"blue\",\"blue\",\"blue\",\"blue\",\"blue\",\"blue\",\"blue\",\"blue\",\"blue\",\"blue\",\"blue\",\"blue\",\"blue\",\"blue\",\"blue\",\"blue\",\"blue\",\"blue\",\"blue\",\"blue\",\"blue\",\"blue\",\"blue\",\"blue\",\"blue\",\"blue\",\"blue\",\"blue\",\"blue\",\"blue\",\"blue\",\"blue\",\"blue\",\"blue\",\"blue\",\"blue\",\"blue\",\"blue\",\"blue\",\"blue\",\"blue\",\"blue\",\"blue\",\"blue\",\"blue\",\"blue\",\"blue\",\"blue\",\"blue\",\"blue\",\"blue\",\"blue\",\"blue\",\"blue\",\"blue\",\"blue\",\"blue\",\"blue\",\"blue\",\"blue\",\"blue\",\"blue\",\"blue\",\"blue\",\"blue\",\"blue\",\"blue\",\"blue\",\"blue\",\"blue\",\"blue\",\"blue\",\"blue\",\"blue\",\"blue\",\"blue\",\"blue\",\"blue\",\"blue\",\"blue\",\"blue\",\"blue\",\"blue\",\"blue\",\"blue\",\"blue\",\"blue\",\"blue\",\"blue\",\"blue\",\"blue\",\"blue\",\"blue\",\"blue\",\"blue\",\"blue\",\"blue\",\"blue\",\"blue\",\"blue\",\"blue\",\"blue\",\"blue\",\"blue\",\"blue\",\"blue\",\"blue\",\"blue\",\"blue\",\"blue\",\"blue\",\"blue\",\"blue\",\"blue\",\"blue\",\"blue\",\"blue\",\"blue\",\"blue\",\"blue\",\"blue\",\"blue\",\"blue\",\"blue\",\"blue\",\"blue\",\"blue\",\"blue\",\"blue\",\"blue\",\"blue\",\"blue\",\"blue\",\"blue\",\"blue\",\"blue\",\"blue\",\"blue\",\"blue\",\"blue\",\"blue\",\"blue\",\"blue\",\"blue\",\"blue\",\"blue\",\"blue\",\"blue\",\"blue\",\"blue\",\"blue\",\"blue\",\"blue\",\"blue\",\"blue\",\"blue\",\"blue\",\"blue\",\"blue\",\"blue\",\"blue\",\"blue\",\"blue\",\"blue\",\"blue\",\"blue\",\"blue\",\"blue\",\"blue\",\"blue\",\"blue\",\"blue\",\"blue\",\"blue\",\"blue\",\"blue\",\"blue\",\"blue\",\"blue\",\"blue\",\"blue\",\"blue\",\"blue\",\"blue\",\"blue\",\"blue\",\"blue\",\"blue\",\"blue\",\"blue\",\"blue\",\"blue\",\"blue\",\"blue\",\"blue\",\"blue\",\"blue\",\"blue\",\"blue\",\"blue\",\"blue\",\"blue\",\"blue\",\"blue\",\"blue\",\"blue\",\"blue\",\"blue\",\"blue\",\"blue\",\"blue\",\"blue\",\"blue\",\"blue\",\"blue\",\"blue\",\"blue\",\"blue\",\"blue\",\"blue\",\"blue\",\"blue\",\"blue\",\"blue\",\"blue\",\"blue\",\"blue\",\"blue\",\"blue\",\"blue\",\"blue\",\"blue\",\"blue\",\"blue\",\"blue\",\"blue\",\"blue\",\"blue\",\"blue\",\"blue\",\"blue\",\"blue\",\"blue\",\"blue\",\"blue\",\"blue\",\"blue\",\"blue\",\"blue\",\"blue\",\"blue\",\"blue\",\"blue\",\"blue\",\"blue\",\"blue\",\"blue\",\"blue\",\"blue\",\"blue\",\"blue\",\"blue\",\"blue\",\"blue\",\"blue\",\"blue\",\"blue\",\"blue\",\"blue\",\"blue\",\"blue\",\"blue\",\"blue\",\"blue\",\"blue\",\"blue\",\"blue\",\"blue\",\"blue\",\"blue\",\"blue\",\"blue\",\"blue\",\"blue\",\"blue\",\"blue\",\"blue\",\"blue\",\"blue\",\"blue\",\"blue\",\"blue\",\"blue\",\"blue\",\"blue\",\"blue\",\"blue\",\"blue\",\"blue\",\"blue\",\"blue\",\"blue\",\"blue\",\"blue\",\"blue\",\"blue\",\"blue\",\"blue\",\"blue\",\"blue\",\"blue\",\"blue\",\"blue\",\"blue\",\"blue\",\"blue\",\"blue\",\"blue\",\"blue\",\"blue\",\"blue\",\"blue\",\"blue\",\"blue\",\"blue\",\"blue\",\"blue\",\"blue\",\"blue\",\"blue\",\"blue\",\"blue\",\"blue\",\"blue\",\"blue\",\"blue\",\"blue\",\"blue\",\"blue\",\"blue\",\"blue\",\"blue\",\"blue\",\"blue\",\"blue\",\"blue\",\"blue\",\"blue\",\"blue\",\"blue\",\"blue\",\"blue\",\"blue\",\"blue\",\"blue\",\"blue\",\"blue\",\"blue\",\"blue\",\"blue\",\"blue\",\"blue\",\"blue\",\"blue\",\"blue\",\"blue\",\"blue\",\"blue\",\"blue\",\"blue\",\"blue\",\"blue\",\"blue\",\"blue\",\"blue\",\"blue\",\"blue\",\"blue\",\"blue\",\"blue\",\"blue\",\"blue\",\"blue\"]],[\"token\",[\"verified\",\"2gb\",\"illinois\",\"jazz\",\"checking\",\"telescope\",\"seasons\",\"astrologer\",\"contribution\",\"homemade\",\"heroes\",\"warcraft\",\"kumar\",\"tester\",\"politically\",\"conquer\",\"columbia\",\"quiet\",\"repeat\",\"kapil\",\"involve\",\"mckinsey\",\"switched\",\"att\",\"instance\",\"innocent\",\"portuguese\",\"subscribers\",\"cabinet\",\"terror\",\"85\",\"rotation\",\"shirts\",\"drawn\",\"bi\",\"aspergers\",\"inspiration\",\"beats\",\"\\u00a3\",\"approximately\",\"asset\",\"empathy\",\"rooting\",\"ia\",\"dandruff\",\"slab\",\"operator\",\"horrible\",\"dominant\",\"ocd\",\"spacetime\",\"blow\",\"installing\",\"learnt\",\"separation\",\"institution\",\"temples\",\"hons\",\"pound\",\"removing\",\"unemployment\",\"greenlit\",\"audit\",\"supplement\",\"roller\",\"dota\",\"tiny\",\"equally\",\"braces\",\"aggressive\",\"corn\",\"camps\",\"additional\",\"consent\",\"granted\",\"welfare\",\"myths\",\"stations\",\"timeline\",\"psychologist\",\"nagpur\",\"herself\",\"cooper\",\"exgirlfriend\",\"intercourse\",\"flip\",\"hurts\",\"lpa\",\"nerve\",\"tvs\",\"halloween\",\"screenshot\",\"biomedical\",\"covered\",\"milky\",\"onsite\",\"aside\",\"meaningful\",\"stretch\",\"joker\",\"encounter\",\"tone\",\"founders\",\"talked\",\"respectively\",\"downloads\",\"cocaine\",\"toxic\",\"sword\",\"fuck\",\"trainer\",\"partition\",\"boxing\",\"grid\",\"practicing\",\"menu\",\"cms\",\"indore\",\"ate\",\"volunteer\",\"misconceptions\",\"pics\",\"flies\",\"instantly\",\"trans\",\"friday\",\"sociopaths\",\"ctc\",\"hoax\",\"detailed\",\"sizes\",\"rejection\",\"limitations\",\"bharat\",\"kissing\",\"renewable\",\"oriented\",\"countrys\",\"dumps\",\"spiders\",\"technological\",\"advertisement\",\"headache\",\"zodiac\",\"accommodation\",\"venus\",\"calcium\",\"passenger\",\"falls\",\"overnight\",\"pickup\",\"gary\",\"transportation\",\"odds\",\"jupiter\",\"purchasing\",\"fluently\",\"flu\",\"photons\",\"conductor\",\"ohio\",\"balaji\",\"mcdonalds\",\"betting\",\"irrational\",\"sachin\",\"deactivate\",\"estimate\",\"hairs\",\"fluent\",\"errors\",\"remaining\",\"marriages\",\"medieval\",\"charles\",\"spider\",\"oxford\",\"gita\",\"races\",\"liquor\",\"poland\",\"lease\",\"co2\",\"selenium\",\"attempts\",\"crystal\",\"manaphy\",\"knight\",\"collapsed\",\"wheels\",\"behaviour\",\"bitcoins\",\"parliament\",\"himher\",\"handsome\",\"thousands\",\"caring\",\"kings\",\"lucky\",\"workplace\",\"condom\",\"intuitive\",\"chronic\",\"eyesight\",\"simulation\",\"prank\",\"quickest\",\"concert\",\"popularity\",\"connections\",\"disorders\",\"scripting\",\"appearance\",\"js\",\"depth\",\"cheque\",\"longterm\",\"documentaries\",\"dioxide\",\"bright\",\"info\",\"diseases\",\"appeal\",\"snap\",\"smoked\",\"singers\",\"boil\",\"probably\",\"temperatures\",\"appearing\",\"olive\",\"ntse\",\"telecom\",\"brief\",\"discrimination\",\"ethnic\",\"cache\",\"passionate\",\"shoulder\",\"assault\",\"marshmallow\",\"momentum\",\"yr\",\"migrate\",\"retire\",\"cet\",\"canvas\",\"vietnamese\",\"institutions\",\"meter\",\"roots\",\"integer\",\"imported\",\"ants\",\"lyft\",\"piercing\",\"il\",\"poop\",\"organisms\",\"ve\",\"entropy\",\"calm\",\"saddest\",\"toward\",\"myth\",\"sight\",\"filling\",\"hdmi\",\"satisfied\",\"transactions\",\"pharmacy\",\"nursing\",\"correlation\",\"regression\",\"awake\",\"md\",\"nri\",\"recommendations\",\"bin\",\"finland\",\"multi\",\"voted\",\"discovery\",\"edward\",\"touching\",\"immigrant\",\"geometry\",\"indicate\",\"ourselves\",\"texting\",\"seek\",\"expecting\",\"dj\",\"brake\",\"helicopter\",\"blonde\",\"triple\",\"ladies\",\"vivekananda\",\"switching\",\"prostitution\",\"banana\",\"magazines\",\"shippuden\",\"lucknow\",\"2019\",\"failing\",\"elizabeth\",\"irish\",\"ebook\",\"temporary\",\"governor\",\"wasting\",\"weekends\",\"cpt\",\"wax\",\"labor\",\"instruments\",\"instrumentation\",\"hates\",\"hip\",\"arnab\",\"bubble\",\"employers\",\"aadhaar\",\"boyfriends\",\"jake\",\"explained\",\"yesterday\",\"beta\",\"extrovert\",\"andhra\",\"micromax\",\"vertical\",\"lay\",\"nonprofit\",\"dubbed\",\"typing\",\"automotive\",\"thomas\",\"procedures\",\"priority\",\"funded\",\"arabs\",\"siblings\",\"guinea\",\"missile\",\"luck\",\"strategic\",\"defend\",\"module\",\"tuition\",\"acids\",\"controller\",\"committee\",\"housing\",\"integral\",\"peaceful\",\"refugees\",\"prescription\",\"interns\",\"supported\",\"womans\",\"dentist\",\"wives\",\"village\",\"affecting\",\"lte\",\"beaches\",\"austin\",\"substance\",\"engagement\",\"trainee\",\"measures\",\"trailer\",\"purchased\",\"15000\",\"uttar\",\"glue\",\"dtu\",\"medal\",\"photon\",\"engg\",\"violin\",\"column\",\"somehow\",\"rotate\",\"3000\",\"virat\",\"forgotten\",\"fingers\",\"slim\",\"arrest\",\"covalent\",\"ncert\",\"kernel\",\"da\",\"alarm\",\"ngo\",\"4gb\",\"productivity\",\"planned\",\"district\",\"berlin\",\"lists\",\"leads\",\"slang\",\"defence\",\"aspiring\",\"56\",\"enemy\",\"farming\",\"muller\",\"pays\",\"liver\",\"membrane\",\"secretly\",\"plug\",\"gum\",\"eclipse\",\"chewing\",\"labs\",\"zombie\",\"authority\",\"males\",\"argentina\",\"tasks\",\"fell\",\"nails\",\"palestine\",\"tanks\",\"identical\",\"deck\",\"qualification\",\"leadership\",\"kohli\",\"pronunciation\",\"hello\",\"violent\",\"sabha\",\"respiration\",\"transform\",\"warranty\",\"faculty\",\"adolf\",\"expenses\",\"jersey\",\"mercury\",\"whiskey\",\"tackle\",\"tweet\",\"blame\",\"cruise\",\"mahindra\",\"discharge\",\"reduced\",\"vodka\",\"mahatma\",\"bass\",\"compete\",\"stains\",\"pill\",\"swim\",\"ali\",\"gf\",\"ford\",\"prince\",\"sweat\",\"performing\",\"limits\",\"leonardo\",\"cow\",\"resolve\",\"matters\",\"pharmaceutical\",\"ray\",\"remotely\",\"pf\",\"clinical\",\"bpo\",\"homeless\",\"husbands\",\"rising\",\"newtons\",\"outcome\",\"derivative\",\"alpha\",\"grown\",\"capitalism\",\"astronaut\",\"hybrid\",\"palm\",\"teens\",\"hits\",\"airplanes\",\"none\",\"admin\",\"applicable\",\"amcat\",\"spam\",\"neutrality\",\"pixel\",\"festival\",\"faces\",\"molar\",\"snakes\",\"sip\",\"kik\",\"farm\",\"ltd\",\"votes\",\"publishing\",\"comfort\",\"frontend\",\"spin\",\"diagnosed\",\"buildings\",\"\\u00b0\",\"cashless\",\"addictive\",\"extinct\",\"ugc\",\"coke\",\"llb\",\"phrases\",\"struggle\",\"drives\",\"fiber\",\"grocery\",\"achieved\",\"penny\",\"bath\",\"allies\",\"uninstall\",\"ny\",\"appears\",\"effort\",\"satellites\",\"confirmed\",\"loneliness\",\"illuminati\",\"uri\",\"lucid\",\"preferably\",\"neither\",\"\\u221a\",\"pacific\",\"americas\",\"bs\",\"graduated\",\"bills\",\"tube\",\"germans\",\"assume\",\"cleared\",\"mate\",\"divide\",\"versions\",\"fallen\",\"journey\",\"anthem\",\"certificates\",\"looked\",\"sponsor\",\"useless\",\"dependent\",\"invite\",\"guru\",\"keyword\",\"aipmt\",\"clone\",\"kgs\",\"chip\",\"origins\",\"wide\",\"motivational\",\"elite\",\"wanna\",\"unity\",\"cough\",\"connecting\",\"mystery\",\"kim\",\"syrian\",\"voldemort\",\"responsibilities\",\"molecules\",\"boobs\",\"holidays\",\"tutorial\",\"circumstances\",\"fiitjee\",\"islands\",\"bypass\",\"slowly\",\"mixture\",\"aluminum\",\"salesforce\",\"twin\",\"iot\",\"remedy\",\"sheets\",\"pole\",\"hated\",\"females\",\"protected\",\"irs\",\"insecure\",\"entering\",\"neuroscience\",\"offices\",\"delta\",\"suggestion\",\"snapdeal\",\"backstory\",\"periodic\",\"cancelled\",\"mans\",\"complicated\",\"bitsat\",\"pleasure\",\"loop\",\"dropbox\",\"selfish\",\"nude\",\"20000\",\"voter\",\"variables\",\"victory\",\"closest\",\"compensation\",\"extended\",\"locations\",\"cracked\",\"perks\",\"ended\",\"exit\",\"awareness\",\"pakistanis\",\"ebooks\",\"bull\",\"unblock\",\"100000\",\"entrepreneurship\",\"infrastructure\",\"scotland\",\"guest\",\"attacked\",\"hurting\",\"lion\",\"reject\",\"purposes\",\"knife\",\"thai\",\"ipl\",\"knee\",\"accepting\",\"spent\",\"punjabi\",\"tab\",\"quoras\",\"caffeine\",\"athletes\",\"ink\",\"cooked\",\"improving\",\"invaded\",\"allah\",\"thermodynamics\",\"mortgage\",\"firsttime\",\"achievements\",\"issued\",\"breath\",\"award\",\"llc\",\"legends\",\"mood\",\"influenced\",\"proteins\",\"holy\",\"performed\",\"pee\",\"blocks\",\"molecule\",\"interests\",\"imei\",\"requires\",\"cisco\",\"moves\",\"marrying\",\"mca\",\"perfectly\",\"iisc\",\"corporation\",\"shiva\",\"viruses\",\"difficulty\",\"50000\",\"volte\",\"shampoo\",\"secular\",\"transplant\",\"ghz\",\"ahead\",\"crew\",\"interact\",\"depend\",\"hawaii\",\"hiv\",\"evening\",\"vegetable\",\"revenge\",\"suppose\",\"busy\",\"label\",\"rogue\",\"rational\",\"hillstation\",\"brains\",\"urdu\",\"imagine\",\"salaries\",\"survey\",\"g4\",\"butt\",\"manufacturers\",\"saas\",\"residency\",\"recommendation\",\"purple\",\"fault\",\"aadhar\",\"aging\",\"bhopal\",\"conducted\",\"loses\",\"infection\",\"forest\",\"impacts\",\"collection\",\"fridge\",\"diamond\",\"mis\",\"recorded\",\"march\",\"conditioner\",\"signature\",\"listed\",\"branches\",\"manchester\",\"wanting\",\"perception\",\"absolutely\",\"servers\",\"soluble\",\"swami\",\"lumia\",\"directors\",\"52\",\"2008\",\"gaining\",\"stereotypes\",\"homes\",\"vegas\",\"jam\",\"behave\",\"relatively\",\"forum\",\"ib\",\"earphones\",\"facilities\",\"april\",\"finally\",\"tail\",\"capacitor\",\"tiger\",\"deaf\",\"deliver\",\"django\",\"expand\",\"skip\",\"nearly\",\"maybe\",\"task\",\"gateway\",\"strangest\",\"abstract\",\"adding\",\"suck\",\"tim\",\"printed\",\"sigma\",\"immigrate\",\"decline\",\"arrested\",\"95\",\"narcissistic\",\"freelancing\",\"patterns\",\"expired\",\"casual\",\"tablets\",\"patients\",\"lean\",\"pieces\",\"laymans\",\"whatever\",\"polish\",\"lemon\",\"abortion\",\"i3\",\"theorem\",\"h\",\"compulsory\",\"helped\",\"sons\",\"feminism\",\"compiler\",\"tested\",\"enhance\",\"adhd\",\"manhattan\",\"iii\",\"nail\",\"eee\",\"deals\",\"excellent\",\"ipo\",\"folder\",\"sand\",\"continuous\",\"capable\",\"libraries\",\"aggregate\",\"64\",\"bsnl\",\"profiles\",\"spirit\",\"pulled\",\"owns\",\"deloitte\",\"therapist\",\"acts\",\"millions\",\"authors\",\"marathi\",\"dvd\",\"coconut\",\"swiss\",\"interaction\",\"ncr\",\"kannada\",\"smallest\",\"advisable\",\"smartest\",\"sorry\",\"normally\",\"ends\",\"rome\",\"spectrum\",\"cousin\",\"75\",\"suzuki\",\"nights\",\"cap\",\"enable\",\"counselling\",\"proxy\",\"margin\",\"shops\",\"hackers\",\"tatkal\",\"opened\",\"cinema\",\"consumption\",\"coal\",\"silent\",\"choosing\",\"introduction\",\"electromagnetic\",\"hcl\",\"complaint\",\"puppies\",\"vc\",\"symbols\",\"lenses\",\"username\",\"arrow\",\"adopted\",\"affects\",\"sudden\",\"pcm\",\"gel\",\"affair\",\"pinterest\",\"statements\",\"supplements\",\"justified\",\"turns\",\"santa\",\"shoe\",\"trek\",\"headphone\",\"girlfriends\",\"verizon\",\"rocket\",\"conference\",\"ego\",\"srm\",\"afghanistan\",\"nucleus\",\"generated\",\"chinas\",\"ww1\",\"consultancy\",\"socially\",\"allen\",\"berkeley\",\"missed\",\"crying\",\"introduced\",\"ps3\",\"flour\",\"brought\",\"elder\",\"minecraft\",\"9th\",\"freelancer\",\"circles\",\"scars\",\"entertainment\",\"turbine\",\"deeply\",\"rom\",\"evolved\",\"nato\",\"strengths\",\"ide\",\"tweets\",\"scholarships\",\"mentor\",\"collect\",\"hdfc\",\"mandarin\",\"solo\",\"terrible\",\"influential\",\"professionals\",\"65\",\"recognition\",\"nvidia\",\"cia\",\"designs\",\"10k\",\"creation\",\"tom\",\"rated\",\"introverts\",\"boiling\",\"communism\",\"treaty\",\"whereas\",\"thanks\",\"cigarette\",\"bengaluru\",\"oneplus\",\"reserve\",\"advertise\",\"nits\",\"helping\",\"bruce\",\"mp3\",\"severe\",\"proposal\",\"cultures\",\"tap\",\"animated\",\"planes\",\"hall\",\"cognitive\",\"supports\",\"keys\",\"gotten\",\"feedback\",\"recording\",\"proceed\",\"membership\",\"console\",\"overseas\",\"hows\",\"william\",\"billionaires\",\"updated\",\"pre\",\"organizations\",\"messi\",\"unexpected\",\"nitrogen\",\"hungry\",\"nigeria\",\"sync\",\"arduino\",\"gross\",\"outer\",\"searching\",\"workers\",\"outlook\",\"europeans\",\"founder\",\"lectures\",\"legitimate\",\"camp\",\"ordinary\",\"investments\",\"bone\",\"raising\",\"quite\",\"ages\",\"joint\",\"johnson\",\"destination\",\"concerned\",\"belief\",\"refrigerator\",\"implications\",\"manga\",\"mandatory\",\"obamas\",\"lawyers\",\"bedroom\",\"icon\",\"qualifications\",\"qa\",\"bikes\",\"boston\",\"holding\",\"session\",\"appointment\",\"weaknesses\",\"iphones\",\"motorcycle\",\"schizophrenia\",\"5th\",\"intellectual\",\"eaten\",\"attending\",\"medals\",\"adsense\",\"nda\",\"6th\",\"kali\",\"georgia\",\"wechat\",\"earlier\",\"drone\",\"truck\",\"horse\",\"merchant\",\"torque\",\"seed\",\"backend\",\"holmes\",\"graduating\",\"400\",\"bones\",\"sufficient\",\"participate\",\"rifle\",\"shock\",\"downloaded\",\"earthquake\",\"breasts\",\"secretary\",\"insert\",\"damaged\",\"massive\",\"standing\",\"remainder\",\"programme\",\"holocaust\",\"totally\",\"belt\",\"affairs\",\"nokia\",\"mechanism\",\"pin\",\"scan\",\"fought\",\"superpower\",\"poetry\",\"signals\",\"educated\",\"scariest\",\"trains\",\"closer\",\"weapon\",\"icici\",\"serial\",\"bicycle\",\"terminal\",\"finished\",\"stolen\",\"inspiring\",\"cuisine\",\"spark\",\"sounds\",\"pricing\",\"click\",\"underwear\",\"kidney\",\"bengal\",\"invention\",\"discount\",\"chase\",\"evaluate\",\"distributed\",\"themes\",\"amd\",\"stem\",\"st\",\"genre\",\"vegetables\",\"council\",\"bihar\",\"thick\",\"mouse\",\"worry\",\"newly\",\"updates\",\"candy\",\"prepaid\",\"wet\",\"rap\",\"motors\",\"implemented\",\"theoretical\",\"fabric\",\"mexican\",\"portfolio\",\"technique\",\"icse\",\"expansion\",\"evolutionary\",\"justify\",\"trick\",\"attached\",\"lightning\",\"pitch\",\"armed\",\"einstein\",\"conversion\",\"iitjee\",\"declared\",\"admit\",\"acquisition\",\"innovation\",\"runs\",\"wwe\",\"trial\",\"memories\",\"refuse\",\"netherlands\",\"committed\",\"fraud\",\"jailbreak\",\"settle\",\"badly\",\"approved\",\"eligibility\",\"trend\",\"increases\",\"comic\",\"quorans\",\"cellular\",\"matches\",\"receiving\",\"bmw\",\"vlsi\",\"signed\",\"lakes\",\"350\",\"communications\",\"pork\",\"joined\",\"anyway\",\"differentiate\",\"actresses\",\"29\",\"ethics\",\"premier\",\"hearing\",\"vehicles\",\"drama\",\"instant\",\"lips\",\"dates\",\"july\",\"holiday\",\"coach\",\"malayalam\",\"superior\",\"soviet\",\"plate\",\"throw\",\"worship\",\"bars\",\"sharma\",\"mothers\",\"integrated\",\"clubs\",\"bug\",\"melbourne\",\"co\",\"bisexual\",\"regions\",\"lesson\",\"heads\",\"reader\",\"snake\",\"qualify\",\"paul\",\"causing\",\"disappear\",\"era\",\"lets\",\"qualified\",\"spiritual\",\"wolf\",\"requirement\",\"journalism\",\"studied\",\"lowest\",\"vader\",\"coursera\",\"stark\",\"configuration\",\"verbal\",\"undergrad\",\"dimensions\",\"transition\",\"efficiently\",\"interstellar\",\"locked\",\"summary\",\"chandigarh\",\"ghosts\",\"included\",\"operate\",\"dimension\",\"mount\",\"noticed\",\"rating\",\"somewhere\",\"martin\",\"bra\",\"bird\",\"zuckerberg\",\"sensor\",\"audience\",\"dirty\",\"starbucks\",\"permission\",\"residential\",\"wholesale\",\"assets\",\"clearly\",\"km\",\"invade\",\"ipcc\",\"fb\",\"shell\",\"shave\",\"loud\",\"tip\",\"seeds\",\"sets\",\"polar\",\"although\",\"june\",\"judaism\",\"anti\",\"instrument\",\"seven\",\"shooting\",\"j\",\"portal\",\"tower\",\"github\",\"linked\",\"admitted\",\"punishment\",\"mid\",\"micro\",\"cured\",\"lifestyle\",\"nor\",\"upset\",\"challenge\",\"soap\",\"standards\",\"integration\",\"lottery\",\"lab\",\"williams\",\"odd\",\"soil\",\"sensitive\",\"route\",\"tattoos\",\"coin\",\"declare\",\"frame\",\"differential\",\"bowl\",\"softwares\",\"notifications\",\"maintenance\",\"inner\",\"apples\",\"converted\",\"recruiter\",\"bombay\",\"command\",\"posting\",\"controlled\",\"balls\",\"personally\",\"poker\",\"extract\",\"hired\",\"bugs\",\"providers\",\"loans\",\"calculator\",\"attractions\",\"torrents\",\"keywords\",\"profession\",\"blogging\",\"transport\",\"sue\",\"anonymously\",\"compounds\",\"robot\",\"buddhism\",\"sweet\",\"defense\",\"nobody\",\"uc\",\"defined\",\"division\",\"bags\",\"epic\",\"unhealthy\",\"craziest\",\"urban\",\"combination\",\"pair\",\"laugh\",\"cv\",\"usd\",\"launched\",\"usps\",\"visited\",\"nexus\",\"regularly\",\"brothers\",\"broker\",\"concentrate\",\"agreement\",\"nervous\",\"frozen\",\"detail\",\"sir\",\"situations\",\"borderline\",\"angularjs\",\"abusive\",\"tourism\",\"relate\",\"august\",\"communist\",\"accountant\",\"dumb\",\"arab\",\"b2b\",\"du\",\"thermal\",\"asians\",\"threat\",\"karma\",\"passive\",\"homosexuality\",\"putting\",\"quantitative\",\"relativity\",\"sanskrit\",\"opinions\",\"verify\",\"bear\",\"roll\",\"expanding\",\"teenage\",\"jeans\",\"providing\",\"shared\",\"extreme\",\"mi\",\"vr\",\"progress\",\"greece\",\"cpu\",\"ips\",\"merge\",\"reputation\",\"loving\",\"salman\",\"iss\",\"warm\",\"dental\",\"extension\",\"attraction\",\"fictional\",\"journal\",\"login\",\"secondary\",\"recognize\",\"southern\",\"ph\",\"lunch\",\"wallet\",\"ronaldo\",\"larger\",\"actions\",\"fathers\",\"adopt\",\"claims\",\"bottom\",\"therapy\",\"patient\",\"described\",\"virginity\",\"functional\",\"ionic\",\"chartered\",\"discover\",\"55\",\"21st\",\"biased\",\"mad\",\"northern\",\"onto\",\"liberals\",\"premium\",\"neutral\",\"detect\",\"diagram\",\"sperm\",\"ga\",\"bleach\",\"spread\",\"contributions\",\"activate\",\"prior\",\"safest\",\"holder\",\"360\",\"aim\",\"rental\",\"families\",\"everybody\",\"shut\",\"payments\",\"150\",\"cube\",\"vegan\",\"newspaper\",\"beef\",\"houses\",\"preferred\",\"simultaneously\",\"marked\",\"reactions\",\"emergency\",\"protection\",\"cab\",\"forex\",\"norway\",\"immigrants\",\"googles\",\"ssb\",\"wing\",\"yrs\",\"ensure\",\"spy\",\"reasoning\",\"strange\",\"forgive\",\"turkish\",\"tag\",\"ranking\",\"platforms\",\"fox\",\"existed\",\"walmart\",\"lazy\",\"ears\",\"clock\",\"beam\",\"rare\",\"bush\",\"2011\",\"stops\",\"batteries\",\"certified\",\"naked\",\"worldwide\",\"staying\",\"lifetime\",\"ted\",\"lake\",\"wealthy\",\"transit\",\"stephen\",\"rural\",\"versa\",\"pets\",\"commonly\",\"adults\",\"ultimate\",\"genius\",\"vinegar\",\"allows\",\"aid\",\"retirement\",\"airtel\",\"sciences\",\"mountain\",\"drinks\",\"tour\",\"wind\",\"seattle\",\"disabled\",\"bodies\",\"lesbian\",\"governments\",\"kinetic\",\"tumblr\",\"absolute\",\"author\",\"toilet\",\"whey\",\"sleepy\",\"molecular\",\"watches\",\"inventions\",\"rain\",\"34\",\"angular\",\"o\",\"dish\",\"however\",\"agents\",\"abs\",\"switzerland\",\"transformer\",\"clearing\",\"consciousness\",\"broadband\",\"uae\",\"automatic\",\"opposed\",\"geography\",\"astronauts\",\"decisions\",\"cement\",\"induction\",\"luxury\",\"upvotes\",\"politicians\",\"posted\",\"toefl\",\"kitchen\",\"noise\",\"radius\",\"dye\",\"miles\",\"risks\",\"scientifically\",\"mnc\",\"propose\",\"prepared\",\"iiit\",\"mention\",\"equipment\",\"darth\",\"january\",\"surname\",\"raised\",\"attitude\",\"gta\",\"david\",\"hike\",\"awkward\",\"proven\",\"productive\",\"lg\",\"filled\",\"atmosphere\",\"lee\",\"irctc\",\"addicted\",\"dynamic\",\"employment\",\"weekend\",\"replacement\",\"singing\",\"owners\",\"bipolar\",\"tomorrow\",\"poems\",\"default\",\"kvpy\",\"sauce\",\"competitors\",\"russians\",\"sample\",\"crimes\",\"hang\",\"inspired\",\"furniture\",\"throughout\",\"presence\",\"efficiency\",\"leg\",\"biological\",\"pilani\",\"conversations\",\"inspirational\",\"bachelor\",\"centers\",\"withdraw\",\"fundamental\",\"comparison\",\"november\",\"fifa\",\"penalty\",\"algebra\",\"joke\",\"htc\",\"pilots\",\"collapse\",\"texts\",\"vocabulary\",\"moved\",\"sc\",\"smile\",\"october\",\"dot\",\"genetic\",\"architect\",\"url\",\"51\",\"sore\",\"uniform\",\"re\",\"rails\",\"smaller\",\"marine\",\"terrorists\",\"nazi\",\"breast\",\"politician\",\"subtitles\",\"chosen\",\"egypt\",\"thin\",\"packages\",\"editor\",\"bands\",\"mythology\",\"reasonable\",\"permit\",\"acceptable\",\"seriously\",\"iraq\",\"fever\",\"visitor\",\"honest\",\"friction\",\"offering\",\"smarter\",\"ahmedabad\",\"replaced\",\"resolution\",\"burning\",\"bridge\",\"catholic\",\"calendar\",\"resident\",\"policies\",\"forced\",\"leading\",\"arm\",\"deserve\",\"context\",\"coolest\",\"arranged\",\"arizona\",\"comics\",\"harm\",\"democrats\",\"jail\",\"breed\",\"anywhere\",\"psu\",\"christ\",\"violence\",\"agriculture\",\"objective\",\"moments\",\"infinity\",\"supporting\",\"critical\",\"trees\",\"beyond\",\"bag\",\"vitamin\",\"assembly\",\"solved\",\"array\",\"perspective\",\"pas\",\"wwii\",\"skinny\",\"contains\",\"lift\",\"cleaning\",\"peter\",\"aap\",\"pimples\",\"initial\",\"lesserknown\",\"sights\",\"principles\",\"realize\",\"millionaire\",\"faux\",\"orbit\",\"desire\",\"hi\",\"prophet\",\"suits\",\"careers\",\"thinks\",\"quantity\",\"spots\",\"wage\",\"asleep\",\"sociology\",\"guard\",\"units\",\"structural\",\"operation\",\"pants\",\"w\",\"bulk\",\"possibly\",\"drunk\",\"fired\",\"accident\",\"inch\",\"bottle\",\"aerospace\",\"narcissist\",\"ux\",\"angeles\",\"wood\",\"index\",\"safely\",\"robotics\",\"edition\",\"metals\",\"practices\",\"scheme\",\"interior\",\"diabetes\",\"nobel\",\"youth\",\"lived\",\"september\",\"chief\",\"proposed\",\"assuming\",\"sin\",\"counter\",\"disable\",\"introduce\",\"restore\",\"swimming\",\"intern\",\"answering\",\"mentioned\",\"crash\",\"laser\",\"teenagers\",\"presentation\",\"quran\",\"classified\",\"demonetisation\",\"communicate\",\"cotton\",\"autism\",\"anger\",\"environmental\",\"stable\",\"7th\",\"bread\",\"invited\",\"wisdom\",\"wrote\",\"widely\",\"minor\",\"formal\",\"dreaming\",\"managers\",\"escape\",\"pollution\",\"taiwan\",\"verification\",\"los\",\"figures\",\"26\",\"illness\",\"sides\",\"compatible\",\"pack\",\"conspiracy\",\"hedge\",\"flights\",\"dropped\",\"former\",\"suffer\",\"aware\",\"designers\",\"mahabharata\",\"evolve\",\"weigh\",\"dies\",\"fruits\",\"cc\",\"butter\",\"sharing\",\"atoms\",\"tongue\",\"transaction\",\"poverty\",\"suffering\",\"presidents\",\"resistance\",\"adam\",\"civilization\",\"mining\",\"toronto\",\"stick\",\"increased\",\"wild\",\"freelance\",\"removal\",\"aws\",\"rio\",\"principle\",\"asus\",\"cute\",\"consumer\",\"pool\",\"variable\",\"tutorials\",\"advance\",\"keeping\",\"visible\",\"cognizant\",\"equations\",\"rooms\",\"krishna\",\"printer\",\"tooth\",\"mentally\",\"realistic\",\"automobile\",\"cake\",\"tie\",\"beach\",\"ghost\",\"comfortable\",\"mysql\",\"oral\",\"closed\",\"helps\",\"maharashtra\",\"admissions\",\"i5\",\"partners\",\"axis\",\"beliefs\",\"neck\",\"clans\",\"hidden\",\"cyber\",\"voting\",\"bacteria\",\"layer\",\"chhattisgarh\",\"5000\",\"sitting\",\"murder\",\"argument\",\"f\",\"privacy\",\"syndrome\",\"2010\",\"bite\",\"vacation\",\"isro\",\"trouble\",\"records\",\"answered\",\"digit\",\"defeat\",\"childhood\",\"5s\",\"gates\",\"f1\",\"town\",\"anal\",\"copper\",\"talks\",\"affiliate\",\"sociopath\",\"installed\",\"static\",\"copyright\",\"animation\",\"donate\",\"stranger\",\"bcom\",\"destroyed\",\"gujarat\",\"foundation\",\"prize\",\"components\",\"foreigner\",\"arms\",\"unlimited\",\"needing\",\"settings\",\"item\",\"eve\",\"competition\",\"landing\",\"beard\",\"patent\",\"ending\",\"2020\",\"incident\",\"petroleum\",\"florida\",\"particularly\",\"ups\",\"generator\",\"leather\",\"heal\",\"experiment\",\"28\",\"passing\",\"talent\",\"remote\",\"300\",\"published\",\"impossible\",\"steam\",\"80\",\"washing\",\"guilty\",\"punjab\",\"70\",\"album\",\"bullet\",\"paris\",\"interface\",\"agencies\",\"mission\",\"digits\",\"modis\",\"recruitment\",\"manipal\",\"telling\",\"meal\",\"orange\",\"stone\",\"links\",\"ab\",\"upper\",\"cameras\",\"p\",\"combat\",\"passion\",\"shower\",\"thailand\",\"beings\",\"grad\",\"27\",\"finger\",\"jump\",\"lights\",\"ui\",\"bba\",\"sweden\",\"arrive\",\"4th\",\"amendment\",\"window\",\"satellite\",\"al\",\"matlab\",\"jokes\",\"muhammad\",\"expression\",\"booking\",\"dinner\",\"skype\",\"lots\",\"2018\",\"teen\",\"finish\",\"dslr\",\"mens\",\"proud\",\"entrepreneurs\",\"ukraine\",\"coins\",\"scenario\",\"transmission\",\"ignore\",\"pride\",\"contribute\",\"grand\",\"curve\",\"false\",\"operations\",\"breakup\",\"eventually\",\"acquire\",\"commission\",\"lies\",\"spoken\",\"pills\",\"masturbating\",\"jackson\",\"airbnb\",\"delivered\",\"disk\",\"radiation\",\"plays\",\"marvel\",\"particle\",\"breakfast\",\"smartphones\",\"relevant\",\"quota\",\"refund\",\"inches\",\"telugu\",\"angel\",\"eastern\",\"inflation\",\"predict\",\"annoying\",\"obc\",\"tough\",\"conduct\",\"originate\",\"notification\",\"backup\",\"harder\",\"richest\",\"pronounce\",\"sri\",\"wheel\",\"wasnt\",\"oldest\",\"sheet\",\"soda\",\"20s\",\"wipro\",\"awesome\",\"facial\",\"z\",\"noida\",\"confident\",\"fbi\",\"corrupt\",\"succeed\",\"reddit\",\"associate\",\"input\",\"guns\",\"rahul\",\"baking\",\"description\",\"musical\",\"apache\",\"nowadays\",\"fluid\",\"capacity\",\"loose\",\"freshman\",\"cfa\",\"optional\",\"theres\",\"ps4\",\"trends\",\"jon\",\"richard\",\"legit\",\"nodejs\",\"document\",\"sexually\",\"particles\",\"singer\",\"printing\",\"captain\",\"valuable\",\"several\",\"aiims\",\"boot\",\"sit\",\"zone\",\"billionaire\",\"floor\",\"gravitational\",\"export\",\"motivation\",\"golden\",\"transgender\",\"healthcare\",\"heaven\",\"81\",\"leaves\",\"listening\",\"overall\",\"press\",\"dishes\",\"railways\",\"warming\",\"enfield\",\"extent\",\"acceleration\",\"afford\",\"bonds\",\"border\",\"registration\",\"cast\",\"hope\",\"shipping\",\"karnataka\",\"specifically\",\"opportunity\",\"arabia\",\"pump\",\"pg\",\"carrier\",\"plot\",\"kingdom\",\"contract\",\"painful\",\"kindle\",\"boring\",\"essential\",\"disney\",\"charger\",\"seconds\",\"measured\",\"honda\",\"ba\",\"makeup\",\"\\u2013\",\"mini\",\"annual\",\"traits\",\"retrieve\",\"willing\",\"swift\",\"consume\",\"hindus\",\"psychopath\",\"tells\",\"solving\",\"conditions\",\"artists\",\"spotify\",\"bomb\",\"integrate\",\"stuck\",\"nikon\",\"gadgets\",\"womens\",\"judge\",\"republicans\",\"vacuum\",\"felt\",\"putin\",\"tennis\",\"concentration\",\"fans\",\"constantly\",\"matrix\",\"secrets\",\"spot\",\"soft\",\"stored\",\"neural\",\"submit\",\"scores\",\"ola\",\"wire\",\"gdp\",\"jaipur\",\"typically\",\"airline\",\"roles\",\"cheaper\",\"machines\",\"shift\",\"impress\",\"basics\",\"32\",\"conservative\",\"birds\",\"tend\",\"duty\",\"setup\",\"rude\",\"pink\",\"church\",\"mine\",\"jack\",\"sending\",\"cooking\",\"versus\",\"expert\",\"olympic\",\"biotechnology\",\"gurgaon\",\"worked\",\"codes\",\"successfully\",\"hardware\",\"faith\",\"pr\",\"television\",\"compound\",\"vit\",\"universal\",\"thank\",\"grammatically\",\"chicago\",\"ivy\",\"worried\",\"enterprise\",\"sodium\",\"railway\",\"remedies\",\"racism\",\"tracking\",\"psychological\",\"apartment\",\"magazine\",\"martial\",\"beauty\",\"waiting\",\"attacks\",\"horror\",\"fantasy\",\"ma\",\"select\",\"increasing\",\"metro\",\"opt\",\"map\",\"watched\",\"gear\",\"icloud\",\"james\",\"comedy\",\"lollipop\",\"ireland\",\"upcoming\",\"italian\",\"oven\",\"emotionally\",\"decided\",\"lakh\",\"grey\",\"kept\",\"produced\",\"mouth\",\"manual\",\"dhoni\",\"fill\",\"throat\",\"shoot\",\"liked\",\"innovative\",\"immediately\",\"lonely\",\"fighting\",\"max\",\"accidentally\",\"schedule\",\"orgasm\",\"rape\",\"ride\",\"muscles\",\"graduates\",\"taller\",\"boost\",\"lakhs\",\"microwave\",\"electrons\",\"upon\",\"attract\",\"ap\",\"abuse\",\"earths\",\"forever\",\"underrated\",\"facing\",\"terrorist\",\"alien\",\"celebrity\",\"frequently\",\"vpn\",\"wales\",\"powder\",\"superman\",\"mixed\",\"caught\",\"goods\",\"beginning\",\"starts\",\"atomic\",\"associated\",\"triangle\",\"parties\",\"banning\",\"k\",\"honey\",\"monitor\",\"graph\",\"leaders\",\"embedded\",\"juice\",\"split\",\"lady\",\"sequence\",\"911\",\"harassment\",\"nepal\",\"pop\",\"habit\",\"setting\",\"edge\",\"ww2\",\"gps\",\"federal\",\"charged\",\"lying\",\"empty\",\"whenever\",\"airplane\",\"jet\",\"destroy\",\"ies\",\"wouldnt\",\"quick\",\"decrease\",\"robert\",\"pradesh\",\"professors\",\"massage\",\"held\",\"spending\",\"markets\",\"objects\",\"chart\",\"mechanics\",\"silver\",\"usage\",\"basketball\",\"gen\",\"periods\",\"identity\",\"individuals\",\"css\",\"soul\",\"ipod\",\"chest\",\"understanding\",\"coast\",\"classic\",\"spain\",\"babies\",\"sd\",\"hostel\",\"shirt\",\"further\",\"logical\",\"franchise\",\"obtain\",\"foreigners\",\"fully\",\"region\",\"designed\",\"cheated\",\"beneficial\",\"shes\",\"accent\",\"couldnt\",\"queen\",\"sick\",\"blowing\",\"properly\",\"stronger\",\"returns\",\"condition\",\"musk\",\"ugly\",\"teams\",\"filter\",\"snow\",\"glasses\",\"employer\",\"solid\",\"followed\",\"embarrassing\",\"auto\",\"meeting\",\"belong\",\"strike\",\"internships\",\"bachelors\",\"administration\",\"temple\",\"wealth\",\"retail\",\"speakers\",\"electoral\",\"headphones\",\"streaming\",\"mirror\",\"diesel\",\"republic\",\"antivirus\",\"customers\",\"atm\",\"vagina\",\"cigarettes\",\"aptitude\",\"lewis\",\"saudi\",\"puppy\",\"recovery\",\"jimmy\",\"obsessed\",\"domestic\",\"pen\",\"batch\",\"de\",\"drawing\",\"ai\",\"medium\",\"simply\",\"photoshop\",\"sms\",\"turning\",\"nadu\",\"appropriate\",\"adobe\",\"substitute\",\"fruit\",\"recipes\",\"fighter\",\"saving\",\"greater\",\"cheat\",\"routine\",\"push\",\"sherlock\",\"arguments\",\"sony\",\"import\",\"soldiers\",\"charges\",\"emotions\",\"ibm\",\"un\",\"innovations\",\"itunes\",\"consultant\",\"iims\",\"relations\",\"psychopaths\",\"existing\",\"angle\",\"clash\",\"bus\",\"australian\",\"crazy\",\"pull\",\"theories\",\"savings\",\"suit\",\"contrast\",\"calculus\",\"pi\",\"credits\",\"bluetooth\",\"himself\",\"traveling\",\"criminal\",\"xiaomi\",\"zealand\",\"seats\",\"electron\",\"script\",\"11th\",\"lessons\",\"programmers\",\"december\",\"flag\",\"singh\",\"arabic\",\"sale\",\"nfl\",\"grammar\",\"killing\",\"virgin\",\"differently\",\"poem\",\"provided\",\"automation\",\"shy\",\"translation\",\"mathematical\",\"45\",\"celebrities\",\"spring\",\"downloading\",\"dr\",\"organization\",\"majority\",\"clients\",\"hd\",\"motivate\",\"thats\",\"thesis\",\"door\",\"weakest\",\"saw\",\"canon\",\"younger\",\"costs\",\"river\",\"rings\",\"factory\",\"decent\",\"clintons\",\"holes\",\"desert\",\"divorce\",\"sold\",\"cheese\",\"atom\",\"taught\",\"minute\",\"ocean\",\"crisis\",\"represent\",\"surgical\",\"parent\",\"brexit\",\"possibility\",\"longest\",\"edit\",\"scholarship\",\"motivated\",\"chocolate\",\"faced\",\"90\",\"parallel\",\"foot\",\"examination\",\"friendly\",\"kinds\",\"wins\",\"islamic\",\"degrees\",\"registered\",\"distribution\",\"junior\",\"gave\",\"sing\",\"articles\",\"hadoop\",\"saved\",\"hero\",\"ear\",\"asks\",\"improved\",\"teenager\",\"forms\",\"wash\",\"provides\",\"washington\",\"strikes\",\"binary\",\"syria\",\"indonesia\",\"powers\",\"highly\",\"heshe\",\"happiness\",\"director\",\"citizenship\",\"knew\",\"humanity\",\"translate\",\"nba\",\"permanently\",\"soccer\",\"todays\",\"challenges\",\"barack\",\"title\",\"latin\",\"fitness\",\"genuine\",\"investor\",\"dislike\",\"scenes\",\"hacker\",\"bangladesh\",\"ebay\",\"earning\",\"dell\",\"paytm\",\"spouse\",\"bored\",\"roman\",\"official\",\"dragon\",\"park\",\"except\",\"habits\",\"quote\",\"astrology\",\"congress\",\"automatically\",\"island\",\"religions\",\"christianity\",\"supreme\",\"owner\",\"hell\",\"wikipedia\",\"cancel\",\"industries\",\"actress\",\"client\",\"visual\",\"michael\",\"remain\",\"ability\",\"concrete\",\"conflict\",\"string\",\"linear\",\"supposed\",\"engines\",\"2012\",\"\\u2018\",\"lesser\",\"traditional\",\"episodes\",\"goals\",\"tata\",\"opening\",\"target\",\"weak\",\"anonymous\",\"bjp\",\"resource\",\"concepts\",\"ruby\",\"friendship\",\"nyc\",\"pretty\",\"implement\",\"painting\",\"ill\",\"agency\",\"reverse\",\"confused\",\"italy\",\"response\",\"yellow\",\"dance\",\"contain\",\"vice\",\"editing\",\"acting\",\"weirdest\",\"feels\",\"govt\",\"accounting\",\"rise\",\"wise\",\"leaving\",\"lens\",\"artist\",\"arvind\",\"pattern\",\"scared\",\"attention\",\"airlines\",\"sky\",\"malaysia\",\"port\",\"attempt\",\"element\",\"classical\",\"shown\",\"safety\",\"including\",\"tablet\",\"la\",\"terrorism\",\"commit\",\"maps\",\"african\",\"viewed\",\"calling\",\"6s\",\"agent\",\"output\",\"justice\",\"don\",\"addiction\",\"lock\",\"vegetarian\",\"britain\",\"percent\",\"meditation\",\"ibps\",\"monthly\",\"writers\",\"forward\",\"stuff\",\"mr\",\"ready\",\"forgot\",\"flying\",\"recommended\",\"fields\",\"blind\",\"l\",\"hinduism\",\"desktop\",\"host\",\"tattoo\",\"maintain\",\"boards\",\"helpful\",\"semester\",\"load\",\"tier\",\"agree\",\"factor\",\"elon\",\"freshers\",\"sql\",\"cases\",\"exact\",\"confidence\",\"behavior\",\"hacked\",\"quotes\",\"hydrogen\",\"pakistani\",\"masturbate\",\"divided\",\"skill\",\"fine\",\"falling\",\"chess\",\"charging\",\"pages\",\"vector\",\"supporters\",\"waste\",\"sanders\",\"affordable\",\"unlock\",\"techniques\",\"wine\",\"keyboard\",\"cm\",\"wireless\",\"lawyer\",\"egg\",\"cope\",\"mindblowing\",\"recipe\",\"corruption\",\"scored\",\"secure\",\"teaching\",\"opposite\",\"educational\",\"bernie\",\"y\",\"library\",\"models\",\"kid\",\"stack\",\"separate\",\"19\",\"extremely\",\"properties\",\"cable\",\"magic\",\"removed\",\"computing\",\"hospital\",\"beer\",\"christians\",\"twice\",\"kg\",\"consulting\",\"whose\",\"serious\",\"petrol\",\"travelling\",\"revolution\",\"custom\",\"structures\",\"guide\",\"celebrate\",\"lenovo\",\"turned\",\"ielts\",\"grades\",\"fuel\",\"relative\",\"oracle\",\"academy\",\"lack\",\"passed\",\"relation\",\"values\",\"movement\",\"strategies\",\"eu\",\"emotional\",\"legs\",\"pokemon\",\"3g\",\"iran\",\"mostly\",\"jewish\",\"offered\",\"log\",\"hasnt\",\"explanation\",\"signal\",\"stores\",\"syllabus\",\"bits\",\"yoga\",\"weapons\",\"gods\",\"10000\",\"delivery\",\"gb\",\"sum\",\"letters\",\"venture\",\"selection\",\"winning\",\"35\",\"comment\",\"consequences\",\"sport\",\"items\",\"seems\",\"ring\",\"jealous\",\"laptops\",\"criteria\",\"fresh\",\"reference\",\"bitcoin\",\"infinite\",\"perform\",\"brazil\",\"density\",\"plans\",\"hosting\",\"clothing\",\"hong\",\"dying\",\"heavy\",\"steve\",\"gone\",\"damage\",\"missing\",\"ethical\",\"republican\",\"contacts\",\"activity\",\"electronic\",\"qualities\",\"piano\",\"hisher\",\"repair\",\"posts\",\"disease\",\"winter\",\"ten\",\"publish\",\"paint\",\"physically\",\"executive\",\"deposit\",\"elements\",\"xbox\",\"ceo\",\"visitors\",\"discovered\",\"tickets\",\"literature\",\"primary\",\"naturally\",\"senior\",\"u\",\"hardest\",\"debate\",\"frequency\",\"vietnam\",\"cry\",\"assistant\",\"gifts\",\"practical\",\"funny\",\"valid\",\"liberal\",\"refer\",\"beat\",\"shape\",\"institutes\",\"msc\",\"internal\",\"located\",\"significant\",\"scientists\",\"g\",\"ship\",\"proper\",\"independence\",\"added\",\"hes\",\"catch\",\"urine\",\"effectively\",\"named\",\"responsible\",\"strength\",\"whos\",\"immigration\",\"vehicle\",\"tesla\",\"kong\",\"meth\",\"england\",\"huge\",\"pizza\",\"rejected\",\"george\",\"fan\",\"salt\",\"browser\",\"sat\",\"loved\",\"fees\",\"walking\",\"symbol\",\"equity\",\"ubuntu\",\"alternatives\",\"theme\",\"virus\",\"manufacturing\",\"cutoff\",\"pure\",\"22\",\"introvert\",\"unable\",\"greek\",\"rice\",\"gst\",\"happening\",\"centre\",\"kiss\",\"prison\",\"bigger\",\"font\",\"construction\",\"exercises\",\"keeps\",\"gmat\",\"offers\",\"cross\",\"nasa\",\"unit\",\"advertising\",\"cup\",\"fixed\",\"limited\",\"billion\",\"subjects\",\"arts\",\"worlds\",\"stupid\",\"breaking\",\"funding\",\"tank\",\"generate\",\"efficient\",\"exists\",\"atheist\",\"entrepreneur\",\"direction\",\"broken\",\"offline\",\"firms\",\"station\",\"magnetic\",\"include\",\"aliens\",\"tinder\",\"logo\",\"photography\",\"worse\",\"besides\",\"path\",\"somebody\",\"interviews\",\"persons\",\"figure\",\"placed\",\"nation\",\"knows\",\"unmarried\",\"hp\",\"profitable\",\"tricks\",\"boss\",\"reply\",\"scam\",\"circle\",\"processor\",\"debt\",\"growing\",\"royal\",\"fiction\",\"department\",\"mistake\",\"weird\",\"graphics\",\"external\",\"article\",\"volume\",\"scratch\",\"chain\",\"protect\",\"storage\",\"texas\",\"liquid\",\"circuit\",\"graphic\",\"tired\",\"weather\",\"oxygen\",\"velocity\",\"dad\",\"band\",\"teachers\",\"drugs\",\"complex\",\"studio\",\"accenture\",\"leader\",\"levels\",\"goal\",\"logic\",\"acne\",\"plastic\",\"motion\",\"button\",\"peoples\",\"vision\",\"gap\",\"dollar\",\"computers\",\"stomach\",\"sources\",\"constant\",\"draw\",\"dress\",\"calculated\",\"sort\",\"3rd\",\"club\",\"channels\",\"creating\",\"candidates\",\"kejriwal\",\"broke\",\"sentences\",\"format\",\"emails\",\"raw\",\"stanford\",\"completed\",\"documents\",\"pan\",\"showing\",\"enter\",\"unknown\",\"bought\",\"router\",\"claim\",\"six\",\"technologies\",\"\\u20b9\",\"flipkart\",\"infosys\",\"mutual\",\"angry\",\"iits\",\"affected\",\"prices\",\"shares\",\"naruto\",\"processing\",\"finding\",\"democratic\",\"evolution\",\"harmful\",\"dual\",\"virtual\",\"member\",\"wave\",\"actual\",\"extra\",\"radio\",\"citizens\",\"e\",\"hr\",\"previous\",\"stopped\",\"walk\",\"redmi\",\"speaker\",\"torrent\",\"smoke\",\"mistakes\",\"flash\",\"iron\",\"entire\",\"individual\",\"express\",\"flow\",\"mode\",\"aircraft\",\"section\",\"planets\",\"10th\",\"respond\",\"easier\",\"evil\",\"percentile\",\"seeing\",\"calories\",\"upgrade\",\"professor\",\"v\",\"launch\",\"staff\",\"till\",\"silicon\",\"entry\",\"constitution\",\"century\",\"notice\",\"ie\",\"atheists\",\"tests\",\"21\",\"became\",\"kerala\",\"truly\",\"count\",\"essay\",\"papers\",\"accurate\",\"colors\",\"respect\",\"ideal\",\"rock\",\"reliance\",\"peace\",\"masturbation\",\"audio\",\"random\",\"independent\",\"colour\",\"hotels\",\"presidency\",\"generation\",\"paypal\",\"shot\",\"central\",\"released\",\"occur\",\"display\",\"industrial\",\"particular\",\"risk\",\"eg\",\"belly\",\"pet\",\"similarities\",\"organic\",\"marijuana\",\"networks\",\"aspects\",\"flat\",\"d\",\"comments\",\"nose\",\"identify\",\"rbi\",\"improvement\",\"directly\",\"framework\",\"suggestions\",\"designing\",\"brands\",\"religious\",\"influence\",\"novels\",\"statistics\",\"historical\",\"ground\",\"commerce\",\"pregnancy\",\"romantic\",\"failure\",\"wearing\",\"john\",\"apart\",\"bay\",\"symptoms\",\"200\",\"couple\",\"60\",\"canadian\",\"lie\",\"print\",\"carry\",\"gender\",\"experienced\",\"pounds\",\"reservation\",\"either\",\"stage\",\"artificial\",\"fit\",\"blogs\",\"developing\",\"environment\",\"learned\",\"copy\",\"phase\",\"bond\",\"democracy\",\"cgpa\",\"operating\",\"surface\",\"officers\",\"h1b\",\"ip\",\"workout\",\"fee\",\"elected\",\"hands\",\"largest\",\"sad\",\"shouldnt\",\"seat\",\"sister\",\"developers\",\"despite\",\"scene\",\"po\",\"diploma\",\"request\",\"empire\",\"ratio\",\"considering\",\"academic\",\"tree\",\"register\",\"advantage\",\"eligible\",\"nit\",\"shop\",\"intel\",\"funniest\",\"alternative\",\"fail\",\"ads\",\"nature\",\"miss\",\"involved\",\"overrated\",\"attend\",\"freedom\",\"dna\",\"beginners\",\"raise\",\"dry\",\"failed\",\"legally\",\"batman\",\"upload\",\"carbon\",\"regret\",\"applied\",\"points\",\"investors\",\"pick\",\"equivalent\",\"connected\",\"christmas\",\"lyrics\",\"nations\",\"caused\",\"bsc\",\"1st\",\"action\",\"activities\",\"biology\",\"hide\",\"asia\",\"takes\",\"require\",\"alive\",\"mom\",\"cycle\",\"generally\",\"campaign\",\"fair\",\"wake\",\"bit\",\"rules\",\"olympics\",\"racist\",\"areas\",\"eggs\",\"feature\",\"sap\",\"taxes\",\"ad\",\"shall\",\"theyre\",\"species\",\"pilot\",\"firm\",\"fish\",\"define\",\"doctors\",\"piece\",\"itself\",\"bang\",\"solutions\",\"iim\",\"2013\",\"wanted\",\"length\",\"burn\",\"waves\",\"bar\",\"gives\",\"forces\",\"christian\",\"anybody\",\"relationships\",\"nice\",\"wedding\",\"various\",\"brother\",\"films\",\"cream\",\"suddenly\",\"philippines\",\"fashion\",\"truth\",\"gpa\",\"cgl\",\"tall\",\"goa\",\"hacking\",\"statement\",\"reset\",\"materials\",\"played\",\"match\",\"usb\",\"novel\",\"unusual\",\"knowing\",\"selected\",\"valley\",\"chrome\",\"couples\",\"becomes\",\"died\",\"cheating\",\"community\",\"groups\",\"category\",\"pursuing\",\"writer\",\"mexico\",\"anymore\",\"sugar\",\"climate\",\"brown\",\"players\",\"ii\",\"reviews\",\"took\",\"led\",\"connection\",\"begin\",\"html\",\"changing\",\"received\",\"plants\",\"debit\",\"record\",\"revenue\",\"mars\",\"strongest\",\"members\",\"formed\",\"union\",\"thought\",\"existence\",\"kashmir\",\"gandhi\",\"pdf\",\"banned\",\"0\",\"plane\",\"treated\",\"electricity\",\"scale\",\"basis\",\"moral\",\"images\",\"methods\",\"certification\",\"voltage\",\"style\",\"base\",\"excel\",\"amazing\",\"regarding\",\"result\",\"rates\",\"hold\",\"indias\",\"airport\",\"businesses\",\"feet\",\"built\",\"linkedin\",\"signs\",\"above\",\"networking\",\"r\",\"shopping\",\"looks\",\"went\",\"placements\",\"bed\",\"experiences\",\"daughter\",\"tourist\",\"employee\",\"caste\",\"wait\",\"direct\",\"especially\",\"feed\",\"continue\",\"expected\",\"algorithm\",\"depressed\",\"shoes\",\"soon\",\"supply\",\"stress\",\"24\",\"inr\",\"foods\",\"rent\",\"architecture\",\"ban\",\"entrance\",\"actors\",\"messenger\",\"unique\",\"kolkata\",\"funds\",\"rupee\",\"promote\",\"rupees\",\"jews\",\"23\",\"cook\",\"cultural\",\"accepted\",\"hear\",\"glass\",\"road\",\"joining\",\"measure\",\"havent\",\"metal\",\"resume\",\"afraid\",\"turkey\",\"meat\",\"goes\",\"installation\",\"netflix\",\"benefit\",\"demand\",\"release\",\"produce\",\"report\",\"cover\",\"changes\",\"double\",\"2nd\",\"reaction\",\"killed\",\"steel\",\"requirements\",\"france\",\"exchange\",\"ac\",\"quantum\",\"reliable\",\"box\",\"results\",\"lives\",\"treatment\",\"4g\",\"ece\",\"probability\",\"sleeping\",\"philosophy\",\"handle\",\"forget\",\"driver\",\"demonetization\",\"algorithms\",\"trade\",\"rule\",\"muscle\",\"calls\",\"tried\",\"mental\",\"sure\",\"quit\",\"navy\",\"achieve\",\"francisco\",\"location\",\"until\",\"sense\",\"anxiety\",\"wordpress\",\"focus\",\"fact\",\"production\",\"conversation\",\"motor\",\"five\",\"attracted\",\"hit\",\"analyst\",\"moto\",\"isis\",\"chicken\",\"sector\",\"permanent\",\"along\",\"king\",\"slow\",\"candidate\",\"minutes\",\"purchase\",\"gun\",\"selling\",\"usually\",\"\\u2026\",\"fly\",\"round\",\"panel\",\"error\",\"stocks\",\"api\",\"remember\",\"africa\",\"paying\",\"hitler\",\"3d\",\"regular\",\"losing\",\"mail\",\"yahoo\",\"cheapest\",\"older\",\"concept\",\"characters\",\"definition\",\"lines\",\"pm\",\"cloud\",\"cats\",\"russian\",\"ipad\",\"korean\",\"proof\",\"battle\",\"stars\",\"stream\",\"recent\",\"typical\",\"performance\",\"harvard\",\"restaurant\",\"origin\",\"listen\",\"smell\",\"decide\",\"serve\",\"undergraduate\",\"profit\",\"situation\",\"surgery\",\"asking\",\"plant\",\"link\",\"square\",\"completing\",\"four\",\"trust\",\"payment\",\"gym\",\"andor\",\"worklife\",\"guitar\",\"elections\",\"half\",\"investing\",\"scientist\",\"street\",\"needs\",\"native\",\"thoughts\",\"reality\",\"40\",\"medicine\",\"race\",\"choice\",\"longer\",\"came\",\"applying\",\"hiring\",\"west\",\"weed\",\"hacks\",\"step\",\"sea\",\"crime\",\"devices\",\"event\",\"citizen\",\"14\",\"17\",\"ticket\",\"fund\",\"equation\",\"suicide\",\"whom\",\"met\",\"almost\",\"designer\",\"local\",\"departments\",\"khan\",\"customer\",\"banking\",\"javascript\",\"trip\",\"issue\",\"react\",\"cannot\",\"dubai\",\"wall\",\"touch\",\"parts\",\"loves\",\"clothes\",\"straight\",\"sexual\",\"active\",\"inpatient\",\"dreams\",\"protein\",\"table\",\"exercise\",\"lord\",\"mtech\",\"creative\",\"ball\",\"speaking\",\"son\",\"receive\",\"dollars\",\"domain\",\"prospects\",\"hour\",\"graduation\",\"commercial\",\"themselves\",\"factors\",\"jesus\",\"programmer\",\"recommend\",\"replace\",\"chat\",\"placement\",\"episode\",\"fastest\",\"restaurants\",\"object\",\"drivers\",\"gaming\",\"mark\",\"taste\",\"seem\",\"perfect\",\"potential\",\"trumps\",\"appear\",\"rights\",\"equal\",\"rest\",\"package\",\"meant\",\"drop\",\"cool\",\"material\",\"potter\",\"events\",\"convince\",\"completely\",\"n\",\"zero\",\"significance\",\"lower\",\"feelings\",\"followers\",\"evidence\",\"certain\",\"later\",\"original\",\"bible\",\"disorder\",\"testing\",\"via\",\"stand\",\"actor\",\"characteristics\",\"cities\",\"reach\",\"ago\",\"mbbs\",\"speech\",\"electric\",\"approach\",\"scientific\",\"root\",\"analytics\",\"below\",\"grade\",\"mains\",\"topic\",\"fun\",\"ancient\",\"adult\",\"standard\",\"ice\",\"everyday\",\"population\",\"invented\",\"european\",\"intelligent\",\"11\",\"subject\",\"rehab\",\"background\",\"giving\",\"platform\",\"flight\",\"thrones\",\"maths\",\"dc\",\"teeth\",\"mit\",\"weeks\",\"east\",\"means\",\"programs\",\"beginner\",\"heat\",\"third\",\"tea\",\"range\",\"london\",\"maximum\",\"enjoy\",\"2000\",\"cells\",\"quickly\",\"here\",\"expensive\",\"phrase\",\"partner\",\"league\",\"anime\",\"latest\",\"specific\",\"whether\",\"functions\",\"os\",\"fire\",\"saying\",\"secret\",\"13\",\"planet\",\"hole\",\"super\",\"teacher\",\"strong\",\"accounts\",\"minister\",\"database\",\"economic\",\"channel\",\"estate\",\"ram\",\"switch\",\"asian\",\"smoking\",\"branch\",\"israel\",\"18\",\"features\",\"success\",\"lead\",\"total\",\"key\",\"master\",\"ok\",\"favourite\",\"psychology\",\"pok\\u00e9mon\",\"nothing\",\"clean\",\"25\",\"politics\",\"drinking\",\"sometimes\",\"recently\",\"korea\",\"sent\",\"poor\",\"hindu\",\"hollywood\",\"survive\",\"cure\",\"property\",\"return\",\"narendra\",\"budget\",\"sports\",\"limit\",\"arent\",\"boys\",\"driving\",\"whole\",\"cash\",\"smartphone\",\"php\",\"developed\",\"ssc\",\"hot\",\"attractive\",\"tool\",\"physical\",\"ecommerce\",\"sbi\",\"morning\",\"animal\",\"multiple\",\"loan\",\"acid\",\"fresher\",\"spanish\",\"moving\",\"decision\",\"county\",\"determined\",\"becoming\",\"seo\",\"summer\",\"manage\",\"server\",\"competitive\",\"milk\",\"importance\",\"banks\",\"cheap\",\"powerful\",\"issues\",\"penis\",\"according\",\"analysis\",\"bike\",\"position\",\"western\",\"advanced\",\"campus\",\"highest\",\"front\",\"court\",\"status\",\"gravity\",\"positions\",\"comes\",\"steps\",\"complete\",\"electronics\",\"won\",\"hurt\",\"certificate\",\"temperature\",\"player\",\"someones\",\"communication\",\"million\",\"talking\",\"preparing\",\"finance\",\"cancer\",\"9\",\"harry\",\"accept\",\"2014\",\"plus\",\"born\",\"tcs\",\"license\",\"bring\",\"teach\",\"practice\",\"trading\",\"m\",\"might\",\"opportunities\",\"global\",\"wish\",\"outside\",\"attack\",\"procedure\",\"needed\",\"update\",\"coffee\",\"provider\",\"rather\",\"16\",\"allow\",\"tamil\",\"mix\",\"connect\",\"room\",\"watching\",\"deep\",\"york\",\"image\",\"birth\",\"sign\",\"birthday\",\"playing\",\"wars\",\"grads\",\"hire\",\"phones\",\"cbse\",\"details\",\"clear\",\"cricket\",\"dangerous\",\"track\",\"corporate\",\"voice\",\"upsc\",\"content\",\"okay\",\"san\",\"heart\",\"far\",\"heard\",\"prove\",\"positive\",\"moment\",\"sales\",\"opinion\",\"engineers\",\"block\",\"diet\",\"coding\",\"core\",\"baby\",\"father\",\"little\",\"large\",\"blocked\",\"distance\",\"land\",\"simple\",\"husband\",\"told\",\"traffic\",\"prevent\",\"pictures\",\"planning\",\"fear\",\"classes\",\"towards\",\"technical\",\"building\",\"trying\",\"photo\",\"early\",\"uses\",\"sydney\",\"startups\",\"act\",\"id\",\"describe\",\"12th\",\"may\",\"formula\",\"gets\",\"present\",\"wont\",\"cut\",\"treat\",\"mathematics\",\"visiting\",\"eye\",\"policy\",\"close\",\"cse\",\"suitable\",\"version\",\"tools\",\"head\",\"minimum\",\"chennai\",\"easily\",\"method\",\"intelligence\",\"gre\",\"mother\",\"doctor\",\"macbook\",\"deleted\",\"gas\",\"suggest\",\"cards\",\"files\",\"loss\",\"art\",\"easiest\",\"late\",\"among\",\"together\",\"depression\",\"higher\",\"alone\",\"economics\",\"dead\",\"growth\",\"insurance\",\"gold\",\"necessary\",\"neet\",\"blog\",\"example\",\"memory\",\"crack\",\"consider\",\"works\",\"currency\",\"recruit\",\"pursue\",\"strategy\",\"young\",\"cs\",\"projects\",\"50\",\"manager\",\"abroad\",\"schools\",\"illegal\",\"inside\",\"stories\",\"hand\",\"t\",\"greatest\",\"personality\",\"galaxy\",\"device\",\"views\",\"user\",\"chemistry\",\"cars\",\"iq\",\"prefer\",\"picture\",\"nuclear\",\"middle\",\"applications\",\"gmail\",\"laws\",\"final\",\"capital\",\"kids\",\"society\",\"fake\",\"bill\",\"save\",\"though\",\"likely\",\"determine\",\"shows\",\"character\",\"snapchat\",\"youre\",\"eyes\",\"islam\",\"marry\",\"brand\",\"yet\",\"impact\",\"speak\",\"within\",\"rich\",\"resources\",\"net\",\"non\",\"pressure\",\"changed\",\"allowed\",\"obama\",\"cold\",\"running\",\"feeling\",\"jio\",\"football\",\"gift\",\"written\",\"buying\",\"mac\",\"spend\",\"prime\",\"blue\",\"train\",\"studies\",\"negative\",\"thinking\",\"solution\",\"sun\",\"least\",\"following\",\"install\",\"else\",\"muslims\",\"camera\",\"vote\",\"linux\",\"expect\",\"german\",\"recover\",\"starting\",\"crush\",\"coming\",\"muslim\",\"modern\",\"battery\",\"provide\",\"access\",\"presidential\",\"interest\",\"dating\",\"pro\",\"likes\",\"french\",\"singapore\",\"useful\",\"already\",\"professional\",\"percentage\",\"drink\",\"created\",\"board\",\"passport\",\"structure\",\"case\",\"height\",\"microsoft\",\"break\",\"screen\",\"names\",\"chance\",\"special\",\"30\",\"skin\",\"natural\",\"color\",\"interested\",\"amount\",\"pain\",\"healthy\",\"hack\",\"messages\",\"ias\",\"gay\",\"disadvantages\",\"pass\",\"moon\",\"systems\",\"hindi\",\"financial\",\"taken\",\"yes\",\"sim\",\"pregnant\",\"faster\",\"animals\",\"internship\",\"let\",\"photos\",\"balance\",\"sound\",\"due\",\"knowledge\",\"charge\",\"message\",\"officer\",\"solar\",\"military\",\"meet\",\"option\",\"reading\",\"across\",\"overcome\",\"everyone\",\"everything\",\"wife\",\"reduce\",\"chances\",\"samsung\",\"income\",\"bollywood\",\"season\",\"europe\",\"boy\",\"currently\",\"ex\",\"smart\",\"california\",\"engine\",\"paid\",\"army\",\"contact\",\"address\",\"wants\",\"ones\",\"gain\",\"reasons\",\"avoid\",\"please\",\"note\",\"known\",\"pune\",\"film\",\"national\",\"once\",\"users\",\"porn\",\"scope\",\"twitter\",\"drug\",\"rank\",\"japan\",\"fight\",\"transfer\",\"political\",\"green\",\"news\",\"self\",\"uber\",\"basic\",\"british\",\"religion\",\"hyderabad\",\"topics\",\"explain\",\"phd\",\"eating\",\"letter\",\"calculate\",\"ive\",\"tech\",\"personal\",\"japanese\",\"check\",\"hotel\",\"wifi\",\"beautiful\",\"difficult\",\"paper\",\"languages\",\"investment\",\"develop\",\"north\",\"electrical\",\"ios\",\"alcohol\",\"exactly\",\"profile\",\"past\",\"exams\",\"ca\",\"convert\",\"vs\",\"understand\",\"care\",\"dream\",\"try\",\"americans\",\"lost\",\"chemical\",\"source\",\"b\",\"admission\",\"easy\",\"must\",\"three\",\"effect\",\"view\",\"options\",\"page\",\"away\",\"red\",\"said\",\"line\",\"short\",\"happy\",\"security\",\"dark\",\"preparation\",\"second\",\"fat\",\"matter\",\"few\",\"since\",\"role\",\"pc\",\"office\",\"team\",\"delete\",\"cell\",\"election\",\"economy\",\"term\",\"dogs\",\"text\",\"female\",\"effective\",\"brain\",\"share\",\"digital\",\"btech\",\"russia\",\"\\u201c\",\"party\",\"numbers\",\"20\",\"store\",\"male\",\"mass\",\"turn\",\"left\",\"married\",\"rs\",\"taking\",\"those\",\"password\",\"follow\",\"advice\",\"isnt\",\"15\",\"types\",\"network\",\"\\u201d\",\"week\",\"purpose\",\"related\",\"fix\",\"started\",\"courses\",\"masters\",\"grow\",\"8\",\"fast\",\"leave\",\"100\",\"often\",\"found\",\"pros\",\"marriage\",\"cons\",\"quality\",\"words\",\"kill\",\"price\",\"near\",\"modi\",\"enough\",\"search\",\"python\",\"x\",\"blood\",\"math\",\"yourself\",\"drive\",\"size\",\"star\",\"graduate\",\"majors\",\"500\",\"model\",\"studying\",\"general\",\"oil\",\"colleges\",\"area\",\"developer\",\"germany\",\"industry\",\"full\",\"training\",\"says\",\"period\",\"videos\",\"universe\",\"fall\",\"daily\",\"information\",\"foreign\",\"credit\",\"force\",\"12\",\"youve\",\"south\",\"offer\",\"set\",\"add\",\"send\",\"australia\",\"center\",\"1000\",\"famous\",\"2015\",\"lot\",\"function\",\"tax\",\"correct\",\"solve\",\"advantages\",\"coaching\",\"institute\",\"effects\",\"guys\",\"again\",\"group\",\"hours\",\"side\",\"sentence\",\"low\",\"similar\",\"plan\",\"children\",\"answers\",\"talk\",\"marks\",\"ideas\",\"theory\",\"death\",\"compared\",\"night\",\"remove\",\"dog\",\"anything\",\"single\",\"successful\",\"gate\",\"indians\",\"put\",\"problems\",\"move\",\"writing\",\"point\",\"invest\",\"asked\",\"biggest\",\"others\",\"stock\",\"notes\",\"story\",\"machine\",\"private\",\"sell\",\"seen\",\"required\",\"field\",\"file\",\"rate\",\"humans\",\"application\",\"face\",\"sites\",\"mind\",\"facts\",\"mumbai\",\"post\",\"stay\",\"child\",\"terms\",\"products\",\"control\",\"legal\",\"police\",\"didnt\",\"level\",\"worst\",\"hate\",\"visit\",\"called\",\"amazon\",\"causes\",\"health\",\"form\",\"physics\",\"iit\",\"skills\",\"times\",\"medical\",\"based\",\"list\",\"websites\",\"die\",\"part\",\"less\",\"benefits\",\"apple\",\"instead\",\"these\",\"boyfriend\",\"sleep\",\"canada\",\"reason\",\"education\",\"cause\",\"jee\",\"value\",\"today\",\"media\",\"public\",\"happened\",\"product\",\"research\",\"main\",\"behind\",\"international\",\"project\",\"uk\",\"differ\",\"7\",\"places\",\"wear\",\"order\",\"date\",\"etc\",\"small\",\"songs\",\"apps\",\"email\",\"given\",\"wrong\",\"site\",\"normal\",\"culture\",\"also\",\"civil\",\"city\",\"available\",\"house\",\"exist\",\"startup\",\"services\",\"ms\",\"both\",\"down\",\"2017\",\"run\",\"cat\",\"well\",\"space\",\"join\",\"deal\",\"games\",\"visa\",\"rid\",\"air\",\"speed\",\"popular\",\"problem\",\"support\",\"current\",\"pakistan\",\"choose\",\"build\",\"idea\",\"america\",\"whatsapp\",\"affect\",\"law\",\"technology\",\"call\",\"6\",\"universities\",\"family\",\"marketing\",\"major\",\"actually\",\"favorite\",\"light\",\"bangalore\",\"woman\",\"because\",\"type\",\"program\",\"looking\",\"living\",\"open\",\"believe\",\"month\",\"able\",\"management\",\"travel\",\"degree\",\"show\",\"interesting\",\"score\",\"months\",\"series\",\"chinese\",\"development\",\"end\",\"code\",\"design\",\"per\",\"employees\",\"review\",\"clinton\",\"common\",\"kind\",\"internet\",\"song\",\"download\",\"course\",\"parents\",\"jobs\",\"such\",\"increase\",\"java\",\"god\",\"another\",\"united\",\"girlfriend\",\"mechanical\",\"always\",\"next\",\"never\",\"around\",\"tips\",\"mba\",\"myself\",\"hillary\",\"apply\",\"answer\",\"something\",\"considered\",\"making\",\"differences\",\"market\",\"compare\",\"great\",\"keep\",\"test\",\"s\",\"win\",\"against\",\"states\",\"earn\",\"youtube\",\"worth\",\"delhi\",\"energy\",\"laptop\",\"american\",\"lose\",\"each\",\"hard\",\"makes\",\"age\",\"ask\",\"safe\",\"body\",\"power\",\"salary\",\"4\",\"watch\",\"white\",\"windows\",\"instagram\",\"history\",\"pay\",\"every\",\"last\",\"create\",\"relationship\",\"music\",\"too\",\"meaning\",\"state\",\"average\",\"earth\",\"got\",\"process\",\"class\",\"tv\",\"eat\",\"done\",\"happens\",\"days\",\"big\",\"off\",\"improve\",\"future\",\"place\",\"man\",\"human\",\"government\",\"play\",\"countries\",\"food\",\"service\",\"students\",\"weight\",\"game\",\"engineer\",\"write\",\"very\",\"interview\",\"web\",\"tell\",\"social\",\"girls\",\"video\",\"look\",\"having\",\"guy\",\"home\",\"hair\",\"usa\",\"doesnt\",\"word\",\"bank\",\"friend\",\"true\",\"experience\",\"career\",\"president\",\"question\",\"own\",\"china\",\"come\",\"under\",\"working\",\"him\",\"doing\",\"donald\",\"friends\",\"right\",\"5\",\"cost\",\"mobile\",\"even\",\"movies\",\"then\",\"c\",\"\\u2019\",\"exam\",\"men\",\"learning\",\"card\",\"war\",\"read\",\"programming\",\"black\",\"anyone\",\"high\",\"10\",\"companies\",\"car\",\"getting\",\"give\",\"important\",\"questions\",\"cant\",\"iphone\",\"website\",\"top\",\"water\",\"prepare\",\"during\",\"real\",\"say\",\"system\",\"name\",\"through\",\"two\",\"1\",\"our\",\"study\",\"3\",\"university\",\"made\",\"back\",\"happen\",\"stop\",\"student\",\"sex\",\"bad\",\"language\",\"going\",\"same\",\"before\",\"software\",\"school\",\"live\",\"country\",\"android\",\"science\",\"help\",\"she\",\"see\",\"thing\",\"women\",\"over\",\"data\",\"examples\",\"computer\",\"had\",\"ways\",\"change\",\"while\",\"book\",\"english\",\"account\",\"still\",\"movie\",\"books\",\"2016\",\"facebook\",\"free\",\"number\",\"college\",\"app\",\"2\",\"just\",\"now\",\"no\",\"trump\",\"company\",\"only\",\"old\",\"been\",\"google\",\"phone\",\"long\",\"different\",\"girl\",\"his\",\"her\",\"years\",\"really\",\"them\",\"using\",\"business\",\"need\",\"being\",\"buy\",\"day\",\"person\",\"things\",\"possible\",\"could\",\"were\",\"its\",\"love\",\"engineering\",\"im\",\"used\",\"online\",\"go\",\"year\",\"he\",\"into\",\"feel\",\"dont\",\"first\",\"up\"]]]}}},\"view\":{\"type\":\"object\",\"name\":\"CDSView\",\"id\":\"p1147\",\"attributes\":{\"filter\":{\"type\":\"object\",\"name\":\"AllIndices\",\"id\":\"p1148\"}}},\"glyph\":{\"type\":\"object\",\"name\":\"Scatter\",\"id\":\"p1143\",\"attributes\":{\"x\":{\"type\":\"field\",\"field\":\"x\"},\"y\":{\"type\":\"field\",\"field\":\"y\"},\"size\":{\"type\":\"value\",\"value\":10},\"line_color\":{\"type\":\"field\",\"field\":\"color\"},\"line_alpha\":{\"type\":\"value\",\"value\":0.25},\"fill_color\":{\"type\":\"field\",\"field\":\"color\"},\"fill_alpha\":{\"type\":\"value\",\"value\":0.25},\"hatch_color\":{\"type\":\"field\",\"field\":\"color\"},\"hatch_alpha\":{\"type\":\"value\",\"value\":0.25}}},\"nonselection_glyph\":{\"type\":\"object\",\"name\":\"Scatter\",\"id\":\"p1144\",\"attributes\":{\"x\":{\"type\":\"field\",\"field\":\"x\"},\"y\":{\"type\":\"field\",\"field\":\"y\"},\"size\":{\"type\":\"value\",\"value\":10},\"line_color\":{\"type\":\"field\",\"field\":\"color\"},\"line_alpha\":{\"type\":\"value\",\"value\":0.1},\"fill_color\":{\"type\":\"field\",\"field\":\"color\"},\"fill_alpha\":{\"type\":\"value\",\"value\":0.1},\"hatch_color\":{\"type\":\"field\",\"field\":\"color\"},\"hatch_alpha\":{\"type\":\"value\",\"value\":0.1}}},\"muted_glyph\":{\"type\":\"object\",\"name\":\"Scatter\",\"id\":\"p1145\",\"attributes\":{\"x\":{\"type\":\"field\",\"field\":\"x\"},\"y\":{\"type\":\"field\",\"field\":\"y\"},\"size\":{\"type\":\"value\",\"value\":10},\"line_color\":{\"type\":\"field\",\"field\":\"color\"},\"line_alpha\":{\"type\":\"value\",\"value\":0.2},\"fill_color\":{\"type\":\"field\",\"field\":\"color\"},\"fill_alpha\":{\"type\":\"value\",\"value\":0.2},\"hatch_color\":{\"type\":\"field\",\"field\":\"color\"},\"hatch_alpha\":{\"type\":\"value\",\"value\":0.2}}}}}],\"toolbar\":{\"type\":\"object\",\"name\":\"Toolbar\",\"id\":\"p1114\",\"attributes\":{\"tools\":[{\"type\":\"object\",\"name\":\"PanTool\",\"id\":\"p1127\"},{\"type\":\"object\",\"name\":\"WheelZoomTool\",\"id\":\"p1128\",\"attributes\":{\"renderers\":\"auto\"}},{\"type\":\"object\",\"name\":\"BoxZoomTool\",\"id\":\"p1129\",\"attributes\":{\"overlay\":{\"type\":\"object\",\"name\":\"BoxAnnotation\",\"id\":\"p1130\",\"attributes\":{\"syncable\":false,\"line_color\":\"black\",\"line_alpha\":1.0,\"line_width\":2,\"line_dash\":[4,4],\"fill_color\":\"lightgrey\",\"fill_alpha\":0.5,\"level\":\"overlay\",\"visible\":false,\"left\":{\"type\":\"number\",\"value\":\"nan\"},\"right\":{\"type\":\"number\",\"value\":\"nan\"},\"top\":{\"type\":\"number\",\"value\":\"nan\"},\"bottom\":{\"type\":\"number\",\"value\":\"nan\"},\"left_units\":\"canvas\",\"right_units\":\"canvas\",\"top_units\":\"canvas\",\"bottom_units\":\"canvas\",\"handles\":{\"type\":\"object\",\"name\":\"BoxInteractionHandles\",\"id\":\"p1136\",\"attributes\":{\"all\":{\"type\":\"object\",\"name\":\"AreaVisuals\",\"id\":\"p1135\",\"attributes\":{\"fill_color\":\"white\",\"hover_fill_color\":\"lightgray\"}}}}}}}},{\"type\":\"object\",\"name\":\"SaveTool\",\"id\":\"p1137\"},{\"type\":\"object\",\"name\":\"ResetTool\",\"id\":\"p1138\"},{\"type\":\"object\",\"name\":\"HelpTool\",\"id\":\"p1139\"},{\"type\":\"object\",\"name\":\"HoverTool\",\"id\":\"p1149\",\"attributes\":{\"renderers\":\"auto\",\"tooltips\":[[\"token\",\"@token\"]]}}],\"active_scroll\":{\"id\":\"p1128\"}}},\"left\":[{\"type\":\"object\",\"name\":\"LinearAxis\",\"id\":\"p1122\",\"attributes\":{\"ticker\":{\"type\":\"object\",\"name\":\"BasicTicker\",\"id\":\"p1123\",\"attributes\":{\"mantissas\":[1,2,5]}},\"formatter\":{\"type\":\"object\",\"name\":\"BasicTickFormatter\",\"id\":\"p1124\"},\"major_label_policy\":{\"type\":\"object\",\"name\":\"AllLabels\",\"id\":\"p1125\"}}}],\"below\":[{\"type\":\"object\",\"name\":\"LinearAxis\",\"id\":\"p1117\",\"attributes\":{\"ticker\":{\"type\":\"object\",\"name\":\"BasicTicker\",\"id\":\"p1118\",\"attributes\":{\"mantissas\":[1,2,5]}},\"formatter\":{\"type\":\"object\",\"name\":\"BasicTickFormatter\",\"id\":\"p1119\"},\"major_label_policy\":{\"type\":\"object\",\"name\":\"AllLabels\",\"id\":\"p1120\"}}}],\"center\":[{\"type\":\"object\",\"name\":\"Grid\",\"id\":\"p1121\",\"attributes\":{\"axis\":{\"id\":\"p1117\"}}},{\"type\":\"object\",\"name\":\"Grid\",\"id\":\"p1126\",\"attributes\":{\"dimension\":1,\"axis\":{\"id\":\"p1122\"}}}]}}]}};\n",
       "  const render_items = [{\"docid\":\"59197a89-aaf5-48e6-b665-71fbf76d5b87\",\"roots\":{\"p1106\":\"cfa89745-5661-4f3d-85ca-7a0896e6c41f\"},\"root_ids\":[\"p1106\"]}];\n",
       "  void root.Bokeh.embed.embed_items_notebook(docs_json, render_items);\n",
       "  }\n",
       "  if (root.Bokeh !== undefined) {\n",
       "    embed_document(root);\n",
       "  } else {\n",
       "    let attempts = 0;\n",
       "    const timer = setInterval(function(root) {\n",
       "      if (root.Bokeh !== undefined) {\n",
       "        clearInterval(timer);\n",
       "        embed_document(root);\n",
       "      } else {\n",
       "        attempts++;\n",
       "        if (attempts > 100) {\n",
       "          clearInterval(timer);\n",
       "          console.log(\"Bokeh: ERROR: Unable to run BokehJS code because BokehJS library is missing\");\n",
       "        }\n",
       "      }\n",
       "    }, 10, root)\n",
       "  }\n",
       "})(window);"
      ],
      "application/vnd.bokehjs_exec.v0+json": ""
     },
     "metadata": {
      "application/vnd.bokehjs_exec.v0+json": {
       "id": "p1106"
      }
     },
     "output_type": "display_data"
    },
    {
     "data": {
      "text/html": [
       "<div style=\"display: table;\"><div style=\"display: table-row;\"><div style=\"display: table-cell;\"><b title=\"bokeh.plotting._figure.figure\">figure</b>(</div><div style=\"display: table-cell;\">id&nbsp;=&nbsp;'p1106', <span id=\"p1153\" style=\"cursor: pointer;\">&hellip;)</span></div></div><div class=\"p1152\" style=\"display: none;\"><div style=\"display: table-cell;\"></div><div style=\"display: table-cell;\">above&nbsp;=&nbsp;[],</div></div><div class=\"p1152\" style=\"display: none;\"><div style=\"display: table-cell;\"></div><div style=\"display: table-cell;\">align&nbsp;=&nbsp;'auto',</div></div><div class=\"p1152\" style=\"display: none;\"><div style=\"display: table-cell;\"></div><div style=\"display: table-cell;\">aspect_ratio&nbsp;=&nbsp;None,</div></div><div class=\"p1152\" style=\"display: none;\"><div style=\"display: table-cell;\"></div><div style=\"display: table-cell;\">aspect_scale&nbsp;=&nbsp;1,</div></div><div class=\"p1152\" style=\"display: none;\"><div style=\"display: table-cell;\"></div><div style=\"display: table-cell;\">attribution&nbsp;=&nbsp;[],</div></div><div class=\"p1152\" style=\"display: none;\"><div style=\"display: table-cell;\"></div><div style=\"display: table-cell;\">background_fill_alpha&nbsp;=&nbsp;1.0,</div></div><div class=\"p1152\" style=\"display: none;\"><div style=\"display: table-cell;\"></div><div style=\"display: table-cell;\">background_fill_color&nbsp;=&nbsp;'#ffffff',</div></div><div class=\"p1152\" style=\"display: none;\"><div style=\"display: table-cell;\"></div><div style=\"display: table-cell;\">below&nbsp;=&nbsp;[LinearAxis(id='p1117', ...)],</div></div><div class=\"p1152\" style=\"display: none;\"><div style=\"display: table-cell;\"></div><div style=\"display: table-cell;\">border_fill_alpha&nbsp;=&nbsp;1.0,</div></div><div class=\"p1152\" style=\"display: none;\"><div style=\"display: table-cell;\"></div><div style=\"display: table-cell;\">border_fill_color&nbsp;=&nbsp;'#ffffff',</div></div><div class=\"p1152\" style=\"display: none;\"><div style=\"display: table-cell;\"></div><div style=\"display: table-cell;\">center&nbsp;=&nbsp;[Grid(id='p1121', ...), Grid(id='p1126', ...)],</div></div><div class=\"p1152\" style=\"display: none;\"><div style=\"display: table-cell;\"></div><div style=\"display: table-cell;\">context_menu&nbsp;=&nbsp;None,</div></div><div class=\"p1152\" style=\"display: none;\"><div style=\"display: table-cell;\"></div><div style=\"display: table-cell;\">css_classes&nbsp;=&nbsp;[],</div></div><div class=\"p1152\" style=\"display: none;\"><div style=\"display: table-cell;\"></div><div style=\"display: table-cell;\">css_variables&nbsp;=&nbsp;{},</div></div><div class=\"p1152\" style=\"display: none;\"><div style=\"display: table-cell;\"></div><div style=\"display: table-cell;\">disabled&nbsp;=&nbsp;False,</div></div><div class=\"p1152\" style=\"display: none;\"><div style=\"display: table-cell;\"></div><div style=\"display: table-cell;\">elements&nbsp;=&nbsp;[],</div></div><div class=\"p1152\" style=\"display: none;\"><div style=\"display: table-cell;\"></div><div style=\"display: table-cell;\">extra_x_ranges&nbsp;=&nbsp;{},</div></div><div class=\"p1152\" style=\"display: none;\"><div style=\"display: table-cell;\"></div><div style=\"display: table-cell;\">extra_x_scales&nbsp;=&nbsp;{},</div></div><div class=\"p1152\" style=\"display: none;\"><div style=\"display: table-cell;\"></div><div style=\"display: table-cell;\">extra_y_ranges&nbsp;=&nbsp;{},</div></div><div class=\"p1152\" style=\"display: none;\"><div style=\"display: table-cell;\"></div><div style=\"display: table-cell;\">extra_y_scales&nbsp;=&nbsp;{},</div></div><div class=\"p1152\" style=\"display: none;\"><div style=\"display: table-cell;\"></div><div style=\"display: table-cell;\">flow_mode&nbsp;=&nbsp;'block',</div></div><div class=\"p1152\" style=\"display: none;\"><div style=\"display: table-cell;\"></div><div style=\"display: table-cell;\">frame_align&nbsp;=&nbsp;True,</div></div><div class=\"p1152\" style=\"display: none;\"><div style=\"display: table-cell;\"></div><div style=\"display: table-cell;\">frame_height&nbsp;=&nbsp;None,</div></div><div class=\"p1152\" style=\"display: none;\"><div style=\"display: table-cell;\"></div><div style=\"display: table-cell;\">frame_width&nbsp;=&nbsp;None,</div></div><div class=\"p1152\" style=\"display: none;\"><div style=\"display: table-cell;\"></div><div style=\"display: table-cell;\">height&nbsp;=&nbsp;400,</div></div><div class=\"p1152\" style=\"display: none;\"><div style=\"display: table-cell;\"></div><div style=\"display: table-cell;\">height_policy&nbsp;=&nbsp;'auto',</div></div><div class=\"p1152\" style=\"display: none;\"><div style=\"display: table-cell;\"></div><div style=\"display: table-cell;\">hidpi&nbsp;=&nbsp;True,</div></div><div class=\"p1152\" style=\"display: none;\"><div style=\"display: table-cell;\"></div><div style=\"display: table-cell;\">hold_render&nbsp;=&nbsp;False,</div></div><div class=\"p1152\" style=\"display: none;\"><div style=\"display: table-cell;\"></div><div style=\"display: table-cell;\">js_event_callbacks&nbsp;=&nbsp;{},</div></div><div class=\"p1152\" style=\"display: none;\"><div style=\"display: table-cell;\"></div><div style=\"display: table-cell;\">js_property_callbacks&nbsp;=&nbsp;{},</div></div><div class=\"p1152\" style=\"display: none;\"><div style=\"display: table-cell;\"></div><div style=\"display: table-cell;\">left&nbsp;=&nbsp;[LinearAxis(id='p1122', ...)],</div></div><div class=\"p1152\" style=\"display: none;\"><div style=\"display: table-cell;\"></div><div style=\"display: table-cell;\">lod_factor&nbsp;=&nbsp;10,</div></div><div class=\"p1152\" style=\"display: none;\"><div style=\"display: table-cell;\"></div><div style=\"display: table-cell;\">lod_interval&nbsp;=&nbsp;300,</div></div><div class=\"p1152\" style=\"display: none;\"><div style=\"display: table-cell;\"></div><div style=\"display: table-cell;\">lod_threshold&nbsp;=&nbsp;2000,</div></div><div class=\"p1152\" style=\"display: none;\"><div style=\"display: table-cell;\"></div><div style=\"display: table-cell;\">lod_timeout&nbsp;=&nbsp;500,</div></div><div class=\"p1152\" style=\"display: none;\"><div style=\"display: table-cell;\"></div><div style=\"display: table-cell;\">margin&nbsp;=&nbsp;None,</div></div><div class=\"p1152\" style=\"display: none;\"><div style=\"display: table-cell;\"></div><div style=\"display: table-cell;\">match_aspect&nbsp;=&nbsp;False,</div></div><div class=\"p1152\" style=\"display: none;\"><div style=\"display: table-cell;\"></div><div style=\"display: table-cell;\">max_height&nbsp;=&nbsp;None,</div></div><div class=\"p1152\" style=\"display: none;\"><div style=\"display: table-cell;\"></div><div style=\"display: table-cell;\">max_width&nbsp;=&nbsp;None,</div></div><div class=\"p1152\" style=\"display: none;\"><div style=\"display: table-cell;\"></div><div style=\"display: table-cell;\">min_border&nbsp;=&nbsp;5,</div></div><div class=\"p1152\" style=\"display: none;\"><div style=\"display: table-cell;\"></div><div style=\"display: table-cell;\">min_border_bottom&nbsp;=&nbsp;None,</div></div><div class=\"p1152\" style=\"display: none;\"><div style=\"display: table-cell;\"></div><div style=\"display: table-cell;\">min_border_left&nbsp;=&nbsp;None,</div></div><div class=\"p1152\" style=\"display: none;\"><div style=\"display: table-cell;\"></div><div style=\"display: table-cell;\">min_border_right&nbsp;=&nbsp;None,</div></div><div class=\"p1152\" style=\"display: none;\"><div style=\"display: table-cell;\"></div><div style=\"display: table-cell;\">min_border_top&nbsp;=&nbsp;None,</div></div><div class=\"p1152\" style=\"display: none;\"><div style=\"display: table-cell;\"></div><div style=\"display: table-cell;\">min_height&nbsp;=&nbsp;None,</div></div><div class=\"p1152\" style=\"display: none;\"><div style=\"display: table-cell;\"></div><div style=\"display: table-cell;\">min_width&nbsp;=&nbsp;None,</div></div><div class=\"p1152\" style=\"display: none;\"><div style=\"display: table-cell;\"></div><div style=\"display: table-cell;\">name&nbsp;=&nbsp;None,</div></div><div class=\"p1152\" style=\"display: none;\"><div style=\"display: table-cell;\"></div><div style=\"display: table-cell;\">outline_line_alpha&nbsp;=&nbsp;1.0,</div></div><div class=\"p1152\" style=\"display: none;\"><div style=\"display: table-cell;\"></div><div style=\"display: table-cell;\">outline_line_cap&nbsp;=&nbsp;'butt',</div></div><div class=\"p1152\" style=\"display: none;\"><div style=\"display: table-cell;\"></div><div style=\"display: table-cell;\">outline_line_color&nbsp;=&nbsp;'#e5e5e5',</div></div><div class=\"p1152\" style=\"display: none;\"><div style=\"display: table-cell;\"></div><div style=\"display: table-cell;\">outline_line_dash&nbsp;=&nbsp;[],</div></div><div class=\"p1152\" style=\"display: none;\"><div style=\"display: table-cell;\"></div><div style=\"display: table-cell;\">outline_line_dash_offset&nbsp;=&nbsp;0,</div></div><div class=\"p1152\" style=\"display: none;\"><div style=\"display: table-cell;\"></div><div style=\"display: table-cell;\">outline_line_join&nbsp;=&nbsp;'bevel',</div></div><div class=\"p1152\" style=\"display: none;\"><div style=\"display: table-cell;\"></div><div style=\"display: table-cell;\">outline_line_width&nbsp;=&nbsp;1,</div></div><div class=\"p1152\" style=\"display: none;\"><div style=\"display: table-cell;\"></div><div style=\"display: table-cell;\">output_backend&nbsp;=&nbsp;'canvas',</div></div><div class=\"p1152\" style=\"display: none;\"><div style=\"display: table-cell;\"></div><div style=\"display: table-cell;\">renderers&nbsp;=&nbsp;[GlyphRenderer(id='p1146', ...)],</div></div><div class=\"p1152\" style=\"display: none;\"><div style=\"display: table-cell;\"></div><div style=\"display: table-cell;\">reset_policy&nbsp;=&nbsp;'standard',</div></div><div class=\"p1152\" style=\"display: none;\"><div style=\"display: table-cell;\"></div><div style=\"display: table-cell;\">resizable&nbsp;=&nbsp;False,</div></div><div class=\"p1152\" style=\"display: none;\"><div style=\"display: table-cell;\"></div><div style=\"display: table-cell;\">right&nbsp;=&nbsp;[],</div></div><div class=\"p1152\" style=\"display: none;\"><div style=\"display: table-cell;\"></div><div style=\"display: table-cell;\">sizing_mode&nbsp;=&nbsp;None,</div></div><div class=\"p1152\" style=\"display: none;\"><div style=\"display: table-cell;\"></div><div style=\"display: table-cell;\">styles&nbsp;=&nbsp;{},</div></div><div class=\"p1152\" style=\"display: none;\"><div style=\"display: table-cell;\"></div><div style=\"display: table-cell;\">stylesheets&nbsp;=&nbsp;[],</div></div><div class=\"p1152\" style=\"display: none;\"><div style=\"display: table-cell;\"></div><div style=\"display: table-cell;\">subscribed_events&nbsp;=&nbsp;PropertyValueSet(),</div></div><div class=\"p1152\" style=\"display: none;\"><div style=\"display: table-cell;\"></div><div style=\"display: table-cell;\">syncable&nbsp;=&nbsp;True,</div></div><div class=\"p1152\" style=\"display: none;\"><div style=\"display: table-cell;\"></div><div style=\"display: table-cell;\">tags&nbsp;=&nbsp;[],</div></div><div class=\"p1152\" style=\"display: none;\"><div style=\"display: table-cell;\"></div><div style=\"display: table-cell;\">title&nbsp;=&nbsp;Title(id='p1113', ...),</div></div><div class=\"p1152\" style=\"display: none;\"><div style=\"display: table-cell;\"></div><div style=\"display: table-cell;\">title_location&nbsp;=&nbsp;'above',</div></div><div class=\"p1152\" style=\"display: none;\"><div style=\"display: table-cell;\"></div><div style=\"display: table-cell;\">toolbar&nbsp;=&nbsp;Toolbar(id='p1114', ...),</div></div><div class=\"p1152\" style=\"display: none;\"><div style=\"display: table-cell;\"></div><div style=\"display: table-cell;\">toolbar_inner&nbsp;=&nbsp;False,</div></div><div class=\"p1152\" style=\"display: none;\"><div style=\"display: table-cell;\"></div><div style=\"display: table-cell;\">toolbar_location&nbsp;=&nbsp;'right',</div></div><div class=\"p1152\" style=\"display: none;\"><div style=\"display: table-cell;\"></div><div style=\"display: table-cell;\">toolbar_sticky&nbsp;=&nbsp;True,</div></div><div class=\"p1152\" style=\"display: none;\"><div style=\"display: table-cell;\"></div><div style=\"display: table-cell;\">visible&nbsp;=&nbsp;True,</div></div><div class=\"p1152\" style=\"display: none;\"><div style=\"display: table-cell;\"></div><div style=\"display: table-cell;\">width&nbsp;=&nbsp;600,</div></div><div class=\"p1152\" style=\"display: none;\"><div style=\"display: table-cell;\"></div><div style=\"display: table-cell;\">width_policy&nbsp;=&nbsp;'auto',</div></div><div class=\"p1152\" style=\"display: none;\"><div style=\"display: table-cell;\"></div><div style=\"display: table-cell;\">x_range&nbsp;=&nbsp;DataRange1d(id='p1107', ...),</div></div><div class=\"p1152\" style=\"display: none;\"><div style=\"display: table-cell;\"></div><div style=\"display: table-cell;\">x_scale&nbsp;=&nbsp;LinearScale(id='p1115', ...),</div></div><div class=\"p1152\" style=\"display: none;\"><div style=\"display: table-cell;\"></div><div style=\"display: table-cell;\">y_range&nbsp;=&nbsp;DataRange1d(id='p1108', ...),</div></div><div class=\"p1152\" style=\"display: none;\"><div style=\"display: table-cell;\"></div><div style=\"display: table-cell;\">y_scale&nbsp;=&nbsp;LinearScale(id='p1116', ...))</div></div></div>\n",
       "<script>\n",
       "(function() {\n",
       "  let expanded = false;\n",
       "  const ellipsis = document.getElementById(\"p1153\");\n",
       "  ellipsis.addEventListener(\"click\", function() {\n",
       "    const rows = document.getElementsByClassName(\"p1152\");\n",
       "    for (let i = 0; i < rows.length; i++) {\n",
       "      const el = rows[i];\n",
       "      el.style.display = expanded ? \"none\" : \"table-row\";\n",
       "    }\n",
       "    ellipsis.innerHTML = expanded ? \"&hellip;)\" : \"&lsaquo;&lsaquo;&lsaquo;\";\n",
       "    expanded = !expanded;\n",
       "  });\n",
       "})();\n",
       "</script>\n"
      ],
      "text/plain": [
       "figure(id='p1106', ...)"
      ]
     },
     "execution_count": 99,
     "metadata": {},
     "output_type": "execute_result"
    }
   ],
   "source": [
    "draw_vectors(embedding[:, 0], embedding[:, 1], token=top_words)"
   ]
  },
  {
   "cell_type": "markdown",
   "metadata": {
    "id": "Ildmml0iN-yz"
   },
   "source": [
    "Для сдачи задания необходимо загрузить функции `subsample_frequent_words` и `get_negative_sampling_prob`, а также сгенерировать файл для посылки ниже и приложить в соответствующую задачу. Успехов!"
   ]
  },
  {
   "cell_type": "code",
   "execution_count": 100,
   "metadata": {
    "colab": {
     "base_uri": "https://localhost:8080/"
    },
    "id": "SV4R44TuN-yz",
    "outputId": "c6975419-9c97-4b42-ce8f-d45212d739d3"
   },
   "outputs": [
    {
     "name": "stdout",
     "output_type": "stream",
     "text": [
      "File saved to `submission_dict.json`\n"
     ]
    }
   ],
   "source": [
    "# do not change the code in the block below\n",
    "# __________start of block__________\n",
    "import os\n",
    "import json\n",
    "\n",
    "assert os.path.exists(\n",
    "    \"words_subset.txt\"\n",
    "), \"Please, download `words_subset.txt` and place it in the working directory\"\n",
    "\n",
    "with open(\"words_subset.txt\") as iofile:\n",
    "    selected_words = iofile.read().split(\"\\n\")\n",
    "\n",
    "\n",
    "def get_matrix_for_selected_words(selected_words, embedding_matrix, word_to_index):\n",
    "    word_vectors = []\n",
    "    for word in selected_words:\n",
    "        index = word_to_index.get(word, None)\n",
    "        vector = [0.0] * embedding_matrix.shape[1]\n",
    "        if index is not None:\n",
    "            vector = embedding_matrix[index].numpy().tolist()\n",
    "        word_vectors.append(vector)\n",
    "    return word_vectors\n",
    "\n",
    "\n",
    "word_vectors = get_matrix_for_selected_words(\n",
    "    selected_words, embedding_matrix_context, word_to_index\n",
    ")\n",
    "\n",
    "with open(\"submission_dict.json\", \"w\") as iofile:\n",
    "    json.dump(word_vectors, iofile)\n",
    "print(\"File saved to `submission_dict.json`\")\n",
    "# __________end of block__________"
   ]
  },
  {
   "cell_type": "code",
   "execution_count": null,
   "metadata": {
    "id": "u7c4C4mJJd44"
   },
   "outputs": [],
   "source": []
  }
 ],
 "metadata": {
  "colab": {
   "provenance": []
  },
  "kernelspec": {
   "display_name": "Python 3 (ipykernel)",
   "language": "python",
   "name": "python3"
  },
  "language_info": {
   "codemirror_mode": {
    "name": "ipython",
    "version": 3
   },
   "file_extension": ".py",
   "mimetype": "text/x-python",
   "name": "python",
   "nbconvert_exporter": "python",
   "pygments_lexer": "ipython3",
   "version": "3.10.13"
  },
  "widgets": {
   "application/vnd.jupyter.widget-state+json": {
    "07213a5a73e043fbbfea7470618a5f18": {
     "model_module": "@jupyter-widgets/base",
     "model_module_version": "1.2.0",
     "model_name": "LayoutModel",
     "state": {
      "_model_module": "@jupyter-widgets/base",
      "_model_module_version": "1.2.0",
      "_model_name": "LayoutModel",
      "_view_count": null,
      "_view_module": "@jupyter-widgets/base",
      "_view_module_version": "1.2.0",
      "_view_name": "LayoutView",
      "align_content": null,
      "align_items": null,
      "align_self": null,
      "border": null,
      "bottom": null,
      "display": null,
      "flex": null,
      "flex_flow": null,
      "grid_area": null,
      "grid_auto_columns": null,
      "grid_auto_flow": null,
      "grid_auto_rows": null,
      "grid_column": null,
      "grid_gap": null,
      "grid_row": null,
      "grid_template_areas": null,
      "grid_template_columns": null,
      "grid_template_rows": null,
      "height": null,
      "justify_content": null,
      "justify_items": null,
      "left": null,
      "margin": null,
      "max_height": null,
      "max_width": null,
      "min_height": null,
      "min_width": null,
      "object_fit": null,
      "object_position": null,
      "order": null,
      "overflow": null,
      "overflow_x": null,
      "overflow_y": null,
      "padding": null,
      "right": null,
      "top": null,
      "visibility": null,
      "width": null
     }
    },
    "320b0c932ef54cdaa88d76ed75a31f6a": {
     "model_module": "@jupyter-widgets/controls",
     "model_module_version": "1.5.0",
     "model_name": "HBoxModel",
     "state": {
      "_dom_classes": [],
      "_model_module": "@jupyter-widgets/controls",
      "_model_module_version": "1.5.0",
      "_model_name": "HBoxModel",
      "_view_count": null,
      "_view_module": "@jupyter-widgets/controls",
      "_view_module_version": "1.5.0",
      "_view_name": "HBoxView",
      "box_style": "",
      "children": [
       "IPY_MODEL_a57b8b0d2fe945798efc1b3d217e59bc",
       "IPY_MODEL_745bf5b52a9e489d945a4a5d5700caf4",
       "IPY_MODEL_a9a869a0c9a54973acf33278f208238e"
      ],
      "layout": "IPY_MODEL_75edf77faf664e58b6deb30d6e7db7a2"
     }
    },
    "62af44f199774218bc098a611e542a47": {
     "model_module": "@jupyter-widgets/controls",
     "model_module_version": "1.5.0",
     "model_name": "ProgressStyleModel",
     "state": {
      "_model_module": "@jupyter-widgets/controls",
      "_model_module_version": "1.5.0",
      "_model_name": "ProgressStyleModel",
      "_view_count": null,
      "_view_module": "@jupyter-widgets/base",
      "_view_module_version": "1.2.0",
      "_view_name": "StyleView",
      "bar_color": null,
      "description_width": ""
     }
    },
    "745bf5b52a9e489d945a4a5d5700caf4": {
     "model_module": "@jupyter-widgets/controls",
     "model_module_version": "1.5.0",
     "model_name": "FloatProgressModel",
     "state": {
      "_dom_classes": [],
      "_model_module": "@jupyter-widgets/controls",
      "_model_module_version": "1.5.0",
      "_model_name": "FloatProgressModel",
      "_view_count": null,
      "_view_module": "@jupyter-widgets/controls",
      "_view_module_version": "1.5.0",
      "_view_name": "ProgressView",
      "bar_style": "success",
      "description": "",
      "description_tooltip": null,
      "layout": "IPY_MODEL_ac967ec58249412cb2b6a50258cf1b6c",
      "max": 2500,
      "min": 0,
      "orientation": "horizontal",
      "style": "IPY_MODEL_62af44f199774218bc098a611e542a47",
      "value": 2500
     }
    },
    "75edf77faf664e58b6deb30d6e7db7a2": {
     "model_module": "@jupyter-widgets/base",
     "model_module_version": "1.2.0",
     "model_name": "LayoutModel",
     "state": {
      "_model_module": "@jupyter-widgets/base",
      "_model_module_version": "1.2.0",
      "_model_name": "LayoutModel",
      "_view_count": null,
      "_view_module": "@jupyter-widgets/base",
      "_view_module_version": "1.2.0",
      "_view_name": "LayoutView",
      "align_content": null,
      "align_items": null,
      "align_self": null,
      "border": null,
      "bottom": null,
      "display": null,
      "flex": null,
      "flex_flow": null,
      "grid_area": null,
      "grid_auto_columns": null,
      "grid_auto_flow": null,
      "grid_auto_rows": null,
      "grid_column": null,
      "grid_gap": null,
      "grid_row": null,
      "grid_template_areas": null,
      "grid_template_columns": null,
      "grid_template_rows": null,
      "height": null,
      "justify_content": null,
      "justify_items": null,
      "left": null,
      "margin": null,
      "max_height": null,
      "max_width": null,
      "min_height": null,
      "min_width": null,
      "object_fit": null,
      "object_position": null,
      "order": null,
      "overflow": null,
      "overflow_x": null,
      "overflow_y": null,
      "padding": null,
      "right": null,
      "top": null,
      "visibility": null,
      "width": null
     }
    },
    "a26da21503ab4df691db832b1568c473": {
     "model_module": "@jupyter-widgets/controls",
     "model_module_version": "1.5.0",
     "model_name": "DescriptionStyleModel",
     "state": {
      "_model_module": "@jupyter-widgets/controls",
      "_model_module_version": "1.5.0",
      "_model_name": "DescriptionStyleModel",
      "_view_count": null,
      "_view_module": "@jupyter-widgets/base",
      "_view_module_version": "1.2.0",
      "_view_name": "StyleView",
      "description_width": ""
     }
    },
    "a57b8b0d2fe945798efc1b3d217e59bc": {
     "model_module": "@jupyter-widgets/controls",
     "model_module_version": "1.5.0",
     "model_name": "HTMLModel",
     "state": {
      "_dom_classes": [],
      "_model_module": "@jupyter-widgets/controls",
      "_model_module_version": "1.5.0",
      "_model_name": "HTMLModel",
      "_view_count": null,
      "_view_module": "@jupyter-widgets/controls",
      "_view_module_version": "1.5.0",
      "_view_name": "HTMLView",
      "description": "",
      "description_tooltip": null,
      "layout": "IPY_MODEL_07213a5a73e043fbbfea7470618a5f18",
      "placeholder": "​",
      "style": "IPY_MODEL_dad7eca2a5864c99b0916441e5caa8bf",
      "value": "100%"
     }
    },
    "a9a869a0c9a54973acf33278f208238e": {
     "model_module": "@jupyter-widgets/controls",
     "model_module_version": "1.5.0",
     "model_name": "HTMLModel",
     "state": {
      "_dom_classes": [],
      "_model_module": "@jupyter-widgets/controls",
      "_model_module_version": "1.5.0",
      "_model_name": "HTMLModel",
      "_view_count": null,
      "_view_module": "@jupyter-widgets/controls",
      "_view_module_version": "1.5.0",
      "_view_name": "HTMLView",
      "description": "",
      "description_tooltip": null,
      "layout": "IPY_MODEL_b1099875cf29473ab2fc60148417a52d",
      "placeholder": "​",
      "style": "IPY_MODEL_a26da21503ab4df691db832b1568c473",
      "value": " 2500/2500 [1:01:13&lt;00:00,  1.43s/it]"
     }
    },
    "ac967ec58249412cb2b6a50258cf1b6c": {
     "model_module": "@jupyter-widgets/base",
     "model_module_version": "1.2.0",
     "model_name": "LayoutModel",
     "state": {
      "_model_module": "@jupyter-widgets/base",
      "_model_module_version": "1.2.0",
      "_model_name": "LayoutModel",
      "_view_count": null,
      "_view_module": "@jupyter-widgets/base",
      "_view_module_version": "1.2.0",
      "_view_name": "LayoutView",
      "align_content": null,
      "align_items": null,
      "align_self": null,
      "border": null,
      "bottom": null,
      "display": null,
      "flex": null,
      "flex_flow": null,
      "grid_area": null,
      "grid_auto_columns": null,
      "grid_auto_flow": null,
      "grid_auto_rows": null,
      "grid_column": null,
      "grid_gap": null,
      "grid_row": null,
      "grid_template_areas": null,
      "grid_template_columns": null,
      "grid_template_rows": null,
      "height": null,
      "justify_content": null,
      "justify_items": null,
      "left": null,
      "margin": null,
      "max_height": null,
      "max_width": null,
      "min_height": null,
      "min_width": null,
      "object_fit": null,
      "object_position": null,
      "order": null,
      "overflow": null,
      "overflow_x": null,
      "overflow_y": null,
      "padding": null,
      "right": null,
      "top": null,
      "visibility": null,
      "width": null
     }
    },
    "b1099875cf29473ab2fc60148417a52d": {
     "model_module": "@jupyter-widgets/base",
     "model_module_version": "1.2.0",
     "model_name": "LayoutModel",
     "state": {
      "_model_module": "@jupyter-widgets/base",
      "_model_module_version": "1.2.0",
      "_model_name": "LayoutModel",
      "_view_count": null,
      "_view_module": "@jupyter-widgets/base",
      "_view_module_version": "1.2.0",
      "_view_name": "LayoutView",
      "align_content": null,
      "align_items": null,
      "align_self": null,
      "border": null,
      "bottom": null,
      "display": null,
      "flex": null,
      "flex_flow": null,
      "grid_area": null,
      "grid_auto_columns": null,
      "grid_auto_flow": null,
      "grid_auto_rows": null,
      "grid_column": null,
      "grid_gap": null,
      "grid_row": null,
      "grid_template_areas": null,
      "grid_template_columns": null,
      "grid_template_rows": null,
      "height": null,
      "justify_content": null,
      "justify_items": null,
      "left": null,
      "margin": null,
      "max_height": null,
      "max_width": null,
      "min_height": null,
      "min_width": null,
      "object_fit": null,
      "object_position": null,
      "order": null,
      "overflow": null,
      "overflow_x": null,
      "overflow_y": null,
      "padding": null,
      "right": null,
      "top": null,
      "visibility": null,
      "width": null
     }
    },
    "dad7eca2a5864c99b0916441e5caa8bf": {
     "model_module": "@jupyter-widgets/controls",
     "model_module_version": "1.5.0",
     "model_name": "DescriptionStyleModel",
     "state": {
      "_model_module": "@jupyter-widgets/controls",
      "_model_module_version": "1.5.0",
      "_model_name": "DescriptionStyleModel",
      "_view_count": null,
      "_view_module": "@jupyter-widgets/base",
      "_view_module_version": "1.2.0",
      "_view_name": "StyleView",
      "description_width": ""
     }
    }
   }
  }
 },
 "nbformat": 4,
 "nbformat_minor": 1
}
