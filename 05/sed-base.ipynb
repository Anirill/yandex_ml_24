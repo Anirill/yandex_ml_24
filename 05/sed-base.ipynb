{
 "cells": [
  {
   "cell_type": "markdown",
   "metadata": {},
   "source": [
    "# Homework\n",
    "\n",
    "You need to train the model and get score as big as you can\n",
    "\n",
    "Dataset: https://disk.yandex.ru/d/gcGKZ_KsXZN4VA"
   ]
  },
  {
   "cell_type": "markdown",
   "metadata": {},
   "source": [
    "### Prepare part"
   ]
  },
  {
   "cell_type": "code",
   "execution_count": 1,
   "metadata": {},
   "outputs": [],
   "source": [
    "import logging\n",
    "import os\n",
    "import random\n",
    "import matplotlib.pyplot as plt\n",
    "import numpy as np\n",
    "import pandas as pd\n",
    "import requests\n",
    "import tqdm.notebook as tqdm\n",
    "import torch\n",
    "import torch.nn as nn\n",
    "import torch.nn.functional as F\n",
    "import torch.optim as optim\n",
    "import torch.utils.data as torch_data\n",
    "import torchaudio\n",
    "import urllib\n",
    "from torcheval.metrics import MulticlassAccuracy\n",
    "\n",
    "from IPython.display import clear_output\n",
    "\n",
    "%matplotlib inline"
   ]
  },
  {
   "cell_type": "code",
   "execution_count": 2,
   "metadata": {},
   "outputs": [],
   "source": [
    "# base_url = 'https://cloud-api.yandex.net/v1/disk/public/resources/download?'\n",
    "# public_key = 'https://disk.yandex.ru/d/gcGKZ_KsXZN4VA'\n",
    "# final_url = base_url + urllib.parse.urlencode(dict(public_key=public_key))\n",
    "# response = requests.get(final_url)\n",
    "# download_url = response.json()['href']\n",
    "# !wget -O data.tar.gz \"{download_url}\"\n",
    "# !tar -xf data.tar.gz"
   ]
  },
  {
   "cell_type": "code",
   "execution_count": 3,
   "metadata": {},
   "outputs": [],
   "source": [
    "DEVICE = 'cuda' # also you can use \"cuda\" for gpu and \"mps\" for apple silicon\n",
    "# DATADIR = '/mnt/hdd2/garage/ml_trains_data'\n",
    "# DATADIR = 'ml_trains_data'\n",
    "DATADIR = '/mnt/f/Temp/ml_trains_data'\n",
    "# DATADIR = '/mnt/c/temp/ml_trains_data'\n",
    "LOADER_WORKERS = 0"
   ]
  },
  {
   "cell_type": "code",
   "execution_count": 4,
   "metadata": {},
   "outputs": [],
   "source": [
    "class Dataset(torch_data.Dataset):\n",
    "    def __init__(self, split_part: str, datadir: str, feats: nn.Module, read_labels=True):\n",
    "        super().__init__()\n",
    "        data = pd.read_csv(os.path.join(datadir, f'{split_part}.tsv'), sep='\\t') #[:100]\n",
    "        if read_labels:\n",
    "            labels = {key: idx for idx, key in enumerate(sorted(set(data.label.values)))}\n",
    "            self._idx_to_label = {idx: key for idx, key in enumerate(sorted(set(data.label.values)))}\n",
    "            self._classes = len(labels)\n",
    "#             self._classes = 30\n",
    "        self._feats = feats\n",
    "        self._ytids = []\n",
    "        self._pathes = []\n",
    "        self._labels = []\n",
    "        self.data = []\n",
    "        for _, row in tqdm.tqdm(data.iterrows()):\n",
    "            path = os.path.join(datadir, 'clips', f'{row.YTID}.flac')\n",
    "            if os.path.exists(path):\n",
    "                self._ytids.append(row.YTID)\n",
    "                self._pathes.append(path)\n",
    "                self._labels.append(labels[row.label] if read_labels else 0)\n",
    "        for index in tqdm.tqdm(range(len(self._pathes))):\n",
    "            self.data.append(torchaudio.load(self._pathes[index])[0])\n",
    "#         self.data = [torchaudio.load(self._pathes[index]) for index in range(len(self._pathes))]\n",
    "        \n",
    "    def __getitem__(self, index):\n",
    "#         try:\n",
    "#             waveform, sample_rate = torchaudio.load(self._pathes[index])\n",
    "#         except Exception as err:\n",
    "#             logging.error(\"Can't read file %s\", self._pathes[index])\n",
    "#             raise err\n",
    "#         waveform, sample_rate = self.data[index]\n",
    "        waveform = self.data[index].clone()\n",
    "#         waveform = waveform.clone()\n",
    "#         assert sample_rate == 16000\n",
    "        assert waveform.shape[0] == 1\n",
    "        feats = self._feats(waveform)[0]\n",
    "        return (feats, self._labels[index])\n",
    "    \n",
    "#     def __getitem__(self, index):\n",
    "#         try:\n",
    "#             waveform, sample_rate = torchaudio.load(self._pathes[index])\n",
    "#         except Exception as err:\n",
    "#             logging.error(\"Can't read file %s\", self._pathes[index])\n",
    "#             raise err\n",
    "#         assert sample_rate == 16000\n",
    "#         assert waveform.shape[0] == 1\n",
    "#         feats = self._feats(waveform)[0]\n",
    "#         return (feats, self._labels[index])\n",
    "\n",
    "    def __len__(self) -> int:\n",
    "        return len(self._pathes)\n",
    "\n",
    "    def classes(self) -> int:\n",
    "        return self._classes\n",
    "\n",
    "\n",
    "def collate_fn(batch):\n",
    "    max_length = max(item[0].shape[1] for item in batch)\n",
    "    X = torch.zeros((len(batch), batch[0][0].shape[0], max_length))\n",
    "    for idx, item in enumerate(batch):\n",
    "        X[idx, :, :item[0].shape[1]] = item[0]\n",
    "    targets = torch.tensor([item[1] for item in batch], dtype=torch.long).reshape(len(batch), 1)\n",
    "    return (X, targets)"
   ]
  },
  {
   "cell_type": "markdown",
   "metadata": {},
   "source": [
    "### Feats part"
   ]
  },
  {
   "cell_type": "code",
   "execution_count": 49,
   "metadata": {},
   "outputs": [],
   "source": [
    "# >>> waveform, sample_rate = torchaudio.load(\"test.wav\", normalize=True)\n",
    "# transform = torchaudio.transforms.MFCC(\n",
    "#     sample_rate=16000,\n",
    "#     n_mfcc=40,\n",
    "#     melkwargs={\"n_fft\": 400, \"hop_length\": 160, \"n_mels\": 80, \"center\": False},\n",
    "# )\n",
    "# >>> mfcc = transform(waveform)"
   ]
  },
  {
   "cell_type": "code",
   "execution_count": 4,
   "metadata": {},
   "outputs": [
    {
     "ename": "NameError",
     "evalue": "name 'FEATS' is not defined",
     "output_type": "error",
     "traceback": [
      "\u001b[0;31m---------------------------------------------------------------------------\u001b[0m",
      "\u001b[0;31mNameError\u001b[0m                                 Traceback (most recent call last)",
      "Cell \u001b[0;32mIn[4], line 1\u001b[0m\n\u001b[0;32m----> 1\u001b[0m \u001b[38;5;28;01mclass\u001b[39;00m \u001b[38;5;21;01mMyPipeline\u001b[39;00m(torch\u001b[38;5;241m.\u001b[39mnn\u001b[38;5;241m.\u001b[39mModule):\n\u001b[1;32m      2\u001b[0m     \u001b[38;5;28;01mdef\u001b[39;00m \u001b[38;5;21m__init__\u001b[39m(\n\u001b[1;32m      3\u001b[0m         \u001b[38;5;28mself\u001b[39m,\n\u001b[1;32m      4\u001b[0m         input_freq\u001b[38;5;241m=\u001b[39m\u001b[38;5;241m16000\u001b[39m,\n\u001b[0;32m   (...)\u001b[0m\n\u001b[1;32m      8\u001b[0m         train\u001b[38;5;241m=\u001b[39m\u001b[38;5;28;01mTrue\u001b[39;00m\n\u001b[1;32m      9\u001b[0m     ):\n\u001b[1;32m     10\u001b[0m         \u001b[38;5;28msuper\u001b[39m()\u001b[38;5;241m.\u001b[39m\u001b[38;5;21m__init__\u001b[39m()\n",
      "Cell \u001b[0;32mIn[4], line 7\u001b[0m, in \u001b[0;36mMyPipeline\u001b[0;34m()\u001b[0m\n\u001b[1;32m      1\u001b[0m \u001b[38;5;28;01mclass\u001b[39;00m \u001b[38;5;21;01mMyPipeline\u001b[39;00m(torch\u001b[38;5;241m.\u001b[39mnn\u001b[38;5;241m.\u001b[39mModule):\n\u001b[1;32m      2\u001b[0m     \u001b[38;5;28;01mdef\u001b[39;00m \u001b[38;5;21m__init__\u001b[39m(\n\u001b[1;32m      3\u001b[0m         \u001b[38;5;28mself\u001b[39m,\n\u001b[1;32m      4\u001b[0m         input_freq\u001b[38;5;241m=\u001b[39m\u001b[38;5;241m16000\u001b[39m,\n\u001b[1;32m      5\u001b[0m         resample_freq\u001b[38;5;241m=\u001b[39m\u001b[38;5;241m16000\u001b[39m,\n\u001b[1;32m      6\u001b[0m         n_fft\u001b[38;5;241m=\u001b[39m\u001b[38;5;241m1024\u001b[39m,\n\u001b[0;32m----> 7\u001b[0m         n_mel\u001b[38;5;241m=\u001b[39m\u001b[43mFEATS\u001b[49m,\n\u001b[1;32m      8\u001b[0m         train\u001b[38;5;241m=\u001b[39m\u001b[38;5;28;01mTrue\u001b[39;00m\n\u001b[1;32m      9\u001b[0m     ):\n\u001b[1;32m     10\u001b[0m         \u001b[38;5;28msuper\u001b[39m()\u001b[38;5;241m.\u001b[39m\u001b[38;5;21m__init__\u001b[39m()\n\u001b[1;32m     12\u001b[0m         \u001b[38;5;28mself\u001b[39m\u001b[38;5;241m.\u001b[39mspec \u001b[38;5;241m=\u001b[39m torchaudio\u001b[38;5;241m.\u001b[39mtransforms\u001b[38;5;241m.\u001b[39mSpectrogram(n_fft\u001b[38;5;241m=\u001b[39mn_fft, power\u001b[38;5;241m=\u001b[39m\u001b[38;5;28;01mNone\u001b[39;00m)\n",
      "\u001b[0;31mNameError\u001b[0m: name 'FEATS' is not defined"
     ]
    }
   ],
   "source": [
    "class MyPipeline(torch.nn.Module):\n",
    "    def __init__(\n",
    "        self,\n",
    "        input_freq=16000,\n",
    "        resample_freq=16000,\n",
    "        n_fft=1024,\n",
    "        n_mel=FEATS,\n",
    "        train=True\n",
    "    ):\n",
    "        super().__init__()\n",
    "\n",
    "        self.spec = torchaudio.transforms.Spectrogram(n_fft=n_fft, power=None)\n",
    "\n",
    "#         self.spec_aug = torch.nn.Sequential(\n",
    "#             TimeStretch(stretch_factor, fixed_rate=True),\n",
    "#             FrequencyMasking(freq_mask_param=80),\n",
    "#             TimeMasking(time_mask_param=80),\n",
    "#         )\n",
    "        self.ts = torchaudio.transforms.TimeStretch(n_freq=1 + n_fft//2)\n",
    "        self.fm = torchaudio.transforms.FrequencyMasking(freq_mask_param=60, iid_masks=True,)\n",
    "        self.tm = torchaudio.transforms.TimeMasking(time_mask_param=80,iid_masks=True, p=0.5)\n",
    "\n",
    "        self.mel_scale = torchaudio.transforms.MelScale(\n",
    "            n_mels=n_mel, sample_rate=resample_freq, n_stft=n_fft // 2 + 1)\n",
    "        self.train = train\n",
    "        self.freq = input_freq\n",
    "        \n",
    "    def spec_aug(self, spec):\n",
    "#         print(spec.dtype)\n",
    "        if random.random() > 0.5:        \n",
    "            stretch_factor = 1.25 - (0.5 * random.random())        \n",
    "            spec = self.ts(spec, stretch_factor)\n",
    "#         print(spec.dtype)\n",
    "        spec = spec.abs().pow(2).to(torch.float32)\n",
    "        if random.random() > 0.5:\n",
    "            spec = self.fm(spec)\n",
    "        spec = spec.abs().pow(2).to(torch.float32)\n",
    "            \n",
    "        spec = self.tm(spec)\n",
    "#         print(spec.dtype)\n",
    "        \n",
    "        return spec\n",
    "        \n",
    "        \n",
    "    def forward(self, waveform: torch.Tensor) -> torch.Tensor:\n",
    "        # Resample the input\n",
    "#         resampled = self.resample(waveform)\n",
    "\n",
    "        # Convert to power spectrogram\n",
    "        spec = self.spec(waveform)\n",
    "\n",
    "        # Apply SpecAugment\n",
    "        if self.train:\n",
    "            spec = self.spec_aug(spec)\n",
    "        else:\n",
    "            spec = spec.abs().pow(2).to(torch.float32)\n",
    "            \n",
    "\n",
    "        # Convert to mel-scale\n",
    "        mel = self.mel_scale(spec)\n",
    "\n",
    "        return mel"
   ]
  },
  {
   "cell_type": "code",
   "execution_count": 5,
   "metadata": {},
   "outputs": [
    {
     "data": {
      "application/vnd.jupyter.widget-view+json": {
       "model_id": "a862746ec62a418f8ecb1fd34f66be69",
       "version_major": 2,
       "version_minor": 0
      },
      "text/plain": [
       "0it [00:00, ?it/s]"
      ]
     },
     "metadata": {},
     "output_type": "display_data"
    },
    {
     "data": {
      "application/vnd.jupyter.widget-view+json": {
       "model_id": "d8e34cac2bd44ed198f7f5a1c23506b3",
       "version_major": 2,
       "version_minor": 0
      },
      "text/plain": [
       "  0%|          | 0/26213 [00:00<?, ?it/s]"
      ]
     },
     "metadata": {},
     "output_type": "display_data"
    }
   ],
   "source": [
    "# Try to use LogMelSpectrogram or MFCC to achive better score\n",
    "class LogMelSpectrogram(nn.Module):\n",
    "    pass\n",
    "\n",
    "# FBANK 40 by default, but you can choose something else\n",
    "FEATS = 40\n",
    "# transforms = MyPipeline(n_mel=FEATS)\n",
    "# transforms_test = MyPipeline(n_mel=FEATS, train=False)\n",
    "# transforms = torchaudio.transforms.MFCC(\n",
    "#     sample_rate=16000,\n",
    "#     n_mfcc=FEATS,\n",
    "#     melkwargs={\"n_fft\": 400, \"hop_length\": 160, \"n_mels\": 80, \"center\": False},\n",
    "# )\n",
    "transforms = torchaudio.transforms.MelSpectrogram(n_mels=FEATS)\n",
    "trainset = Dataset('train', DATADIR, transforms)\n",
    "# testset = Dataset('eval', DATADIR, transforms_test, read_labels=False)\n",
    "# testset = Dataset('eval', DATADIR, transforms, read_labels=False)\n",
    "N_CLASSES = trainset.classes()\n",
    "assert N_CLASSES == 30"
   ]
  },
  {
   "cell_type": "code",
   "execution_count": 5,
   "metadata": {},
   "outputs": [
    {
     "name": "stdout",
     "output_type": "stream",
     "text": [
      "26213\n",
      "3000\n"
     ]
    }
   ],
   "source": [
    "print(len(trainset))\n",
    "print(len(testset))"
   ]
  },
  {
   "cell_type": "code",
   "execution_count": 6,
   "metadata": {},
   "outputs": [
    {
     "data": {
      "text/plain": [
       "(tensor([[ 0.0757,  0.1453,  0.0989,  ..., -0.0504, -0.0106, -0.0048]]), 16000)"
      ]
     },
     "execution_count": 6,
     "metadata": {},
     "output_type": "execute_result"
    }
   ],
   "source": [
    "# trainset.data[0]"
   ]
  },
  {
   "cell_type": "markdown",
   "metadata": {},
   "source": [
    "### Eval part\n",
    "\n",
    "Write balanced accuracy:\n",
    "$$BAcc = \\frac{1}{classes}\\sum_{c = 1}^{classes} \\frac{\\sum_i^n I(y_i = p_i = c)}{\\sum_i^n I(y_i = c)}$$\n",
    "\n",
    "Where:\n",
    "- $y_i$ -- target class for $i$ element\n",
    "- $p_i$ -- predicted class for $i$ element"
   ]
  },
  {
   "cell_type": "code",
   "execution_count": 6,
   "metadata": {},
   "outputs": [],
   "source": [
    "# Get list of pairs (target_class, predicted_class)\n",
    "# N_CLASSES = 30\n",
    "def balanced_accuracy(items: list[tuple[int, int]], classes=N_CLASSES) -> float:\n",
    "    ac = MulticlassAccuracy(average='macro', num_classes=classes)\n",
    "    x = torch.tensor([el[1] for el in items])\n",
    "    target = torch.tensor([el[0] for el in items])\n",
    "    ac.update(x, target)\n",
    "    return ac.compute()\n",
    "    # <YOUR CODE IS HERE>"
   ]
  },
  {
   "cell_type": "code",
   "execution_count": 7,
   "metadata": {},
   "outputs": [
    {
     "name": "stderr",
     "output_type": "stream",
     "text": [
      "/home/ak/miniconda3/envs/jup/lib/python3.10/site-packages/torcheval/metrics/functional/classification/accuracy.py:275: UserWarning: The reduce argument of torch.scatter with Tensor src is deprecated and will be removed in a future PyTorch release. Use torch.scatter_reduce instead for more reduction options. (Triggered internally at /opt/conda/conda-bld/pytorch_1729647382455/work/aten/src/ATen/native/TensorAdvancedIndexing.cpp:231.)\n",
      "  num_correct = mask.new_zeros(num_classes).scatter_(0, target, mask, reduce=\"add\")\n"
     ]
    }
   ],
   "source": [
    "assert np.isclose(balanced_accuracy([(0, 0), (0, 0), (1, 1)], 2), 1.0)\n",
    "assert np.isclose(balanced_accuracy([(0, 1), (1, 0)], 2), 0.0)\n",
    "assert np.isclose(balanced_accuracy([(0, 0), (0, 0), (1, 0)], 2), 0.5)\n",
    "assert np.isclose(balanced_accuracy([(0, 0), (1, 1), (0, 0), (0, 0), (1, 0), (0, 1)], 2), 0.625)\n",
    "assert np.isclose(balanced_accuracy([(1, 1), (0, 1), (2, 2)], 3), 0.66666666666666)"
   ]
  },
  {
   "cell_type": "markdown",
   "metadata": {},
   "source": [
    "### Train part\n",
    "Train some model with as big balanced accuracy as you can\n",
    "\n",
    "You can train any model you want. The only limitation is that it must be trained from scratch on the data provided in the task. For example you can choose model from:\n",
    "- DNN\n",
    "- CNN 1d\n",
    "- CNN 2d\n",
    "- Transformer\n",
    "- RNN\n",
    "- mixes of given models\n",
    "\n",
    "Hints:\n",
    "- No need to train large models for this task. 10 million parameters is more than you need.\n",
    "- Watch to overfitting, try to add Augmentation, Dropout, BatchNorm, L1/L2-Regulatization or something else.\n",
    "- Use poolings or strides to reduce time-dimenstion. It is better to reduce the dimension gradually rather than at the end.\n",
    "- Try different features (mel-spec, log-mel-spec, mfcc)"
   ]
  },
  {
   "cell_type": "code",
   "execution_count": 8,
   "metadata": {},
   "outputs": [],
   "source": [
    "def stage(\n",
    "    model: nn.Module,\n",
    "    data: torch_data.Dataset,\n",
    "    opt: optim.Optimizer,\n",
    "    batch_size: int = 128,\n",
    "    train: bool = True\n",
    "):\n",
    "    loader = torch_data.DataLoader(\n",
    "        data,\n",
    "        batch_size=batch_size,\n",
    "        shuffle=True,\n",
    "        num_workers=LOADER_WORKERS,\n",
    "        collate_fn=collate_fn\n",
    "    )\n",
    "    if train:\n",
    "        model.train()\n",
    "    else:\n",
    "        model.eval()\n",
    "    loss_sum, batches = 0.0, 0\n",
    "    pred_pairs = []\n",
    "    for X, Y in tqdm.tqdm(loader):\n",
    "        pred = model.forward(X.to(DEVICE))\n",
    "        loss = F.cross_entropy(pred.squeeze(), Y.squeeze().to(DEVICE))\n",
    "        if train:\n",
    "            opt.zero_grad()\n",
    "            loss.backward()\n",
    "            opt.step()\n",
    "        loss_sum += loss.item()\n",
    "        batches += 1\n",
    "        with torch.no_grad():\n",
    "            pred_pairs.extend(zip(\n",
    "                Y.data.numpy().reshape(-1),\n",
    "                torch.argmax(pred, dim=1).cpu().data.numpy().reshape(-1)\n",
    "            ))\n",
    "    return loss_sum / batches, balanced_accuracy(pred_pairs)\n",
    "\n",
    "\n",
    "def train(\n",
    "    model: nn.Module,\n",
    "    opt,\n",
    "    batch_size: int = 128,\n",
    "    epochs: int = 10,\n",
    "    starting_epoch: int = 0,\n",
    "    best_acc = 0\n",
    "):\n",
    "    trlen = len(trainset)\n",
    "    train_split = int(0.9 * trlen)\n",
    "    val_split = trlen - train_split\n",
    "    train_data, val_data = torch.utils.data.random_split(trainset, (train_split, val_split), generator=torch.Generator().manual_seed(42))\n",
    "    train_losses, val_losses, train_accs, val_accs = [], [], [], []\n",
    "    \n",
    "    for epoch in range(epochs):\n",
    "        epoch = starting_epoch + epoch\n",
    "        train_loss, train_acc = stage(model, train_data, opt, batch_size=batch_size)\n",
    "        val_loss, val_acc = stage(model, val_data, opt, batch_size=batch_size, train=False)\n",
    "        train_losses.append(train_loss)\n",
    "        train_accs.append(train_acc)\n",
    "        val_losses.append(val_loss)\n",
    "        val_accs.append(val_acc)\n",
    "        clear_output()\n",
    "        if val_acc >= best_acc:\n",
    "            best_acc = val_acc\n",
    "            save_cp(model, opt, epoch)\n",
    "        fig, axis = plt.subplots(1, 2, figsize=(15, 7))\n",
    "        axis[0].plot(np.arange(starting_epoch + 1, epoch + 2), train_losses, label='train')\n",
    "        axis[0].plot(np.arange(starting_epoch + 1, epoch + 2), val_losses, label='val')\n",
    "        axis[1].plot(np.arange(starting_epoch + 1, epoch + 2), train_accs, label='train')\n",
    "        axis[1].plot(np.arange(starting_epoch + 1, epoch + 2), val_accs, label='val')\n",
    "        axis[0].set(xlabel='epoch', ylabel='CE Loss')\n",
    "        axis[1].set(xlabel='epoch', ylabel='Accuracy')\n",
    "        fig.legend()\n",
    "        plt.show()\n",
    "        print(f'Epoch {epoch + 1}.')\n",
    "        print(f'Train loss {train_loss}. Train accuracy {train_acc}.')\n",
    "        print(f'Test loss {val_loss}. Test accuracy {val_acc}')"
   ]
  },
  {
   "cell_type": "code",
   "execution_count": 9,
   "metadata": {},
   "outputs": [],
   "source": [
    "class rdo(nn.Module):\n",
    "    def __init__(self, dropout_rate=0.15):\n",
    "        super().__init__()\n",
    "        self.do = torch.nn.Dropout(dropout_rate)\n",
    "        self.rl = torch.nn.ReLU6()\n",
    "    \n",
    "    def forward(self, X):\n",
    "        return self.do(self.rl(X))"
   ]
  },
  {
   "cell_type": "code",
   "execution_count": 10,
   "metadata": {},
   "outputs": [],
   "source": [
    "class Model(nn.Module):\n",
    "    def __init__(self, in_dim=FEATS, out_dim=N_CLASSES):\n",
    "        super().__init__()\n",
    "        self.s = torch.nn.Sequential(\n",
    "            torch.nn.Conv2d(in_dim, 80, 3, padding=1),\n",
    "            rdo(),\n",
    "#             torch.nn.ReLU6(),\n",
    "#             torch.nn.Dropout(0.1),\n",
    "            torch.nn.Conv2d(80, 120, 5, padding=2, stride=(2, 1)),\n",
    "            rdo(),\n",
    "            \n",
    "#             torch.nn.ReLU6(),\n",
    "#             torch.nn.Dropout(0.1),            \n",
    "            torch.nn.Conv2d(120, 128, 7, padding=3, stride=(2, 1)),\n",
    "            rdo(),\n",
    "            \n",
    "#             torch.nn.ReLU6(),\n",
    "#             torch.nn.Dropout(0.1),            \n",
    "            torch.nn.Conv2d(128, 128, 3, padding=1, stride=(2, 1)),\n",
    "            rdo(),\n",
    "            \n",
    "#             torch.nn.ReLU6(),\n",
    "#             torch.nn.Dropout(0.1),\n",
    "            torch.nn.Conv2d(128, 128, 3, padding=1, stride=(2, 1)),            \n",
    "#             torch.nn.Conv2d(40, 40, 3, padding=1),\n",
    "            rdo(),\n",
    "            \n",
    "#             torch.nn.ReLU6(),    \n",
    "#             torch.nn.Dropout(0.1),            \n",
    "        )\n",
    "        self.do = torch.nn.Dropout(0.2)\n",
    "        self.rnn = torch.nn.LSTM(128, 128, batch_first=True, )\n",
    "        self.lin0 = torch.nn.Linear(128, 128)\n",
    "        self.act = torch.nn.ReLU6()\n",
    "        self.lin1 = torch.nn.Linear(128, out_dim)\n",
    "        # <YOUR CODE IS HERE>\n",
    "        pass\n",
    "\n",
    "    def forward(self, X):\n",
    "        X = X.unsqueeze(-2)\n",
    "        X = self.s(X)\n",
    "        h0 = torch.zeros((1, X.shape[0],  self.rnn.hidden_size)).to(X.device)\n",
    "        c0 = torch.zeros((1, X.shape[0], self.rnn.hidden_size)).to(X.device)\n",
    "#         print(X.shape)\n",
    "#         print(X.device)\n",
    "#         print(h0.shape)\n",
    "        for i in range(X.shape[-1]):\n",
    "#             print(X[..., i].shape)\n",
    "            x = X[..., i].squeeze(-1).unsqueeze(-2)\n",
    "#             print(x.shape)\n",
    "            \n",
    "            pred, (h0, c0) = self.rnn(x, (h0, c0))\n",
    "#             print(pred.shape)\n",
    "#             print(h0.shape)\n",
    "#             print(c0.shape)\n",
    "#         print(h0.shape)\n",
    "\n",
    "        X = self.lin0(h0.squeeze(0))\n",
    "        X = self.act(X)\n",
    "        X = self.do(X)\n",
    "        X = self.lin1(X)\n",
    "        X = self.act(X)        \n",
    "        return X\n",
    "        # input: [batch_size, IN_FEATURES, TIME]\n",
    "        # output: [batch_size, N_CLASSES]\n",
    "        # <YOUR CODE IS HERE>\n",
    "        pass\n",
    "model = Model().to(DEVICE)"
   ]
  },
  {
   "cell_type": "code",
   "execution_count": null,
   "metadata": {},
   "outputs": [],
   "source": []
  },
  {
   "cell_type": "code",
   "execution_count": 27,
   "metadata": {},
   "outputs": [],
   "source": [
    "# x = torch.ones([256, 40, 801]).to(DEVICE)"
   ]
  },
  {
   "cell_type": "code",
   "execution_count": 24,
   "metadata": {},
   "outputs": [],
   "source": [
    "# model(x).shape"
   ]
  },
  {
   "cell_type": "code",
   "execution_count": 15,
   "metadata": {},
   "outputs": [],
   "source": [
    "# rnn = torch.nn.LSTM(10, 20, 2)\n",
    "# i = torch.randn(5, 3, 10)\n",
    "# h0 = torch.randn(2, 3, 20)\n",
    "# c0 = torch.randn(2, 3, 20)\n",
    "# output, (hn, cn) = rnn(i, (h0, c0))"
   ]
  },
  {
   "cell_type": "code",
   "execution_count": 14,
   "metadata": {},
   "outputs": [],
   "source": [
    "# output.shape"
   ]
  },
  {
   "cell_type": "code",
   "execution_count": 11,
   "metadata": {},
   "outputs": [],
   "source": [
    "def save_cp(model, opt, epoch):\n",
    "    torch.save({\n",
    "                'epoch': epoch,\n",
    "                'model_state_dict': model.state_dict(),\n",
    "                'optimizer_state_dict': opt.state_dict(),\n",
    "\n",
    "                }, f\"checkpoint_{epoch:03}.pth\")"
   ]
  },
  {
   "cell_type": "code",
   "execution_count": 12,
   "metadata": {},
   "outputs": [],
   "source": [
    "def load_cp(model, opt, path):\n",
    "    checkpoint = torch.load(path, weights_only=True)\n",
    "    model.load_state_dict(checkpoint['model_state_dict'])\n",
    "    opt.load_state_dict(checkpoint['optimizer_state_dict'])\n",
    "\n",
    "    "
   ]
  },
  {
   "cell_type": "code",
   "execution_count": null,
   "metadata": {},
   "outputs": [],
   "source": [
    "opt = optim.AdamW(model.parameters(), lr=0.0035)"
   ]
  },
  {
   "cell_type": "code",
   "execution_count": 19,
   "metadata": {},
   "outputs": [],
   "source": [
    "load_cp(model, opt, \"checkpoint_083.pth\")"
   ]
  },
  {
   "cell_type": "code",
   "execution_count": 14,
   "metadata": {},
   "outputs": [],
   "source": [
    "for g in opt.param_groups:\n",
    "    g['lr'] = 0.0001"
   ]
  },
  {
   "cell_type": "code",
   "execution_count": 18,
   "metadata": {
    "scrolled": false
   },
   "outputs": [
    {
     "data": {
      "image/png": "[encoded data removed]",
      "text/plain": [
       "<Figure size 1500x700 with 2 Axes>"
      ]
     },
     "metadata": {},
     "output_type": "display_data"
    },
    {
     "name": "stdout",
     "output_type": "stream",
     "text": [
      "Epoch 87.\n",
      "Train loss 2.0687995844698968. Train accuracy 0.3838825225830078.\n",
      "Test loss 2.1073584159215293. Test accuracy 0.3767944574356079\n"
     ]
    }
   ],
   "source": [
    "train(model, opt, batch_size=512, epochs=15, starting_epoch=72, best_acc=0.376)"
   ]
  },
  {
   "cell_type": "markdown",
   "metadata": {},
   "source": [
    "### Prediction part\n",
    "\n",
    "Prepare result file and send it to Yandex.Contest"
   ]
  },
  {
   "cell_type": "code",
   "execution_count": 39,
   "metadata": {},
   "outputs": [],
   "source": [
    "# feats.reshape(1, FEATS, -1).shape"
   ]
  },
  {
   "cell_type": "code",
   "execution_count": 20,
   "metadata": {},
   "outputs": [
    {
     "data": {
      "application/vnd.jupyter.widget-view+json": {
       "model_id": "9514e5c2440a43ea86d61ceac866631b",
       "version_major": 2,
       "version_minor": 0
      },
      "text/plain": [
       "0it [00:00, ?it/s]"
      ]
     },
     "metadata": {},
     "output_type": "display_data"
    },
    {
     "data": {
      "application/vnd.jupyter.widget-view+json": {
       "model_id": "23443f0da5734c1289efaa0b479ed0d5",
       "version_major": 2,
       "version_minor": 0
      },
      "text/plain": [
       "  0%|          | 0/3000 [00:00<?, ?it/s]"
      ]
     },
     "metadata": {},
     "output_type": "display_data"
    },
    {
     "data": {
      "application/vnd.jupyter.widget-view+json": {
       "model_id": "6ced876305ee47839ea0fb6a01e8c5bd",
       "version_major": 2,
       "version_minor": 0
      },
      "text/plain": [
       "0it [00:00, ?it/s]"
      ]
     },
     "metadata": {},
     "output_type": "display_data"
    }
   ],
   "source": [
    "model.eval()\n",
    "# del(trainset)\n",
    "testset = Dataset('eval', DATADIR, transforms, read_labels=False)\n",
    "\n",
    "result = []\n",
    "for idx, ytid in tqdm.tqdm(enumerate(testset._ytids)):\n",
    "    feats, _ = testset[idx]\n",
    "    predict = torch.argmax(model.forward(feats.reshape(1, FEATS, -1).to(DEVICE)), dim=1).item()\n",
    "    result.append((ytid, trainset._idx_to_label[predict]))\n",
    "pd.DataFrame(result, columns=['YTID', 'label']).to_csv('result.tsv', sep='\\t', index=False)"
   ]
  },
  {
   "cell_type": "code",
   "execution_count": 17,
   "metadata": {},
   "outputs": [],
   "source": [
    "del(testset)"
   ]
  },
  {
   "cell_type": "code",
   "execution_count": null,
   "metadata": {},
   "outputs": [],
   "source": [
    "# torch.save(model.state_dict(), \"checkpoint_10.pth\")"
   ]
  },
  {
   "cell_type": "code",
   "execution_count": 28,
   "metadata": {},
   "outputs": [],
   "source": [
    "# save_cp(model, opt, 42)"
   ]
  },
  {
   "cell_type": "code",
   "execution_count": null,
   "metadata": {},
   "outputs": [],
   "source": []
  }
 ],
 "metadata": {
  "kernelspec": {
   "display_name": "Python 3 (ipykernel)",
   "language": "python",
   "name": "python3"
  },
  "language_info": {
   "codemirror_mode": {
    "name": "ipython",
    "version": 3
   },
   "file_extension": ".py",
   "mimetype": "text/x-python",
   "name": "python",
   "nbconvert_exporter": "python",
   "pygments_lexer": "ipython3",
   "version": "3.10.13"
  }
 },
 "nbformat": 4,
 "nbformat_minor": 4
}
